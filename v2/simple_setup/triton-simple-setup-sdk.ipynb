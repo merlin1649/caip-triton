{
 "cells": [
  {
   "cell_type": "markdown",
   "metadata": {},
   "source": [
    "# Deploying NVIDIA Triton Inference Server in AI Platform Prediction Custom Container (Google Cloud SDK)"
   ]
  },
  {
   "cell_type": "markdown",
   "metadata": {},
   "source": [
    "In this notebook, we will walk through the process of deploying NVIDIA's Triton Inference Server into AI Platform Prediction Custom Container service in the Direct Model Server mode:\n",
    "\n",
    "![](img/caip_triton_container_diagram_direct.jpg)\n"
   ]
  },
  {
   "cell_type": "code",
   "execution_count": null,
   "metadata": {},
   "outputs": [],
   "source": [
    "PROJECT_ID='[Enter project name - REQUIRED]'\n",
    "REPOSITORY='caipcustom'\n",
    "REGION='us-central1'\n",
    "TRITON_VERSION='20.06'"
   ]
  },
  {
   "cell_type": "code",
   "execution_count": null,
   "metadata": {},
   "outputs": [],
   "source": [
    "import os\n",
    "import random\n",
    "import requests\n",
    "import json\n",
    "\n",
    "MODEL_BUCKET='gs://{}-{}'.format(PROJECT_ID,random.randint(10000,99999))\n",
    "ENDPOINT='https://{}-ml.googleapis.com/v1'.format(REGION)\n",
    "TRITON_IMAGE='tritonserver:{}-py3'.format(TRITON_VERSION)\n",
    "CAIP_IMAGE='{}-docker.pkg.dev/{}/{}/{}'.format(REGION,PROJECT_ID,REPOSITORY,TRITON_IMAGE)"
   ]
  },
  {
   "cell_type": "code",
   "execution_count": 1,
   "metadata": {},
   "outputs": [],
   "source": [
    "'''\n",
    "# Test values\n",
    "\n",
    "PROJECT_ID='tsaikevin-1236'\n",
    "REPOSITORY='caipcustom'\n",
    "REGION='us-central1'\n",
    "TRITON_VERSION='20.06'\n",
    "\n",
    "import os\n",
    "import random\n",
    "import requests\n",
    "import json\n",
    "\n",
    "MODEL_BUCKET='gs://{}-{}'.format(PROJECT_ID,random.randint(10000,99999))\n",
    "ENDPOINT='https://{}-ml.googleapis.com/v1'.format(REGION)\n",
    "TRITON_IMAGE='tritonserver:{}-py3'.format(TRITON_VERSION)\n",
    "CAIP_IMAGE='{}-docker.pkg.dev/{}/{}/{}'.format(REGION,PROJECT_ID,REPOSITORY,TRITON_IMAGE)\n",
    "'''"
   ]
  },
  {
   "cell_type": "code",
   "execution_count": 2,
   "metadata": {},
   "outputs": [
    {
     "name": "stdout",
     "output_type": "stream",
     "text": [
      "Updated property [core/project].\n"
     ]
    }
   ],
   "source": [
    "!gcloud config set project $PROJECT_ID"
   ]
  },
  {
   "cell_type": "markdown",
   "metadata": {},
   "source": [
    "### Create the Artifact Registry\n",
    "This will be used to store the container image for the model server Triton."
   ]
  },
  {
   "cell_type": "code",
   "execution_count": 3,
   "metadata": {},
   "outputs": [
    {
     "name": "stdout",
     "output_type": "stream",
     "text": [
      "\u001b[1;31mERROR:\u001b[0m (gcloud.beta.artifacts.repositories.create) ALREADY_EXISTS: the repository already exists\n"
     ]
    }
   ],
   "source": [
    "!gcloud beta artifacts repositories create $REPOSITORY --repository-format=docker --location=$REGION"
   ]
  },
  {
   "cell_type": "code",
   "execution_count": 4,
   "metadata": {},
   "outputs": [
    {
     "name": "stdout",
     "output_type": "stream",
     "text": [
      "\u001b[1;33mWARNING:\u001b[0m Your config file at [/home/jupyter/.docker/config.json] contains these credential helper entries:\n",
      "\n",
      "{\n",
      "  \"credHelpers\": {\n",
      "    \"gcr.io\": \"gcloud\",\n",
      "    \"us.gcr.io\": \"gcloud\",\n",
      "    \"eu.gcr.io\": \"gcloud\",\n",
      "    \"asia.gcr.io\": \"gcloud\",\n",
      "    \"staging-k8s.gcr.io\": \"gcloud\",\n",
      "    \"marketplace.gcr.io\": \"gcloud\",\n",
      "    \"us-central1-docker.pkg.dev\": \"gcloud\"\n",
      "  }\n",
      "}\n",
      "Adding credentials for: us-central1-docker.pkg.dev\n",
      "gcloud credential helpers already registered correctly.\n"
     ]
    }
   ],
   "source": [
    "!gcloud beta auth configure-docker $REGION-docker.pkg.dev --quiet"
   ]
  },
  {
   "cell_type": "markdown",
   "metadata": {},
   "source": [
    "### Prepare the container\n",
    "We will make a copy of the Triton container image into the Artifact Registry, where AI Platform Custom Container Prediction will only pull from during Model Version setup. The following steps will download the NVIDIA Triton Inference Server container to your VM, then upload it to your repo."
   ]
  },
  {
   "cell_type": "code",
   "execution_count": 5,
   "metadata": {},
   "outputs": [
    {
     "name": "stdout",
     "output_type": "stream",
     "text": [
      "20.06-py3: Pulling from nvidia/tritonserver\n",
      "Digest: sha256:36f94c39221c4e19921d44296690991057bbebbb15f59dacd88e25ff331bd307\n",
      "Status: Image is up to date for nvcr.io/nvidia/tritonserver:20.06-py3\n",
      "nvcr.io/nvidia/tritonserver:20.06-py3\n",
      "The push refers to repository [us-central1-docker.pkg.dev/tsaikevin-1236/caipcustom/tritonserver]\n",
      "\n",
      "\u001b[1B7aefd4ea: Preparing \n",
      "\u001b[1Bab22f50a: Preparing \n",
      "\u001b[1B4bb8a14c: Preparing \n",
      "\u001b[1Bc357696a: Preparing \n",
      "\u001b[1B35b111ce: Preparing \n",
      "\u001b[1B422b8a56: Preparing \n",
      "\u001b[1B5c73ed66: Preparing \n",
      "\u001b[1B91761c8c: Preparing \n",
      "\u001b[1Bdcbd0b8f: Preparing \n",
      "\u001b[1B3fad0b37: Preparing \n",
      "\u001b[1Bbca7086a: Preparing \n",
      "\u001b[1Ba1fe0dac: Preparing \n",
      "\u001b[1B16262158: Preparing \n",
      "\u001b[1Bfaf9c798: Preparing \n",
      "\u001b[1B4dd7a77b: Preparing \n",
      "\u001b[1B4f618f62: Preparing \n",
      "\u001b[1B114ab5c3: Preparing \n",
      "\u001b[1Bb7588393: Preparing \n",
      "\u001b[1B7a4b3a0b: Preparing \n",
      "\u001b[1B3708beeb: Preparing \n",
      "\u001b[1Bc2e3c7b1: Preparing \n",
      "\u001b[1B43d8d50a: Preparing \n",
      "\u001b[1B9bd9798f: Preparing \n",
      "\u001b[1B27c9414b: Preparing \n",
      "\u001b[1B4c1700eb: Preparing \n",
      "\u001b[1B46c23e3a: Preparing \n",
      "\u001b[1Bb877a610: Preparing \n",
      "\u001b[1Be28a7437: Preparing \n",
      "\u001b[1Bd0584a68: Preparing \n",
      "\u001b[1Bcd722629: Preparing \n",
      "\u001b[1B7d6d8dba: Preparing \n",
      "\u001b[1Bf0c094ce: Preparing \n",
      "\u001b[1B579ef21b: Preparing \n",
      "\u001b[1Bd3acfe42: Preparing \n",
      "\u001b[1B29219aba: Preparing \n",
      "\u001b[1Be3bdea67: Preparing \n",
      "\u001b[1B7458d04b: Preparing \n",
      "\u001b[1B37a24627: Preparing \n",
      "\u001b[1Bef4a95c3: Preparing \n",
      "\u001b[2Bef4a95c3: Layer already exists \u001b[39A\u001b[2K\u001b[31A\u001b[2K\u001b[26A\u001b[2K\u001b[21A\u001b[2K\u001b[15A\u001b[2K\u001b[9A\u001b[2K\u001b[2A\u001b[2K20.06-py3: digest: sha256:36f94c39221c4e19921d44296690991057bbebbb15f59dacd88e25ff331bd307 size: 8683\n"
     ]
    }
   ],
   "source": [
    "!docker pull nvcr.io/nvidia/$TRITON_IMAGE && \\\n",
    " docker tag nvcr.io/nvidia/$TRITON_IMAGE $CAIP_IMAGE && \\\n",
    " docker push $CAIP_IMAGE"
   ]
  },
  {
   "cell_type": "markdown",
   "metadata": {},
   "source": [
    "### Prepare model Artifacts\n",
    "Clone the NVIDIA Triton Inference Server repo."
   ]
  },
  {
   "cell_type": "code",
   "execution_count": 6,
   "metadata": {},
   "outputs": [
    {
     "name": "stdout",
     "output_type": "stream",
     "text": [
      "Cloning into 'server'...\n",
      "remote: Enumerating objects: 62, done.\u001b[K\n",
      "remote: Counting objects: 100% (62/62), done.\u001b[K\n",
      "remote: Compressing objects: 100% (47/47), done.\u001b[K\n",
      "remote: Total 25522 (delta 27), reused 37 (delta 15), pack-reused 25460\u001b[K\n",
      "Receiving objects: 100% (25522/25522), 14.27 MiB | 22.48 MiB/s, done.\n",
      "Resolving deltas: 100% (18876/18876), done.\n"
     ]
    }
   ],
   "source": [
    "!git clone -b r$TRITON_VERSION https://github.com/triton-inference-server/server.git"
   ]
  },
  {
   "cell_type": "markdown",
   "metadata": {},
   "source": [
    "Create the GCS bucket where the model artifacts will be copied to."
   ]
  },
  {
   "cell_type": "code",
   "execution_count": 7,
   "metadata": {},
   "outputs": [
    {
     "name": "stdout",
     "output_type": "stream",
     "text": [
      "Creating gs://tsaikevin-1236-21636/...\n"
     ]
    }
   ],
   "source": [
    "!gsutil mb $MODEL_BUCKET"
   ]
  },
  {
   "cell_type": "markdown",
   "metadata": {},
   "source": [
    "Stage model artifacts and copy to bucket."
   ]
  },
  {
   "cell_type": "code",
   "execution_count": 8,
   "metadata": {},
   "outputs": [],
   "source": [
    "!mkdir model_repository"
   ]
  },
  {
   "cell_type": "code",
   "execution_count": null,
   "metadata": {},
   "outputs": [],
   "source": [
    "'''\n",
    "%cd triton-inference-server\n",
    "!git checkout r$TRITON_VERSION\n",
    "%cd ..\n",
    "'''"
   ]
  },
  {
   "cell_type": "code",
   "execution_count": 9,
   "metadata": {},
   "outputs": [],
   "source": [
    "!cp -R server/docs/examples/model_repository/* model_repository/"
   ]
  },
  {
   "cell_type": "code",
   "execution_count": 10,
   "metadata": {},
   "outputs": [
    {
     "name": "stdout",
     "output_type": "stream",
     "text": [
      "+ mkdir -p model_repository/resnet50_netdef/1\n",
      "+ wget -O model_repository/resnet50_netdef/1/model.netdef http://download.caffe2.ai.s3.amazonaws.com/models/resnet50/predict_net.pb\n",
      "--2020-10-27 04:40:42--  http://download.caffe2.ai.s3.amazonaws.com/models/resnet50/predict_net.pb\n",
      "Resolving download.caffe2.ai.s3.amazonaws.com (download.caffe2.ai.s3.amazonaws.com)... 52.216.244.196\n",
      "Connecting to download.caffe2.ai.s3.amazonaws.com (download.caffe2.ai.s3.amazonaws.com)|52.216.244.196|:80... connected.\n",
      "HTTP request sent, awaiting response... 200 OK\n",
      "Length: 31649 (31K) [binary/octet-stream]\n",
      "Saving to: ‘model_repository/resnet50_netdef/1/model.netdef’\n",
      "\n",
      "model_repository/re 100%[===================>]  30.91K  --.-KB/s    in 0.03s   \n",
      "\n",
      "2020-10-27 04:40:43 (1.11 MB/s) - ‘model_repository/resnet50_netdef/1/model.netdef’ saved [31649/31649]\n",
      "\n",
      "+ wget -O model_repository/resnet50_netdef/1/init_model.netdef http://download.caffe2.ai.s3.amazonaws.com/models/resnet50/init_net.pb\n",
      "--2020-10-27 04:40:43--  http://download.caffe2.ai.s3.amazonaws.com/models/resnet50/init_net.pb\n",
      "Resolving download.caffe2.ai.s3.amazonaws.com (download.caffe2.ai.s3.amazonaws.com)... 52.216.244.196\n",
      "Connecting to download.caffe2.ai.s3.amazonaws.com (download.caffe2.ai.s3.amazonaws.com)|52.216.244.196|:80... connected.\n",
      "HTTP request sent, awaiting response... 200 OK\n",
      "Length: 128070759 (122M) [application/x-www-form-urlencoded]\n",
      "Saving to: ‘model_repository/resnet50_netdef/1/init_model.netdef’\n",
      "\n",
      "model_repository/re 100%[===================>] 122.14M  79.8MB/s    in 1.5s    \n",
      "\n",
      "2020-10-27 04:40:44 (79.8 MB/s) - ‘model_repository/resnet50_netdef/1/init_model.netdef’ saved [128070759/128070759]\n",
      "\n",
      "+ mkdir -p model_repository/inception_graphdef/1\n",
      "+ wget -O /tmp/inception_v3_2016_08_28_frozen.pb.tar.gz https://storage.googleapis.com/download.tensorflow.org/models/inception_v3_2016_08_28_frozen.pb.tar.gz\n",
      "--2020-10-27 04:40:44--  https://storage.googleapis.com/download.tensorflow.org/models/inception_v3_2016_08_28_frozen.pb.tar.gz\n",
      "Resolving storage.googleapis.com (storage.googleapis.com)... 172.217.212.128, 172.217.214.128, 173.194.197.128, ...\n",
      "Connecting to storage.googleapis.com (storage.googleapis.com)|172.217.212.128|:443... connected.\n",
      "HTTP request sent, awaiting response... 200 OK\n",
      "Length: 88668554 (85M) [application/gzip]\n",
      "Saving to: ‘/tmp/inception_v3_2016_08_28_frozen.pb.tar.gz’\n",
      "\n",
      "/tmp/inception_v3_2 100%[===================>]  84.56M   103MB/s    in 0.8s    \n",
      "\n",
      "2020-10-27 04:40:45 (103 MB/s) - ‘/tmp/inception_v3_2016_08_28_frozen.pb.tar.gz’ saved [88668554/88668554]\n",
      "\n",
      "+ cd /tmp\n",
      "+ tar xzf inception_v3_2016_08_28_frozen.pb.tar.gz\n",
      "+ mv /tmp/inception_v3_2016_08_28_frozen.pb model_repository/inception_graphdef/1/model.graphdef\n",
      "+ mkdir -p model_repository/densenet_onnx/1\n",
      "+ wget -O model_repository/densenet_onnx/1/model.onnx https://contentmamluswest001.blob.core.windows.net/content/14b2744cf8d6418c87ffddc3f3127242/9502630827244d60a1214f250e3bbca7/08aed7327d694b8dbaee2c97b8d0fcba/densenet121-1.2.onnx\n",
      "--2020-10-27 04:40:47--  https://contentmamluswest001.blob.core.windows.net/content/14b2744cf8d6418c87ffddc3f3127242/9502630827244d60a1214f250e3bbca7/08aed7327d694b8dbaee2c97b8d0fcba/densenet121-1.2.onnx\n",
      "Resolving contentmamluswest001.blob.core.windows.net (contentmamluswest001.blob.core.windows.net)... 13.88.144.240\n",
      "Connecting to contentmamluswest001.blob.core.windows.net (contentmamluswest001.blob.core.windows.net)|13.88.144.240|:443... connected.\n",
      "HTTP request sent, awaiting response... 200 OK\n",
      "Length: 32719461 (31M) [application/octet-stream]\n",
      "Saving to: ‘model_repository/densenet_onnx/1/model.onnx’\n",
      "\n",
      "model_repository/de 100%[===================>]  31.20M  17.9MB/s    in 1.7s    \n",
      "\n",
      "2020-10-27 04:40:49 (17.9 MB/s) - ‘model_repository/densenet_onnx/1/model.onnx’ saved [32719461/32719461]\n",
      "\n"
     ]
    }
   ],
   "source": [
    "!./server/docs/examples/fetch_models.sh"
   ]
  },
  {
   "cell_type": "code",
   "execution_count": 11,
   "metadata": {},
   "outputs": [
    {
     "name": "stdout",
     "output_type": "stream",
     "text": [
      "Copying file://model_repository/simple/config.pbtxt [Content-Type=application/octet-stream]...\n",
      "Copying file://model_repository/simple/1/model.graphdef [Content-Type=application/octet-stream]...\n",
      "Copying file://model_repository/inception_graphdef/inception_labels.txt [Content-Type=text/plain]...\n",
      "Copying file://model_repository/resnet50_netdef/config.pbtxt [Content-Type=application/octet-stream]...\n",
      "Copying file://model_repository/inception_graphdef/config.pbtxt [Content-Type=application/octet-stream]...\n",
      "Copying file://model_repository/inception_graphdef/1/model.graphdef [Content-Type=application/octet-stream]...\n",
      "Copying file://model_repository/resnet50_netdef/1/model.netdef [Content-Type=application/octet-stream]...\n",
      "Copying file://model_repository/resnet50_netdef/resnet50_labels.txt [Content-Type=text/plain]...\n",
      "Copying file://model_repository/resnet50_netdef/1/init_model.netdef [Content-Type=application/octet-stream]...\n",
      "Copying file://model_repository/densenet_onnx/config.pbtxt [Content-Type=application/octet-stream]...\n",
      "Copying file://model_repository/densenet_onnx/1/model.onnx [Content-Type=application/octet-stream]...\n",
      "Copying file://model_repository/densenet_onnx/densenet_labels.txt [Content-Type=text/plain]...\n",
      "Copying file://model_repository/simple_string/config.pbtxt [Content-Type=application/octet-stream]...\n",
      "Copying file://model_repository/simple_string/1/model.graphdef [Content-Type=application/octet-stream]...\n",
      "/ [14/14 files][244.7 MiB/244.7 MiB] 100% Done                                  \n",
      "Operation completed over 14 objects/244.7 MiB.                                   \n"
     ]
    }
   ],
   "source": [
    "!gsutil -m cp -R model_repository/ $MODEL_BUCKET"
   ]
  },
  {
   "cell_type": "code",
   "execution_count": 12,
   "metadata": {},
   "outputs": [
    {
     "name": "stdout",
     "output_type": "stream",
     "text": [
      "gs://tsaikevin-1236-21636/model_repository/:\n",
      "\n",
      "gs://tsaikevin-1236-21636/model_repository/densenet_onnx/:\n",
      "       387  2020-10-27T04:40:51Z  gs://tsaikevin-1236-21636/model_repository/densenet_onnx/config.pbtxt\n",
      "     10311  2020-10-27T04:40:51Z  gs://tsaikevin-1236-21636/model_repository/densenet_onnx/densenet_labels.txt\n",
      "\n",
      "gs://tsaikevin-1236-21636/model_repository/densenet_onnx/1/:\n",
      "  32719461  2020-10-27T04:40:52Z  gs://tsaikevin-1236-21636/model_repository/densenet_onnx/1/model.onnx\n",
      "\n",
      "gs://tsaikevin-1236-21636/model_repository/inception_graphdef/:\n",
      "       340  2020-10-27T04:40:51Z  gs://tsaikevin-1236-21636/model_repository/inception_graphdef/config.pbtxt\n",
      "     10329  2020-10-27T04:40:51Z  gs://tsaikevin-1236-21636/model_repository/inception_graphdef/inception_labels.txt\n",
      "\n",
      "gs://tsaikevin-1236-21636/model_repository/inception_graphdef/1/:\n",
      "  95746802  2020-10-27T04:40:52Z  gs://tsaikevin-1236-21636/model_repository/inception_graphdef/1/model.graphdef\n",
      "\n",
      "gs://tsaikevin-1236-21636/model_repository/resnet50_netdef/:\n",
      "       317  2020-10-27T04:40:51Z  gs://tsaikevin-1236-21636/model_repository/resnet50_netdef/config.pbtxt\n",
      "     10311  2020-10-27T04:40:51Z  gs://tsaikevin-1236-21636/model_repository/resnet50_netdef/resnet50_labels.txt\n",
      "\n",
      "gs://tsaikevin-1236-21636/model_repository/resnet50_netdef/1/:\n",
      " 128070759  2020-10-27T04:40:53Z  gs://tsaikevin-1236-21636/model_repository/resnet50_netdef/1/init_model.netdef\n",
      "     31649  2020-10-27T04:40:51Z  gs://tsaikevin-1236-21636/model_repository/resnet50_netdef/1/model.netdef\n",
      "\n",
      "gs://tsaikevin-1236-21636/model_repository/simple/:\n",
      "       370  2020-10-27T04:40:51Z  gs://tsaikevin-1236-21636/model_repository/simple/config.pbtxt\n",
      "\n",
      "gs://tsaikevin-1236-21636/model_repository/simple/1/:\n",
      "       310  2020-10-27T04:40:51Z  gs://tsaikevin-1236-21636/model_repository/simple/1/model.graphdef\n",
      "\n",
      "gs://tsaikevin-1236-21636/model_repository/simple_string/:\n",
      "       382  2020-10-27T04:40:51Z  gs://tsaikevin-1236-21636/model_repository/simple_string/config.pbtxt\n",
      "\n",
      "gs://tsaikevin-1236-21636/model_repository/simple_string/1/:\n",
      "       696  2020-10-27T04:40:51Z  gs://tsaikevin-1236-21636/model_repository/simple_string/1/model.graphdef\n",
      "TOTAL: 14 objects, 256602424 bytes (244.72 MiB)\n"
     ]
    }
   ],
   "source": [
    "!gsutil ls -RLl $MODEL_BUCKET/model_repository"
   ]
  },
  {
   "cell_type": "markdown",
   "metadata": {},
   "source": [
    "### Prepare request payload\n",
    "\n",
    "To prepare the payload format, we have included a utility get_request_body_simple.py.  To use this utility, install the following library:"
   ]
  },
  {
   "cell_type": "code",
   "execution_count": 13,
   "metadata": {},
   "outputs": [
    {
     "name": "stdout",
     "output_type": "stream",
     "text": [
      "Requirement already satisfied: geventhttpclient in /opt/conda/lib/python3.7/site-packages (1.4.4)\n",
      "Requirement already satisfied: gevent>=0.13 in /opt/conda/lib/python3.7/site-packages (from geventhttpclient) (20.6.2)\n",
      "Requirement already satisfied: certifi in /opt/conda/lib/python3.7/site-packages (from geventhttpclient) (2020.6.20)\n",
      "Requirement already satisfied: six in /opt/conda/lib/python3.7/site-packages (from geventhttpclient) (1.15.0)\n",
      "Requirement already satisfied: setuptools in /opt/conda/lib/python3.7/site-packages (from gevent>=0.13->geventhttpclient) (50.3.0)\n",
      "Requirement already satisfied: zope.interface in /opt/conda/lib/python3.7/site-packages (from gevent>=0.13->geventhttpclient) (5.1.0)\n",
      "Requirement already satisfied: greenlet>=0.4.16; platform_python_implementation == \"CPython\" in /opt/conda/lib/python3.7/site-packages (from gevent>=0.13->geventhttpclient) (0.4.16)\n",
      "Requirement already satisfied: zope.event in /opt/conda/lib/python3.7/site-packages (from gevent>=0.13->geventhttpclient) (4.4)\n"
     ]
    }
   ],
   "source": [
    "!pip3 install geventhttpclient"
   ]
  },
  {
   "cell_type": "markdown",
   "metadata": {},
   "source": [
    "#### Prepare non-binary request payload\n",
    "\n",
    "The first model will illustrate a non-binary payload.  The following command will create a KF Serving v2 format non-binary payload to be used with the \"simple\" model:"
   ]
  },
  {
   "cell_type": "code",
   "execution_count": 14,
   "metadata": {},
   "outputs": [],
   "source": [
    "!python3 get_request_body_simple.py -m simple"
   ]
  },
  {
   "cell_type": "markdown",
   "metadata": {},
   "source": [
    "#### Prepare binary request payload\n",
    "\n",
    "Triton's implementation of KF Serving v2 protocol for binary data appends the binary data after the json body.  Triton requires an additional header for offset:\n",
    "\n",
    "`Inference-Header-Content-Length: [offset]`\n",
    "\n",
    "We have provided a script that will automatically resize the image to the proper size for ResNet-50 [224, 224, 3] and calculate the proper offset.  The following command takes an image file and outputs the necessary data structure to be use with the \"resnet50_netdef\" model.  Please note down this offset as it will be used later."
   ]
  },
  {
   "cell_type": "code",
   "execution_count": 15,
   "metadata": {},
   "outputs": [
    {
     "name": "stdout",
     "output_type": "stream",
     "text": [
      "(3, 224, 224)\n",
      "Add Header: Inference-Header-Content-Length: 138\n"
     ]
    }
   ],
   "source": [
    "!python3 get_request_body_simple.py -m image -f server/qa/images/mug.jpg"
   ]
  },
  {
   "cell_type": "markdown",
   "metadata": {},
   "source": [
    "## Create and deploy Model and Model Version\n",
    "\n",
    "In this section, we will deploy two models:\n",
    "1. Simple model with non-binary data.  KF Serving v2 protocol specifies a json format with non-binary data in the json body itself.\n",
    "2. Binary data model with ResNet-50.  Triton's implementation of binary data for KF Server v2 protocol.\n"
   ]
  },
  {
   "cell_type": "markdown",
   "metadata": {},
   "source": [
    "### Simple model (non-binary data)\n",
    "\n",
    "#### Create Model\n",
    "\n",
    "AI Platform Prediction uses a Model/Model Version Hierarchy, where the Model is a logical grouping of Model Versions.  We will first create the Model.\n",
    "\n",
    "Because the MODEL_NAME variable will be used later to specify the predict route, and Triton will use that route to run prediction on a specific model, we must set the value of this variable to a valid name of a model.  For this section, will use the \"simple\" model."
   ]
  },
  {
   "cell_type": "code",
   "execution_count": 16,
   "metadata": {},
   "outputs": [],
   "source": [
    "MODEL_NAME='simple'"
   ]
  },
  {
   "cell_type": "code",
   "execution_count": 17,
   "metadata": {},
   "outputs": [
    {
     "name": "stdout",
     "output_type": "stream",
     "text": [
      "Using endpoint [https://us-central1-ml.googleapis.com/]\n",
      "Created ml engine model [projects/tsaikevin-1236/models/simple].\n"
     ]
    }
   ],
   "source": [
    "!gcloud ai-platform models create $MODEL_NAME --region $REGION --enable-logging"
   ]
  },
  {
   "cell_type": "code",
   "execution_count": 18,
   "metadata": {},
   "outputs": [
    {
     "name": "stdout",
     "output_type": "stream",
     "text": [
      "Using endpoint [https://us-central1-ml.googleapis.com/]\n",
      "NAME    DEFAULT_VERSION_NAME\n",
      "simple\n"
     ]
    }
   ],
   "source": [
    "!gcloud ai-platform models list --region $REGION"
   ]
  },
  {
   "cell_type": "markdown",
   "metadata": {},
   "source": [
    "#### Create Model Version\n",
    "\n",
    "After the Model is created, we can now create a Model Version under this Model.  Each Model Version will need a name that is unique within the Model.  In AI Platform Prediction Custom Container, a {Project}/{Model}/{ModelVersion} uniquely identifies the specific container and model artifact used for inference."
   ]
  },
  {
   "cell_type": "code",
   "execution_count": 19,
   "metadata": {},
   "outputs": [],
   "source": [
    "VERSION_NAME='v01'"
   ]
  },
  {
   "cell_type": "markdown",
   "metadata": {},
   "source": [
    "The following config file will be used in the Model Version creation command."
   ]
  },
  {
   "cell_type": "markdown",
   "metadata": {},
   "source": [
    "#### Command with YAML config file"
   ]
  },
  {
   "cell_type": "code",
   "execution_count": 20,
   "metadata": {},
   "outputs": [],
   "source": [
    "import yaml\n",
    "\n",
    "config_simple={'deploymentUri': MODEL_BUCKET+'/model_repository', \\\n",
    "               'container': {'image': CAIP_IMAGE, \\\n",
    "                             'args': ['tritonserver', '--model-repository=$(AIP_STORAGE_URI)'], \\\n",
    "                             'env': [], \\\n",
    "                             'ports': {'containerPort': 8000}}, \\\n",
    "               'routes': {'predict': '/v2/models/'+MODEL_NAME+'/infer', \\\n",
    "                          'health': '/v2/models/'+MODEL_NAME}, \\\n",
    "               'machineType': 'n1-standard-4', 'autoScaling': {'minNodes': 1}}\n",
    "\n",
    "with open(r'config_simple.yaml', 'w') as file:\n",
    "    config = yaml.dump(config_simple, file)"
   ]
  },
  {
   "cell_type": "code",
   "execution_count": 21,
   "metadata": {},
   "outputs": [
    {
     "name": "stdout",
     "output_type": "stream",
     "text": [
      "Using endpoint [https://us-central1-ml.googleapis.com/]\n"
     ]
    }
   ],
   "source": [
    "!gcloud beta ai-platform versions create $VERSION_NAME \\\n",
    "  --model $MODEL_NAME \\\n",
    "  --accelerator count=1,type=nvidia-tesla-t4 \\\n",
    "  --config config_simple.yaml \\\n",
    "  --region=$REGION \\\n",
    "  --async"
   ]
  },
  {
   "cell_type": "markdown",
   "metadata": {},
   "source": [
    "#### To see details of the Model Version just created"
   ]
  },
  {
   "cell_type": "code",
   "execution_count": 32,
   "metadata": {},
   "outputs": [
    {
     "name": "stdout",
     "output_type": "stream",
     "text": [
      "Using endpoint [https://us-central1-ml.googleapis.com/]\n",
      "acceleratorConfig:\n",
      "  count: '1'\n",
      "  type: NVIDIA_TESLA_T4\n",
      "autoScaling:\n",
      "  minNodes: 1\n",
      "container:\n",
      "  args:\n",
      "  - tritonserver\n",
      "  - --model-repository=$(AIP_STORAGE_URI)\n",
      "  image: us-central1-docker.pkg.dev/tsaikevin-1236/caipcustom/tritonserver:20.06-py3\n",
      "  ports:\n",
      "  - containerPort: 8000\n",
      "createTime: '2020-10-27T04:41:21Z'\n",
      "deploymentUri: gs://tsaikevin-1236-21636/model_repository\n",
      "etag: 56sj7hcwcL0=\n",
      "isDefault: true\n",
      "machineType: n1-standard-4\n",
      "name: projects/tsaikevin-1236/models/simple/versions/v01\n",
      "routes:\n",
      "  health: /v2/models/simple\n",
      "  predict: /v2/models/simple/infer\n",
      "state: READY\n"
     ]
    }
   ],
   "source": [
    "!gcloud ai-platform versions describe $VERSION_NAME --model=$MODEL_NAME --region=$REGION"
   ]
  },
  {
   "cell_type": "markdown",
   "metadata": {},
   "source": [
    "#### To list all Model Versions and their states in this Model"
   ]
  },
  {
   "cell_type": "code",
   "execution_count": 33,
   "metadata": {},
   "outputs": [
    {
     "name": "stdout",
     "output_type": "stream",
     "text": [
      "Using endpoint [https://us-central1-ml.googleapis.com/]\n",
      "NAME  DEPLOYMENT_URI                              STATE\n",
      "v01   gs://tsaikevin-1236-21636/model_repository  READY\n"
     ]
    }
   ],
   "source": [
    "!gcloud ai-platform versions list --model=$MODEL_NAME --region=$REGION"
   ]
  },
  {
   "cell_type": "markdown",
   "metadata": {},
   "source": [
    "#### Run prediction using `curl`\n",
    "\n",
    "The \"simple\" model takes two tensors with shape [1,16] and does a couple of basic arithmetic operation."
   ]
  },
  {
   "cell_type": "code",
   "execution_count": 34,
   "metadata": {},
   "outputs": [
    {
     "name": "stdout",
     "output_type": "stream",
     "text": [
      "{\"id\":\"0\",\"model_name\":\"simple\",\"model_version\":\"1\",\"outputs\":[{\"name\":\"OUTPUT0\",\"datatype\":\"INT32\",\"shape\":[1,16],\"data\":[-1,0,1,2,3,4,5,6,7,8,9,10,11,12,13,14]},{\"name\":\"OUTPUT1\",\"datatype\":\"INT32\",\"shape\":[1,16],\"data\":[1,2,3,4,5,6,7,8,9,10,11,12,13,14,15,16]}]}"
     ]
    }
   ],
   "source": [
    "!curl -X POST $ENDPOINT/projects/$PROJECT_ID/models/$MODEL_NAME/versions/$VERSION_NAME:predict \\\n",
    "    -k -H \"Content-Type: application/json\" \\\n",
    "    -H \"Authorization: Bearer `gcloud auth print-access-token`\" \\\n",
    "    -d @simple.json"
   ]
  },
  {
   "cell_type": "code",
   "execution_count": 35,
   "metadata": {},
   "outputs": [
    {
     "name": "stdout",
     "output_type": "stream",
     "text": [
      "{\n",
      "  \"error\": {\n",
      "    \"code\": 403,\n",
      "    \"message\": \"Access to model denied.\",\n",
      "    \"status\": \"PERMISSION_DENIED\"\n",
      "  }\n",
      "}\n"
     ]
    }
   ],
   "source": [
    "# this doesn't: gcloud auth application-default print-access-token\n",
    "\n",
    "!curl -X POST $ENDPOINT/projects/$PROJECT_ID/models/$MODEL_NAME/versions/$VERSION_NAME:predict \\\n",
    "    -k -H \"Content-Type: application/json\" \\\n",
    "    -H \"Authorization: Bearer `gcloud auth application-default print-access-token`\" \\\n",
    "    -d @simple.json"
   ]
  },
  {
   "cell_type": "markdown",
   "metadata": {},
   "source": [
    "#### Run prediction using Using `requests` library"
   ]
  },
  {
   "cell_type": "code",
   "execution_count": 36,
   "metadata": {},
   "outputs": [
    {
     "data": {
      "text/plain": [
       "{'id': '0',\n",
       " 'model_name': 'simple',\n",
       " 'model_version': '1',\n",
       " 'outputs': [{'name': 'OUTPUT0',\n",
       "   'datatype': 'INT32',\n",
       "   'shape': [1, 16],\n",
       "   'data': [-1, 0, 1, 2, 3, 4, 5, 6, 7, 8, 9, 10, 11, 12, 13, 14]},\n",
       "  {'name': 'OUTPUT1',\n",
       "   'datatype': 'INT32',\n",
       "   'shape': [1, 16],\n",
       "   'data': [1, 2, 3, 4, 5, 6, 7, 8, 9, 10, 11, 12, 13, 14, 15, 16]}]}"
      ]
     },
     "execution_count": 36,
     "metadata": {},
     "output_type": "execute_result"
    }
   ],
   "source": [
    "with open('simple.json', 'r') as s:\n",
    "    data=s.read()\n",
    "    \n",
    "PREDICT_URL = \"{}/projects/{}/models/{}/versions/{}:predict\".format(ENDPOINT, PROJECT_ID, MODEL_NAME, VERSION_NAME)\n",
    "HEADERS = {\n",
    "  'Content-Type': 'application/json',\n",
    "  'Authorization': 'Bearer {}'.format(os.popen('gcloud auth print-access-token').read().rstrip())\n",
    "}\n",
    "\n",
    "response = requests.request(\"POST\", PREDICT_URL, headers=HEADERS, data = data).content.decode()\n",
    "\n",
    "json.loads(response)"
   ]
  },
  {
   "cell_type": "code",
   "execution_count": 37,
   "metadata": {},
   "outputs": [
    {
     "data": {
      "text/plain": [
       "{'error': {'code': 403,\n",
       "  'message': 'Access to model denied.',\n",
       "  'status': 'PERMISSION_DENIED'}}"
      ]
     },
     "execution_count": 37,
     "metadata": {},
     "output_type": "execute_result"
    }
   ],
   "source": [
    "# this doesn't work: gcloud auth application-default print-access-token\n",
    "\n",
    "with open('simple.json', 'r') as s:\n",
    "    data=s.read()\n",
    "    \n",
    "PREDICT_URL = \"https://us-central1-ml.googleapis.com/v1/projects/tsaikevin-1236/models/simple/versions/v01:predict\"\n",
    "HEADERS = {\n",
    "  'Content-Type': 'application/json',\n",
    "  'Authorization': 'Bearer {}'.format(os.popen('gcloud auth application-default print-access-token').read().rstrip())\n",
    "}\n",
    "\n",
    "response = requests.request(\"POST\", PREDICT_URL, headers=HEADERS, data = data).content.decode()\n",
    "\n",
    "json.loads(response)"
   ]
  },
  {
   "cell_type": "markdown",
   "metadata": {},
   "source": [
    "### ResNet-50 model (binary data)\n",
    "\n",
    "#### Create Model"
   ]
  },
  {
   "cell_type": "code",
   "execution_count": 25,
   "metadata": {},
   "outputs": [],
   "source": [
    "BINARY_MODEL_NAME='resnet50_netdef'"
   ]
  },
  {
   "cell_type": "code",
   "execution_count": 26,
   "metadata": {},
   "outputs": [
    {
     "name": "stdout",
     "output_type": "stream",
     "text": [
      "Using endpoint [https://us-central1-ml.googleapis.com/]\n",
      "Created ml engine model [projects/tsaikevin-1236/models/resnet50_netdef].\n"
     ]
    }
   ],
   "source": [
    "!gcloud ai-platform models create $BINARY_MODEL_NAME --region $REGION --enable-logging"
   ]
  },
  {
   "cell_type": "markdown",
   "metadata": {},
   "source": [
    "#### Create Model Version"
   ]
  },
  {
   "cell_type": "code",
   "execution_count": 27,
   "metadata": {},
   "outputs": [],
   "source": [
    "BINARY_VERSION_NAME='v01'"
   ]
  },
  {
   "cell_type": "markdown",
   "metadata": {},
   "source": [
    "#### Command with YAML config file"
   ]
  },
  {
   "cell_type": "code",
   "execution_count": 28,
   "metadata": {},
   "outputs": [],
   "source": [
    "import yaml\n",
    "\n",
    "config_binary={'deploymentUri': MODEL_BUCKET+'/model_repository', \\\n",
    "               'container': {'image': CAIP_IMAGE, \\\n",
    "                             'args': ['tritonserver', '--model-repository=$(AIP_STORAGE_URI)'], \\\n",
    "                             'env': [], \\\n",
    "                             'ports': {'containerPort': 8000}}, \\\n",
    "               'routes': {'predict': '/v2/models/'+BINARY_MODEL_NAME+'/infer', \\\n",
    "                          'health': '/v2/models/'+BINARY_MODEL_NAME}, \\\n",
    "               'machineType': 'n1-standard-4', 'autoScaling': {'minNodes': 1}}\n",
    "\n",
    "with open(r'config_binary.yaml', 'w') as file:\n",
    "    config_binary = yaml.dump(config_binary, file)"
   ]
  },
  {
   "cell_type": "code",
   "execution_count": 29,
   "metadata": {},
   "outputs": [
    {
     "name": "stdout",
     "output_type": "stream",
     "text": [
      "Using endpoint [https://us-central1-ml.googleapis.com/]\n"
     ]
    }
   ],
   "source": [
    "!gcloud beta ai-platform versions create $BINARY_VERSION_NAME \\\n",
    "  --model $BINARY_MODEL_NAME \\\n",
    "  --accelerator count=1,type=nvidia-tesla-t4 \\\n",
    "  --config config_binary.yaml \\\n",
    "  --region=$REGION \\\n",
    "  --async"
   ]
  },
  {
   "cell_type": "markdown",
   "metadata": {},
   "source": [
    "#### To see details of the Model Version just created"
   ]
  },
  {
   "cell_type": "code",
   "execution_count": 38,
   "metadata": {},
   "outputs": [
    {
     "name": "stdout",
     "output_type": "stream",
     "text": [
      "Using endpoint [https://us-central1-ml.googleapis.com/]\n",
      "acceleratorConfig:\n",
      "  count: '1'\n",
      "  type: NVIDIA_TESLA_T4\n",
      "autoScaling:\n",
      "  minNodes: 1\n",
      "container:\n",
      "  args:\n",
      "  - tritonserver\n",
      "  - --model-repository=$(AIP_STORAGE_URI)\n",
      "  image: us-central1-docker.pkg.dev/tsaikevin-1236/caipcustom/tritonserver:20.06-py3\n",
      "  ports:\n",
      "  - containerPort: 8000\n",
      "createTime: '2020-10-27T04:42:01Z'\n",
      "deploymentUri: gs://tsaikevin-1236-21636/model_repository\n",
      "etag: RTRC-Os6Aa0=\n",
      "isDefault: true\n",
      "machineType: n1-standard-4\n",
      "name: projects/tsaikevin-1236/models/resnet50_netdef/versions/v01\n",
      "routes:\n",
      "  health: /v2/models/resnet50_netdef\n",
      "  predict: /v2/models/resnet50_netdef/infer\n",
      "state: READY\n"
     ]
    }
   ],
   "source": [
    "!gcloud ai-platform versions describe $BINARY_VERSION_NAME --model=$BINARY_MODEL_NAME --region=$REGION"
   ]
  },
  {
   "cell_type": "markdown",
   "metadata": {},
   "source": [
    "#### To list all Model Versions and their states in this Model"
   ]
  },
  {
   "cell_type": "code",
   "execution_count": 39,
   "metadata": {},
   "outputs": [
    {
     "name": "stdout",
     "output_type": "stream",
     "text": [
      "Using endpoint [https://us-central1-ml.googleapis.com/]\n",
      "NAME  DEPLOYMENT_URI                              STATE\n",
      "v01   gs://tsaikevin-1236-21636/model_repository  READY\n"
     ]
    }
   ],
   "source": [
    "!gcloud ai-platform versions list --model=$BINARY_MODEL_NAME --region=$REGION"
   ]
  },
  {
   "cell_type": "markdown",
   "metadata": {},
   "source": [
    "#### Run prediction using `curl`\n",
    "\n",
    "Recall the offset value calcuated above.  The binary case has an additional header:\n",
    "\n",
    "`Inference-Header-Content-Length: [offset]`"
   ]
  },
  {
   "cell_type": "code",
   "execution_count": 40,
   "metadata": {},
   "outputs": [
    {
     "name": "stdout",
     "output_type": "stream",
     "text": [
      "{\"id\":\"0\",\"model_name\":\"resnet50_netdef\",\"model_version\":\"1\",\"outputs\":[{\"name\":\"gpu_0/softmax\",\"datatype\":\"FP32\",\"shape\":[1,1000],\"data\":[9.698576386441005e-10,3.2031421959288765e-9,1.9225324110472287e-10,1.622270651147062e-9,4.734711511744649e-10,4.736601777466376e-9,5.2833907387972448e-11,1.5530178254508087e-9,1.0723617549501797e-9,1.6877773845180856e-8,2.7639702082637997e-8,2.4067116299875125e-8,2.3789946013152986e-8,3.813896753968038e-8,1.707913277471107e-8,1.677788752374454e-8,2.7277375913570269e-9,7.533176749063842e-9,3.448606022971035e-8,1.5721646207111918e-8,3.0091542591037525e-9,1.8809401258756964e-10,2.4593422853769199e-9,2.8420139575047189e-9,1.3236193252552653e-9,9.352436158849287e-9,1.2529297599428446e-8,8.686888541831195e-9,8.706960485937998e-9,5.088249110940524e-8,1.4554123461962832e-9,6.056438461854441e-9,7.962206893807889e-9,7.382499944696974e-9,3.922888236473909e-9,1.672104676941899e-9,6.8971197642042629e-9,3.3895479756296256e-9,1.5144490106422382e-9,1.028257590185433e-9,1.0017140006368664e-8,7.349927888533614e-10,3.1613291984200488e-9,2.715688562915375e-9,1.509429026214093e-8,8.96525609306309e-9,7.265397616862401e-9,1.5105147355143346e-8,3.519653180017457e-10,2.2296535451271638e-10,7.583876304728676e-10,5.487293397443693e-10,4.3230549806594357e-8,5.574785788553527e-8,2.8456224043793555e-8,1.511855174385346e-8,6.34844887770214e-9,1.305215380220659e-9,4.9460728845929229e-9,1.4605407550050132e-8,8.754903468854991e-9,2.4199027226501359e-9,4.6248027629758328e-10,6.198229929310628e-9,4.586119928262633e-9,2.8508919669434364e-8,1.8072427110382706e-8,1.6654967405216326e-9,7.771237875431325e-9,3.5171854317894715e-9,5.233608657562172e-9,3.4735510023864437e-9,4.091742944467569e-9,7.104977051142214e-9,1.6378469691602505e-9,1.3539573906484748e-8,9.039208492822582e-9,5.372128075720184e-9,2.1784723003293039e-7,1.3337520421430327e-8,4.170209955134396e-9,1.5893211746664805e-10,1.3226426620605026e-9,5.86063420016103e-10,1.9203776069343093e-10,9.640189979620573e-9,1.30845567714033e-9,1.0069090450315344e-8,1.4527385960860784e-9,9.24559362402988e-9,1.0913791648192728e-8,3.2153357754083346e-9,5.63269120235077e-9,2.378063523877927e-9,1.993214304718549e-8,5.243190326353897e-9,3.599350151262115e-9,4.892747318407942e-10,1.5736849601211134e-9,5.371533440268195e-9,3.6697549887776407e-8,2.3895394551942674e-9,9.809549839090437e-10,6.473413804997108e-9,1.96000704555388e-9,2.3588597741763808e-9,4.0047645200047558e-9,1.5872982928044622e-9,3.1951001844277018e-9,7.748338082258499e-10,1.5910508466276952e-9,4.9251298150920778e-8,1.4282757199168828e-8,1.1915335385026538e-8,7.626512754654869e-9,3.3100111540562695e-10,6.310297284706223e-10,1.9260211203686596e-8,8.000376539030185e-8,6.337101066122841e-9,7.084719921834903e-9,3.5187373015332926e-8,9.542505807758062e-8,4.691394384082059e-9,5.488136878284422e-8,1.920738412763967e-8,2.7635416177673734e-9,1.3777042839890897e-9,9.086152386039714e-10,1.8229757980936513e-10,2.994485548413195e-9,1.4273899839878368e-9,2.3050487740761129e-8,1.4671516224140647e-9,3.5496492412079307e-9,2.4097510653575684e-9,7.572241722542117e-10,3.868889209002191e-9,4.481700566216773e-10,5.368785971349155e-10,6.703338439884021e-10,2.7403677105297676e-9,5.827305860073295e-10,8.928988659562265e-10,2.1070514777399297e-10,3.7966660926258558e-8,6.07749894854237e-9,2.64817279216345e-10,4.609728154747472e-9,4.134995457150126e-9,6.21549034462987e-9,1.1386496368004373e-7,3.828617867185358e-9,1.8371984822351807e-8,5.1423860725208218e-9,4.9119464051727849e-9,4.805075448643947e-9,1.1915880726576234e-8,4.7673642811219e-9,7.582636740721682e-9,6.56972654056176e-9,4.790305929702754e-9,5.123099722226243e-9,1.596587395624738e-8,2.0268089429009707e-8,9.628264407979259e-9,1.7281115205491916e-8,8.242405868941205e-9,1.9858788391502459e-8,2.2099544416676055e-9,2.907757368220132e-9,1.2640216873194277e-8,1.3864939418795075e-8,1.6109645173401078e-8,2.4002373422149505e-9,6.804087071543563e-9,7.430601467461884e-9,1.5305627876216477e-9,8.12039324671332e-9,3.297743855767976e-9,1.1992257187287692e-9,2.643431784576933e-8,9.020470592702168e-9,2.4493818528981138e-8,2.8256112116764599e-8,8.073229196270404e-9,2.8994126211046024e-8,3.254821123732654e-8,3.949879534559386e-9,7.218296182998074e-9,1.6019072290873738e-8,9.298777570165839e-8,6.913438266309413e-9,7.983664396249424e-9,6.047261358332889e-9,5.927695667651278e-9,3.1342639594811318e-9,3.99130506423262e-9,5.129044744478506e-9,4.702305655968075e-9,2.363899520574364e-9,2.2309659897246094e-8,1.5720475587954753e-8,4.02178113034779e-9,1.676228045255357e-8,2.360277306934222e-9,8.88107809515759e-9,5.6440696560855489e-9,4.169852019231257e-9,3.5051708202615829e-9,3.387744973437634e-9,7.619882502751807e-9,1.0692940977108379e-9,3.620660882219795e-9,2.9190878603202465e-9,5.013317760926839e-9,1.892337619935347e-9,1.3575121027287196e-9,2.2537824939661279e-9,1.7765543480763313e-9,9.046935645073973e-9,5.457777785267126e-9,6.3623404322754599e-9,1.004197081044822e-8,1.8089256315079184e-8,1.4516535529196517e-8,1.442740593660119e-8,9.118900301530175e-9,1.7501360360938634e-9,3.5861931202418875e-9,1.8879859897680264e-9,6.823387188603647e-9,1.083970868620554e-8,3.7221583593094467e-9,3.868992681788086e-9,9.900871233980979e-9,1.189483267438618e-8,7.2286434615875809e-9,7.676321800431652e-9,7.516369748827856e-9,1.6227541976832073e-8,1.6971936744880624e-8,7.47042072646309e-9,9.211198914726993e-9,1.4110212998019734e-9,7.3516424059505429e-9,6.011530384597563e-9,1.7100670879344194e-9,1.0432123609405153e-8,1.7261646334532089e-8,7.596330675596619e-9,9.355933805466066e-9,6.180711054071253e-9,1.1168215685586347e-8,1.4440097118040285e-8,1.5506321782154942e-9,1.4736111886293202e-8,5.013585990809588e-9,3.5921696728280496e-9,9.499589559425204e-9,2.7662365731373485e-9,1.975733798786905e-9,9.255702870802907e-9,5.755157683751122e-9,6.387948836561463e-9,2.2963863699487775e-8,8.610118840124415e-9,1.0868044242329234e-9,1.2402023408242258e-8,2.9767750486797697e-9,6.42110231652282e-9,2.049792113822946e-9,2.146009592252085e-9,8.88060469605989e-9,1.3857501812708506e-9,3.4336726795203278e-9,2.2318500381146579e-9,2.273673915809127e-9,1.2515365410692426e-9,2.030383194906449e-9,5.079732634527545e-9,1.1270373967420256e-8,4.320804336543915e-8,1.1264915222852779e-8,3.1693530022636198e-9,5.722465346025274e-8,4.125807473442933e-10,4.9892028286535609e-9,1.525701120996814e-9,9.476819329279352e-10,1.96416838349478e-9,2.9527422729103138e-9,4.043455792412942e-9,2.0423343016773289e-9,2.8030913146182e-9,3.1823581547740788e-9,1.0068898603776688e-8,9.504187437059386e-10,3.442820917243239e-9,8.153311803482666e-9,3.499755152347461e-8,1.017199657837864e-8,4.798346253664931e-8,2.069300819584896e-8,2.3826582928876407e-9,4.255494179261632e-9,5.120494250832053e-8,3.4848393060116224e-9,2.2187180981347866e-9,1.5307826117805236e-8,5.06286568224823e-8,2.3925370129518343e-8,2.10788151377983e-8,1.0066479205761425e-8,5.079735032609278e-8,3.1640134956489875e-9,4.87037610241714e-9,2.3826354222933334e-9,2.7253039824870486e-9,2.692053246988735e-9,2.261964837657615e-9,5.4318252118434888e-9,2.9642877041879957e-9,4.0811349855118809e-9,2.0067130179768357e-9,1.1233176611114005e-9,2.9914426491473024e-9,3.586685837220216e-9,5.8041362827054858e-9,5.5952145139315238e-9,2.5694368854800588e-9,1.9867303358012124e-9,4.1603582801030829e-9,4.681118070948287e-8,3.262856651531365e-9,5.398124169886387e-9,7.404382107445429e-10,6.164628363336533e-9,8.049089395001375e-9,2.5607234110935907e-9,1.6636395594460396e-9,8.811170681966019e-10,9.860479099899067e-10,1.530729210053039e-9,3.8599831664321018e-10,8.006431961860017e-9,4.5409601079349218e-10,1.8937635903881757e-9,6.801764484976047e-9,4.971145717291847e-9,3.672294690559852e-9,8.58979165574425e-10,1.3467705839431688e-9,2.169132873319768e-9,9.649144816492595e-10,4.311762946684894e-9,4.528535413328427e-8,1.0307340758686223e-8,4.7687127135986887e-8,8.038063725734901e-8,4.437852751948412e-9,9.991875771220294e-9,7.428037296364209e-9,3.6514737900006368e-9,2.904918972035375e-9,5.618064347068241e-10,4.993522262353167e-10,4.9895172438141348e-9,2.5352335786266168e-9,2.768020479493316e-9,2.4444193336137234e-9,5.097348765303877e-9,2.22350537981697e-9,5.282670745287987e-9,4.599513658831711e-9,1.147497985520829e-9,6.917326156319348e-10,8.193438816306298e-9,5.062294139435153e-9,2.5131301484293546e-9,7.013715830339606e-9,3.0492277591775975e-9,5.836889371835241e-8,5.207192455003451e-9,7.45152117787029e-9,3.182048624594813e-9,1.1654862630550156e-9,1.7500168425499397e-8,1.6867883756432889e-9,6.227627302735073e-10,1.0357793733817289e-8,1.2533497573130604e-9,6.812437280956374e-9,9.425621394498763e-10,1.212711597808891e-9,9.342274509549498e-9,1.803529769972556e-9,1.8160531967126304e-9,1.2289607553839233e-8,6.397133489599583e-8,2.773553609003443e-9,1.6944801117801945e-8,5.2157734131697e-8,6.710105249219112e-10,2.527359832527054e-8,5.764188237833423e-9,2.0412516121837145e-9,2.0218156038254166e-9,6.82219891690039e-10,4.3122685156049558e-7,1.2642452640321267e-9,4.410228626738899e-8,0.0000011694929753502948,7.501818721777909e-9,4.4224595541209058e-8,3.62731249481385e-8,2.787784758595535e-8,1.935887894433108e-8,0.0000017855491023510695,6.366608431562781e-7,3.4229223899728824e-9,3.7037892752778137e-8,1.8390915457189295e-8,2.1132597893824824e-8,6.5199188270526069e-9,4.6328721414745646e-10,7.826668024790706e-8,8.176781420843327e-7,2.342790850207166e-8,1.5922903884302287e-8,4.4073336091798868e-9,6.878214886540945e-9,2.55880962640731e-7,2.4135391640811579e-7,8.227892145384886e-9,6.751978531838177e-8,2.0920194465645638e-9,3.413957117004429e-9,0.00000855291000334546,1.8516175259719604e-7,8.267495559266536e-7,0.0000023250290723808577,1.0866136879172928e-9,3.662271153004326e-9,1.084046741262057e-9,2.945946597776583e-9,2.740809748047468e-7,0.000002225282059953315,7.238939758735796e-8,4.335899694840606e-10,5.017795068340547e-9,4.49842874061801e-9,4.783604179436907e-9,3.366079326383442e-8,7.249202571557589e-9,1.44607341212577e-7,2.6552653409339656e-9,6.005665653674441e-8,3.1623907936761954e-9,2.3046002439741643e-8,2.422935463375353e-10,1.3405506704700088e-9,2.4004675580613367e-8,7.300396305254253e-7,3.2911239600252886e-7,5.166544525536665e-8,5.071252306976248e-9,5.485514265046731e-10,2.5721091923003316e-9,3.427809360800893e-7,0.000001886977315734839,2.080417260685863e-8,2.9928393097122809e-10,0.000002436012664475129,7.469850515917642e-9,3.939964798860274e-8,3.50611206734186e-10,6.926362772219363e-8,5.8691863813464809e-8,2.4943494381091115e-8,4.916417051248345e-9,5.718711904023621e-8,8.03202908628009e-7,1.2009401251233954e-9,3.186979014024871e-10,4.350365827576752e-7,6.7019616523111839e-9,0.0000011518669680299354,3.7788811368955069e-7,1.4338302989358454e-8,4.647442874983199e-9,1.6572522909541477e-8,4.7510066991662829e-9,1.6021303395064025e-8,2.2147277789485998e-8,2.7389631895857748e-8,5.157375415620891e-9,1.992627840508021e-9,2.5373763090641434e-9,2.4672499421285468e-7,2.0301420267099247e-10,2.0559474123160727e-9,9.894533548049367e-8,0.000004030752734252019,0.7773656845092773,0.0015909161884337664,7.254005396362118e-8,1.2198267995700008e-7,1.535916140937843e-7,3.5312275326049304e-9,1.0132860772671393e-8,4.191165636768801e-9,0.000011469883247627877,2.6241966821771713e-8,3.479607002532248e-8,1.4607889120554774e-8,3.2589195786414395e-9,1.6880413511444204e-8,1.4558488636851053e-8,1.7293050547095846e-8,3.1769245012469584e-9,8.833774813865603e-7,2.5843647222245637e-8,7.963396342347551e-8,1.0154467267042833e-9,3.8789513268078226e-10,2.6072851255776188e-7,1.0371795156061126e-7,2.555746334564901e-7,3.538132986591336e-8,0.00000580385767534608,1.647274245897279e-7,1.4464458786278556e-7,4.727118962932764e-8,9.867916261896426e-9,2.607104576668462e-8,8.081379121449573e-9,3.3584957037646748e-10,7.0113341799071808e-9,1.3209083249421384e-7,6.934422813742458e-9,6.279662301267308e-8,5.776716704986029e-8,5.57861454808517e-8,6.78079743465787e-8,2.936193155278488e-8,7.081521147256353e-8,6.688344877936459e-10,1.2365010348958095e-8,5.1207647011608518e-9,0.00016719654377084225,0.000009990318176278379,1.1180790515652462e-8,2.5338035669619786e-8,2.0437567194164787e-9,5.106476130833926e-9,1.981429420538916e-8,2.065924098459959e-9,9.972936965141344e-8,9.00630414690795e-9,6.905096494591589e-9,1.4300175266157567e-8,1.01570671873219e-8,3.565109238934383e-7,3.637451451155016e-10,1.261862725421281e-9,3.908706958100083e-8,2.4684654320594747e-8,4.488323934737082e-9,1.1406684485848473e-8,3.122290337387312e-8,1.5413620602089396e-8,0.000004159253876423463,1.2044873543004542e-8,5.354573318072653e-7,4.047854051947297e-9,7.979443772399009e-10,4.726827818046786e-9,2.266941478978879e-8,1.6976631656007158e-8,2.5229951461369639e-9,4.06911082606598e-9,2.677474464363172e-9,6.973563948520223e-9,2.528358322706481e-8,0.000011648018698906526,8.807259810339474e-9,6.761102611108072e-8,1.9185753785677662e-7,6.334388444884098e-7,2.1202515654294985e-7,1.1984442771506565e-8,4.814929184249195e-7,2.9604468210209235e-8,1.03387458594284e-8,2.087403805361987e-9,1.2606124144554088e-8,1.6022955406924667e-8,1.1102030583742817e-7,7.09481113858601e-8,6.921573003637604e-7,1.18254073200319e-8,7.348558650477344e-9,5.516088141810371e-10,6.71957707254478e-8,0.0000031196384497889086,1.7382097894369509e-7,2.5935877889793348e-9,7.36545313628767e-9,2.7145907743886257e-9,8.698631859260786e-8,9.557050617559071e-8,2.0069837458613905e-10,2.2027036550298363e-7,3.2131286520353798e-9,5.728679752792232e-8,2.254990647543309e-7,1.3387251840413229e-7,3.663930669972615e-7,0.0000015141928315642872,7.682814384679659e-8,3.873555698419295e-9,0.000029071086828480476,5.846206931892084e-7,2.8153737119396284e-8,1.0179715959068858e-9,4.957510668646137e-7,1.7212520297960055e-9,8.259291917056544e-9,0.0000015598094478264102,2.1107702252720629e-8,0.000012856397006544285,0.000004334821369411657,0.000004293890469853068,7.619762598665147e-10,0.000001447447061764251,2.922654651626999e-8,8.338519563722002e-8,1.0721986853923227e-8,8.649952754069546e-9,9.383033933163532e-11,2.5547434390205127e-8,7.695408754671007e-9,7.47246176047156e-8,1.5667036734612339e-7,3.72295111406018e-10,1.093679635744138e-8,0.0001534046168671921,1.5840358358332197e-8,3.0860187738568358e-9,0.0000012358233334452962,1.295530154266089e-7,1.2041197372525403e-8,0.0000016472358765895479,3.8221381615244358e-9,8.360794723216714e-9,1.9510777438114248e-9,6.683923636785494e-9,8.714059163139609e-8,3.702685944517725e-7,1.3261969300515375e-9,3.5163469913612745e-9,0.00000582856318942504,1.439298680239176e-9,6.153248222062757e-8,4.1196582256652905e-10,0.0000012122093266953016,4.045363155569248e-8,4.577299650421196e-10,3.004048954036165e-10,1.9716417387627418e-9,6.2045102389163279e-9,1.5462582325653785e-9,0.0000019165538560628194,1.9601063172558498e-7,3.079067556477355e-10,1.1859897952604115e-8,7.05547407164886e-8,1.1022118684422822e-7,6.523218587517477e-8,0.000004348240508988965,7.192301723080163e-7,5.0229944648094719e-9,1.9359831071597e-7,3.3887033623614118e-8,3.3695997103677658e-8,0.00000729092380424845,1.468680288496671e-9,1.9398649797608415e-8,3.1891760343683019e-9,2.2687127176901357e-10,1.1482583772703947e-8,9.368590525582477e-8,1.3705099277672162e-9,2.2050813952567695e-10,2.711755087148049e-7,6.874464588690898e-7,3.3898261975195966e-9,2.189392001028523e-9,1.0524903615305448e-7,0.0000016456310731882696,2.7589175388698097e-9,3.087338740215273e-8,5.059504371018875e-9,1.3582433844305797e-8,1.1827911094997035e-8,2.2135400179479349e-9,1.4157370387124502e-8,7.709134308697685e-8,7.905384791229153e-9,0.0000034423271699779436,0.000004742231794807594,5.2023776397902569e-9,3.105641965817085e-8,1.6608623809588608e-7,4.029597100441151e-9,2.268644605507575e-9,1.1960146650835668e-8,3.857468122703267e-9,1.4552207971973986e-7,0.0000010038438631454483,3.762048894628833e-9,3.600150364491128e-7,3.00930924623799e-9,1.286068584960276e-9,0.00016237607633229345,2.54633092389156e-9,2.642489249637947e-8,5.397221158887078e-8,6.066662194825767e-8,2.496713724653432e-9,1.8120225320217288e-7,0.000001118088675866602,5.967781362414826e-7,5.723649887379167e-10,3.991624808463712e-9,1.2873798027612793e-8,3.0984605814410318e-7,0.000002701892981349374,0.00000353720542989322,5.08986026659386e-8,6.158220045016094e-10,1.978464858609641e-8,7.1301329285233809e-9,6.272563979337065e-8,1.829009050879904e-7,1.1607986039052776e-7,1.3170955526220497e-7,1.5354144622392597e-8,6.676766162172498e-8,2.0588473148563937e-9,3.054631392274132e-8,7.830833936850468e-8,2.537629129051311e-8,0.0000026505181267566515,3.48400197580645e-9,1.3397149700722367e-7,3.610200138837172e-9,2.011338438023813e-7,0.000006314283382380381,2.399282017506721e-8,0.0000029326026833587095,5.522272772395809e-8,8.802159356946504e-8,6.242749606144571e-8,5.091239074772602e-8,1.3423654188216006e-8,2.2468357485649904e-7,3.7047909184906304e-9,1.1766139351720995e-7,1.7476983416031545e-8,1.939587512822527e-8,9.134903677932016e-8,0.0000034306074212508976,1.69975304942227e-8,8.45499315005327e-9,1.340722093345903e-7,3.428713668540695e-8,1.0124810501110915e-7,2.9266584711251655e-9,5.7941043074549729e-9,5.486950893640596e-9,7.703797422209391e-8,2.661356290900585e-8,1.3451600011649135e-7,1.675291549929625e-8,2.6770175054480207e-7,2.6932294172610229e-9,9.654335109132717e-10,6.243284644824598e-8,1.6157063242872028e-8,1.0081524060012726e-8,6.838190813596157e-8,8.048081667766383e-8,2.8609697722004058e-8,3.5741949400147634e-9,8.133991968861665e-8,2.2086322104541979e-8,2.9044825211599347e-8,7.267147594802737e-8,2.088326872540236e-10,1.3923089170475579e-7,6.278506603507594e-10,2.986350333689103e-10,0.000001472081862630148,4.737496173135014e-9,7.053142514479305e-9,9.041484894112273e-9,3.263027963384957e-7,0.000006072143605706515,2.639592722175621e-8,1.989745470609705e-7,3.5516013241476688e-8,1.6330527330410406e-7,9.803918787909539e-10,8.840955523226058e-9,4.0951569246772127e-8,1.1360262952564426e-8,1.2618507128081547e-7,6.421297715775154e-9,2.1491144419627519e-9,5.973967986960815e-10,8.360810710428268e-9,1.3825994926719432e-7,4.84454787397226e-8,1.068833244133316e-9,5.354032168725098e-7,1.1140988220859072e-7,0.000002067160949081881,5.961049431846277e-10,3.865157083282611e-9,6.121299911399092e-9,1.8778965882315647e-10,1.1183861836627785e-8,1.3473673732278258e-8,5.066621344695932e-9,8.484825002597063e-7,9.375933132105274e-7,0.0000025238844045816224,4.212515669621553e-9,1.1008661005007525e-7,1.5463267999393794e-8,3.2854774900670239e-8,1.5105090511724485e-8,2.981266788992798e-7,0.0000010699782251322177,6.610748641833197e-7,1.3671106469104189e-9,0.000001657745542615885,0.0003567924431990832,3.221225597371813e-7,6.542207131587929e-8,3.0568972420041975e-7,6.350080461459129e-10,2.2204622585064728e-9,0.0000013557186093748897,4.197973968445012e-9,1.7243605432426535e-9,4.417138210754956e-9,0.000001077898218682094,1.4086000987845183e-7,3.925697100726211e-8,3.384267301953514e-7,1.3726839664940372e-9,2.8147868480488116e-9,9.261756361844675e-10,3.4279337146614354e-9,4.504575823460755e-9,0.000008822632480587345,1.1818822365228243e-8,7.959792824863144e-9,1.5127082919619284e-9,6.112153414505883e-7,2.8288018594224697e-9,8.408992946407068e-10,1.922820480615428e-8,1.4696388461743482e-7,1.2188063003293337e-8,6.179145373153006e-8,4.5938463699712886e-7,2.0129808930846595e-9,5.246031609118518e-9,4.082357349943777e-7,0.000014974421901570168,1.0792254867553198e-9,4.933365360670905e-8,5.341570741279611e-8,5.498986266339045e-10,8.895704173284003e-10,3.257175151816227e-8,2.206374194457794e-9,4.333159253633312e-8,1.4687239513477835e-7,9.610224083189678e-8,1.4233506817618036e-8,2.3509276747546439e-9,3.6332204444988749e-7,1.0631691083062833e-8,0.000017203299648826943,0.0010717628756538034,4.866410829862389e-9,0.0018781147664412857,1.4659784142168065e-7,2.0127670197211957e-8,4.311304380166803e-8,5.2422027607690327e-8,1.0955482743213452e-8,0.0000020725851754832549,2.6202505054584436e-8,6.247668693504238e-8,0.000002893537384807132,2.2266351606958779e-7,1.891262257913695e-9,1.90559767965226e-9,1.8751131758421026e-9,1.1900157526056888e-9,6.898505233721153e-8,1.5292068056282916e-8,0.000001562987108627567,1.7957901832232893e-8,2.006151689215585e-8,0.0000037135691854928156,2.1395297267190473e-7,9.915848977470887e-7,5.424797322461927e-8,0.000013884992767998483,0.0000021437506347865566,1.4252224289634796e-8,1.5133676356526849e-7,1.8238654320157367e-7,6.038689548404364e-8,1.9387563554573718e-7,6.177841100907244e-7,5.8788747203664119e-9,0.0000010484876611371874,1.523219594901093e-7,2.717980329691727e-8,3.0148044061206749e-7,6.510924777103355e-8,4.288447286171504e-8,2.2809636845977367e-8,1.4784734325701266e-8,7.030769211269217e-8,3.7031608002280339e-8,7.34274792080214e-8,1.4490359490082484e-7,2.376381313951015e-9,6.008722408523681e-9,3.957566008239155e-8,4.426290800552124e-8,5.959077142847491e-8,1.890427370199177e-7,5.0851156174758219e-8,4.4200898940971459e-8,1.0858336452201911e-7,7.866143292289962e-9,8.030045073326164e-9,1.5660084784485663e-8,6.054498680185816e-9,2.4959354050224649e-7,0.00005010832319385372,1.6609462250016805e-7,1.0639441327953137e-8,1.5369138184340159e-9,3.31583436263827e-8,1.1622641693520564e-7,0.000008991204595076852,0.0029438999481499197,0.21390873193740846,0.000026359643015894109,4.406308207194343e-9,2.4492138095411066e-8,1.878653677067632e-9,1.0611670431259768e-9,2.8015358921607005e-9,2.2170100422158613e-8,3.2361928692381527e-9,1.0700703967359004e-7,9.084493157729412e-9,1.414262706944669e-9,1.1292272672491777e-9,1.0627576152444363e-8,2.6659068286249978e-9,1.2614830957602408e-8,6.622542514378438e-9,2.8733506240996577e-8,5.679486325682603e-10,8.077331870026683e-8,1.650533931751852e-7,4.661851793485994e-9,1.1695375334852543e-8,8.0485991205137e-9,1.4385055369103839e-9,9.025422631481206e-10,3.0065951950319915e-9,2.1564807717311398e-9,1.4307842022276418e-8,1.2586495401478715e-8,7.147238534344069e-8,2.7899778842765956e-7]}]}"
     ]
    }
   ],
   "source": [
    "!curl --request POST $ENDPOINT/projects/$PROJECT_ID/models/$BINARY_MODEL_NAME/versions/$BINARY_VERSION_NAME:predict \\\n",
    "    -k -H \"Content-Type: application/octet-stream\" \\\n",
    "    -H \"Authorization: Bearer `gcloud auth print-access-token`\" \\\n",
    "    -H \"Inference-Header-Content-Length: 138\" \\\n",
    "    --data-binary @payload.dat"
   ]
  },
  {
   "cell_type": "code",
   "execution_count": 41,
   "metadata": {},
   "outputs": [
    {
     "name": "stdout",
     "output_type": "stream",
     "text": [
      "{\n",
      "  \"error\": {\n",
      "    \"code\": 403,\n",
      "    \"message\": \"Access to model denied.\",\n",
      "    \"status\": \"PERMISSION_DENIED\"\n",
      "  }\n",
      "}\n"
     ]
    }
   ],
   "source": [
    "# this doesn't work: gcloud auth application-default print-access-token\n",
    "\n",
    "!curl --request POST $ENDPOINT/projects/$PROJECT_ID/models/$BINARY_MODEL_NAME/versions/$BINARY_VERSION_NAME:predict \\\n",
    "    -k -H \"Content-Type: application/octet-stream\" \\\n",
    "    -H \"Authorization: Bearer `gcloud auth application-default print-access-token`\" \\\n",
    "    -H \"Inference-Header-Content-Length: 138\" \\\n",
    "    --data-binary @payload.dat"
   ]
  },
  {
   "cell_type": "markdown",
   "metadata": {},
   "source": [
    "#### Run prediction using Using `requests` library"
   ]
  },
  {
   "cell_type": "code",
   "execution_count": 44,
   "metadata": {},
   "outputs": [
    {
     "data": {
      "text/plain": [
       "{'id': '0',\n",
       " 'model_name': 'resnet50_netdef',\n",
       " 'model_version': '1',\n",
       " 'outputs': [{'name': 'gpu_0/softmax',\n",
       "   'datatype': 'FP32',\n",
       "   'shape': [1, 1000],\n",
       "   'data': [9.698576386441005e-10,\n",
       "    3.2031421959288764e-09,\n",
       "    1.9225324110472286e-10,\n",
       "    1.622270651147062e-09,\n",
       "    4.734711511744649e-10,\n",
       "    4.736601777466376e-09,\n",
       "    5.2833907387972445e-11,\n",
       "    1.5530178254508087e-09,\n",
       "    1.0723617549501796e-09,\n",
       "    1.6877773845180855e-08,\n",
       "    2.7639702082637996e-08,\n",
       "    2.4067116299875124e-08,\n",
       "    2.3789946013152985e-08,\n",
       "    3.813896753968038e-08,\n",
       "    1.707913277471107e-08,\n",
       "    1.677788752374454e-08,\n",
       "    2.7277375913570268e-09,\n",
       "    7.533176749063841e-09,\n",
       "    3.448606022971035e-08,\n",
       "    1.5721646207111917e-08,\n",
       "    3.0091542591037523e-09,\n",
       "    1.8809401258756964e-10,\n",
       "    2.4593422853769198e-09,\n",
       "    2.8420139575047187e-09,\n",
       "    1.3236193252552653e-09,\n",
       "    9.352436158849287e-09,\n",
       "    1.2529297599428446e-08,\n",
       "    8.686888541831195e-09,\n",
       "    8.706960485937998e-09,\n",
       "    5.088249110940524e-08,\n",
       "    1.4554123461962831e-09,\n",
       "    6.056438461854441e-09,\n",
       "    7.962206893807888e-09,\n",
       "    7.382499944696974e-09,\n",
       "    3.922888236473909e-09,\n",
       "    1.672104676941899e-09,\n",
       "    6.8971197642042625e-09,\n",
       "    3.3895479756296254e-09,\n",
       "    1.5144490106422381e-09,\n",
       "    1.028257590185433e-09,\n",
       "    1.0017140006368663e-08,\n",
       "    7.349927888533614e-10,\n",
       "    3.1613291984200487e-09,\n",
       "    2.715688562915375e-09,\n",
       "    1.509429026214093e-08,\n",
       "    8.96525609306309e-09,\n",
       "    7.265397616862401e-09,\n",
       "    1.5105147355143345e-08,\n",
       "    3.519653180017457e-10,\n",
       "    2.2296535451271637e-10,\n",
       "    7.583876304728676e-10,\n",
       "    5.487293397443693e-10,\n",
       "    4.3230549806594354e-08,\n",
       "    5.574785788553527e-08,\n",
       "    2.8456224043793554e-08,\n",
       "    1.511855174385346e-08,\n",
       "    6.34844887770214e-09,\n",
       "    1.305215380220659e-09,\n",
       "    4.9460728845929225e-09,\n",
       "    1.4605407550050131e-08,\n",
       "    8.754903468854991e-09,\n",
       "    2.4199027226501357e-09,\n",
       "    4.6248027629758326e-10,\n",
       "    6.198229929310628e-09,\n",
       "    4.586119928262633e-09,\n",
       "    2.8508919669434363e-08,\n",
       "    1.8072427110382705e-08,\n",
       "    1.6654967405216325e-09,\n",
       "    7.771237875431325e-09,\n",
       "    3.5171854317894713e-09,\n",
       "    5.233608657562172e-09,\n",
       "    3.4735510023864435e-09,\n",
       "    4.091742944467569e-09,\n",
       "    7.104977051142214e-09,\n",
       "    1.6378469691602504e-09,\n",
       "    1.3539573906484748e-08,\n",
       "    9.039208492822581e-09,\n",
       "    5.372128075720184e-09,\n",
       "    2.1784723003293038e-07,\n",
       "    1.3337520421430327e-08,\n",
       "    4.170209955134396e-09,\n",
       "    1.5893211746664804e-10,\n",
       "    1.3226426620605025e-09,\n",
       "    5.86063420016103e-10,\n",
       "    1.9203776069343093e-10,\n",
       "    9.640189979620573e-09,\n",
       "    1.30845567714033e-09,\n",
       "    1.0069090450315343e-08,\n",
       "    1.4527385960860784e-09,\n",
       "    9.24559362402988e-09,\n",
       "    1.0913791648192728e-08,\n",
       "    3.2153357754083345e-09,\n",
       "    5.63269120235077e-09,\n",
       "    2.378063523877927e-09,\n",
       "    1.993214304718549e-08,\n",
       "    5.243190326353897e-09,\n",
       "    3.599350151262115e-09,\n",
       "    4.892747318407942e-10,\n",
       "    1.5736849601211134e-09,\n",
       "    5.371533440268195e-09,\n",
       "    3.6697549887776404e-08,\n",
       "    2.3895394551942672e-09,\n",
       "    9.809549839090437e-10,\n",
       "    6.473413804997108e-09,\n",
       "    1.96000704555388e-09,\n",
       "    2.3588597741763806e-09,\n",
       "    4.0047645200047555e-09,\n",
       "    1.5872982928044621e-09,\n",
       "    3.1951001844277016e-09,\n",
       "    7.748338082258499e-10,\n",
       "    1.5910508466276951e-09,\n",
       "    4.9251298150920775e-08,\n",
       "    1.4282757199168827e-08,\n",
       "    1.1915335385026538e-08,\n",
       "    7.626512754654868e-09,\n",
       "    3.3100111540562693e-10,\n",
       "    6.310297284706223e-10,\n",
       "    1.9260211203686595e-08,\n",
       "    8.000376539030185e-08,\n",
       "    6.337101066122841e-09,\n",
       "    7.084719921834903e-09,\n",
       "    3.5187373015332923e-08,\n",
       "    9.542505807758062e-08,\n",
       "    4.691394384082059e-09,\n",
       "    5.488136878284422e-08,\n",
       "    1.920738412763967e-08,\n",
       "    2.7635416177673733e-09,\n",
       "    1.3777042839890896e-09,\n",
       "    9.086152386039714e-10,\n",
       "    1.8229757980936512e-10,\n",
       "    2.994485548413195e-09,\n",
       "    1.4273899839878368e-09,\n",
       "    2.3050487740761127e-08,\n",
       "    1.4671516224140646e-09,\n",
       "    3.5496492412079306e-09,\n",
       "    2.4097510653575682e-09,\n",
       "    7.572241722542117e-10,\n",
       "    3.868889209002191e-09,\n",
       "    4.481700566216773e-10,\n",
       "    5.368785971349155e-10,\n",
       "    6.703338439884021e-10,\n",
       "    2.7403677105297675e-09,\n",
       "    5.827305860073295e-10,\n",
       "    8.928988659562265e-10,\n",
       "    2.1070514777399296e-10,\n",
       "    3.7966660926258555e-08,\n",
       "    6.07749894854237e-09,\n",
       "    2.64817279216345e-10,\n",
       "    4.609728154747472e-09,\n",
       "    4.134995457150126e-09,\n",
       "    6.21549034462987e-09,\n",
       "    1.1386496368004373e-07,\n",
       "    3.828617867185358e-09,\n",
       "    1.8371984822351806e-08,\n",
       "    5.1423860725208215e-09,\n",
       "    4.9119464051727846e-09,\n",
       "    4.805075448643947e-09,\n",
       "    1.1915880726576233e-08,\n",
       "    4.7673642811219e-09,\n",
       "    7.582636740721682e-09,\n",
       "    6.56972654056176e-09,\n",
       "    4.790305929702754e-09,\n",
       "    5.123099722226243e-09,\n",
       "    1.596587395624738e-08,\n",
       "    2.0268089429009706e-08,\n",
       "    9.628264407979259e-09,\n",
       "    1.7281115205491915e-08,\n",
       "    8.242405868941205e-09,\n",
       "    1.9858788391502458e-08,\n",
       "    2.2099544416676054e-09,\n",
       "    2.907757368220132e-09,\n",
       "    1.2640216873194277e-08,\n",
       "    1.3864939418795075e-08,\n",
       "    1.6109645173401077e-08,\n",
       "    2.4002373422149503e-09,\n",
       "    6.804087071543563e-09,\n",
       "    7.430601467461884e-09,\n",
       "    1.5305627876216477e-09,\n",
       "    8.12039324671332e-09,\n",
       "    3.297743855767976e-09,\n",
       "    1.1992257187287692e-09,\n",
       "    2.643431784576933e-08,\n",
       "    9.020470592702168e-09,\n",
       "    2.4493818528981137e-08,\n",
       "    2.8256112116764598e-08,\n",
       "    8.073229196270404e-09,\n",
       "    2.8994126211046023e-08,\n",
       "    3.254821123732654e-08,\n",
       "    3.949879534559386e-09,\n",
       "    7.218296182998074e-09,\n",
       "    1.6019072290873737e-08,\n",
       "    9.298777570165839e-08,\n",
       "    6.913438266309413e-09,\n",
       "    7.983664396249424e-09,\n",
       "    6.047261358332889e-09,\n",
       "    5.927695667651278e-09,\n",
       "    3.1342639594811317e-09,\n",
       "    3.99130506423262e-09,\n",
       "    5.129044744478506e-09,\n",
       "    4.702305655968075e-09,\n",
       "    2.363899520574364e-09,\n",
       "    2.2309659897246092e-08,\n",
       "    1.5720475587954752e-08,\n",
       "    4.02178113034779e-09,\n",
       "    1.676228045255357e-08,\n",
       "    2.360277306934222e-09,\n",
       "    8.88107809515759e-09,\n",
       "    5.6440696560855486e-09,\n",
       "    4.169852019231257e-09,\n",
       "    3.5051708202615828e-09,\n",
       "    3.387744973437634e-09,\n",
       "    7.619882502751807e-09,\n",
       "    1.0692940977108378e-09,\n",
       "    3.620660882219795e-09,\n",
       "    2.9190878603202464e-09,\n",
       "    5.013317760926839e-09,\n",
       "    1.892337619935347e-09,\n",
       "    1.3575121027287196e-09,\n",
       "    2.2537824939661277e-09,\n",
       "    1.7765543480763313e-09,\n",
       "    9.046935645073972e-09,\n",
       "    5.457777785267126e-09,\n",
       "    6.3623404322754595e-09,\n",
       "    1.004197081044822e-08,\n",
       "    1.8089256315079183e-08,\n",
       "    1.4516535529196517e-08,\n",
       "    1.442740593660119e-08,\n",
       "    9.118900301530175e-09,\n",
       "    1.7501360360938634e-09,\n",
       "    3.5861931202418873e-09,\n",
       "    1.8879859897680262e-09,\n",
       "    6.823387188603647e-09,\n",
       "    1.083970868620554e-08,\n",
       "    3.7221583593094465e-09,\n",
       "    3.868992681788086e-09,\n",
       "    9.900871233980979e-09,\n",
       "    1.189483267438618e-08,\n",
       "    7.2286434615875805e-09,\n",
       "    7.676321800431651e-09,\n",
       "    7.516369748827856e-09,\n",
       "    1.6227541976832072e-08,\n",
       "    1.6971936744880622e-08,\n",
       "    7.47042072646309e-09,\n",
       "    9.211198914726992e-09,\n",
       "    1.4110212998019733e-09,\n",
       "    7.3516424059505425e-09,\n",
       "    6.011530384597563e-09,\n",
       "    1.7100670879344193e-09,\n",
       "    1.0432123609405153e-08,\n",
       "    1.7261646334532088e-08,\n",
       "    7.596330675596619e-09,\n",
       "    9.355933805466066e-09,\n",
       "    6.180711054071253e-09,\n",
       "    1.1168215685586347e-08,\n",
       "    1.4440097118040285e-08,\n",
       "    1.5506321782154942e-09,\n",
       "    1.4736111886293202e-08,\n",
       "    5.013585990809588e-09,\n",
       "    3.5921696728280494e-09,\n",
       "    9.499589559425203e-09,\n",
       "    2.7662365731373484e-09,\n",
       "    1.975733798786905e-09,\n",
       "    9.255702870802907e-09,\n",
       "    5.755157683751122e-09,\n",
       "    6.387948836561463e-09,\n",
       "    2.2963863699487774e-08,\n",
       "    8.610118840124414e-09,\n",
       "    1.0868044242329233e-09,\n",
       "    1.2402023408242258e-08,\n",
       "    2.9767750486797695e-09,\n",
       "    6.42110231652282e-09,\n",
       "    2.049792113822946e-09,\n",
       "    2.146009592252085e-09,\n",
       "    8.88060469605989e-09,\n",
       "    1.3857501812708506e-09,\n",
       "    3.4336726795203276e-09,\n",
       "    2.2318500381146578e-09,\n",
       "    2.273673915809127e-09,\n",
       "    1.2515365410692425e-09,\n",
       "    2.030383194906449e-09,\n",
       "    5.079732634527545e-09,\n",
       "    1.1270373967420255e-08,\n",
       "    4.320804336543915e-08,\n",
       "    1.1264915222852778e-08,\n",
       "    3.1693530022636196e-09,\n",
       "    5.722465346025274e-08,\n",
       "    4.125807473442933e-10,\n",
       "    4.9892028286535606e-09,\n",
       "    1.525701120996814e-09,\n",
       "    9.476819329279351e-10,\n",
       "    1.96416838349478e-09,\n",
       "    2.9527422729103137e-09,\n",
       "    4.043455792412942e-09,\n",
       "    2.0423343016773288e-09,\n",
       "    2.8030913146182e-09,\n",
       "    3.1823581547740787e-09,\n",
       "    1.0068898603776688e-08,\n",
       "    9.504187437059386e-10,\n",
       "    3.442820917243239e-09,\n",
       "    8.153311803482666e-09,\n",
       "    3.499755152347461e-08,\n",
       "    1.017199657837864e-08,\n",
       "    4.798346253664931e-08,\n",
       "    2.069300819584896e-08,\n",
       "    2.3826582928876405e-09,\n",
       "    4.255494179261632e-09,\n",
       "    5.120494250832053e-08,\n",
       "    3.4848393060116223e-09,\n",
       "    2.2187180981347865e-09,\n",
       "    1.5307826117805234e-08,\n",
       "    5.06286568224823e-08,\n",
       "    2.3925370129518342e-08,\n",
       "    2.10788151377983e-08,\n",
       "    1.0066479205761425e-08,\n",
       "    5.079735032609278e-08,\n",
       "    3.1640134956489874e-09,\n",
       "    4.87037610241714e-09,\n",
       "    2.3826354222933332e-09,\n",
       "    2.7253039824870484e-09,\n",
       "    2.692053246988735e-09,\n",
       "    2.261964837657615e-09,\n",
       "    5.4318252118434884e-09,\n",
       "    2.9642877041879956e-09,\n",
       "    4.0811349855118806e-09,\n",
       "    2.0067130179768355e-09,\n",
       "    1.1233176611114004e-09,\n",
       "    2.9914426491473023e-09,\n",
       "    3.586685837220216e-09,\n",
       "    5.8041362827054854e-09,\n",
       "    5.5952145139315235e-09,\n",
       "    2.5694368854800587e-09,\n",
       "    1.9867303358012123e-09,\n",
       "    4.1603582801030825e-09,\n",
       "    4.681118070948287e-08,\n",
       "    3.262856651531365e-09,\n",
       "    5.398124169886387e-09,\n",
       "    7.404382107445429e-10,\n",
       "    6.164628363336533e-09,\n",
       "    8.049089395001374e-09,\n",
       "    2.5607234110935906e-09,\n",
       "    1.6636395594460396e-09,\n",
       "    8.811170681966018e-10,\n",
       "    9.860479099899067e-10,\n",
       "    1.530729210053039e-09,\n",
       "    3.8599831664321016e-10,\n",
       "    8.006431961860017e-09,\n",
       "    4.5409601079349216e-10,\n",
       "    1.8937635903881755e-09,\n",
       "    6.801764484976047e-09,\n",
       "    4.971145717291847e-09,\n",
       "    3.672294690559852e-09,\n",
       "    8.58979165574425e-10,\n",
       "    1.3467705839431687e-09,\n",
       "    2.169132873319768e-09,\n",
       "    9.649144816492594e-10,\n",
       "    4.311762946684894e-09,\n",
       "    4.528535413328427e-08,\n",
       "    1.0307340758686223e-08,\n",
       "    4.7687127135986884e-08,\n",
       "    8.038063725734901e-08,\n",
       "    4.437852751948412e-09,\n",
       "    9.991875771220293e-09,\n",
       "    7.428037296364209e-09,\n",
       "    3.6514737900006367e-09,\n",
       "    2.904918972035375e-09,\n",
       "    5.618064347068241e-10,\n",
       "    4.993522262353167e-10,\n",
       "    4.9895172438141344e-09,\n",
       "    2.5352335786266167e-09,\n",
       "    2.768020479493316e-09,\n",
       "    2.4444193336137232e-09,\n",
       "    5.097348765303877e-09,\n",
       "    2.22350537981697e-09,\n",
       "    5.282670745287987e-09,\n",
       "    4.599513658831711e-09,\n",
       "    1.147497985520829e-09,\n",
       "    6.917326156319348e-10,\n",
       "    8.193438816306298e-09,\n",
       "    5.062294139435153e-09,\n",
       "    2.5131301484293544e-09,\n",
       "    7.013715830339606e-09,\n",
       "    3.0492277591775974e-09,\n",
       "    5.836889371835241e-08,\n",
       "    5.207192455003451e-09,\n",
       "    7.45152117787029e-09,\n",
       "    3.182048624594813e-09,\n",
       "    1.1654862630550156e-09,\n",
       "    1.7500168425499396e-08,\n",
       "    1.6867883756432889e-09,\n",
       "    6.227627302735073e-10,\n",
       "    1.0357793733817289e-08,\n",
       "    1.2533497573130603e-09,\n",
       "    6.812437280956374e-09,\n",
       "    9.425621394498762e-10,\n",
       "    1.212711597808891e-09,\n",
       "    9.342274509549497e-09,\n",
       "    1.803529769972556e-09,\n",
       "    1.8160531967126303e-09,\n",
       "    1.2289607553839232e-08,\n",
       "    6.397133489599582e-08,\n",
       "    2.773553609003443e-09,\n",
       "    1.6944801117801944e-08,\n",
       "    5.2157734131697e-08,\n",
       "    6.710105249219112e-10,\n",
       "    2.527359832527054e-08,\n",
       "    5.764188237833423e-09,\n",
       "    2.0412516121837143e-09,\n",
       "    2.0218156038254165e-09,\n",
       "    6.82219891690039e-10,\n",
       "    4.3122685156049556e-07,\n",
       "    1.2642452640321267e-09,\n",
       "    4.410228626738899e-08,\n",
       "    1.1694929753502947e-06,\n",
       "    7.501818721777909e-09,\n",
       "    4.4224595541209055e-08,\n",
       "    3.62731249481385e-08,\n",
       "    2.787784758595535e-08,\n",
       "    1.935887894433108e-08,\n",
       "    1.7855491023510695e-06,\n",
       "    6.366608431562781e-07,\n",
       "    3.4229223899728822e-09,\n",
       "    3.7037892752778134e-08,\n",
       "    1.8390915457189294e-08,\n",
       "    2.1132597893824823e-08,\n",
       "    6.5199188270526065e-09,\n",
       "    4.6328721414745644e-10,\n",
       "    7.826668024790706e-08,\n",
       "    8.176781420843326e-07,\n",
       "    2.342790850207166e-08,\n",
       "    1.5922903884302286e-08,\n",
       "    4.4073336091798865e-09,\n",
       "    6.878214886540945e-09,\n",
       "    2.55880962640731e-07,\n",
       "    2.4135391640811577e-07,\n",
       "    8.227892145384885e-09,\n",
       "    6.751978531838176e-08,\n",
       "    2.0920194465645636e-09,\n",
       "    3.413957117004429e-09,\n",
       "    8.55291000334546e-06,\n",
       "    1.8516175259719603e-07,\n",
       "    8.267495559266536e-07,\n",
       "    2.3250290723808575e-06,\n",
       "    1.0866136879172927e-09,\n",
       "    3.662271153004326e-09,\n",
       "    1.084046741262057e-09,\n",
       "    2.945946597776583e-09,\n",
       "    2.740809748047468e-07,\n",
       "    2.225282059953315e-06,\n",
       "    7.238939758735796e-08,\n",
       "    4.335899694840606e-10,\n",
       "    5.017795068340547e-09,\n",
       "    4.49842874061801e-09,\n",
       "    4.783604179436907e-09,\n",
       "    3.366079326383442e-08,\n",
       "    7.249202571557589e-09,\n",
       "    1.44607341212577e-07,\n",
       "    2.6552653409339655e-09,\n",
       "    6.005665653674441e-08,\n",
       "    3.1623907936761952e-09,\n",
       "    2.3046002439741642e-08,\n",
       "    2.422935463375353e-10,\n",
       "    1.3405506704700088e-09,\n",
       "    2.4004675580613366e-08,\n",
       "    7.300396305254253e-07,\n",
       "    3.2911239600252884e-07,\n",
       "    5.166544525536665e-08,\n",
       "    5.071252306976248e-09,\n",
       "    5.485514265046731e-10,\n",
       "    2.5721091923003314e-09,\n",
       "    3.427809360800893e-07,\n",
       "    1.886977315734839e-06,\n",
       "    2.080417260685863e-08,\n",
       "    2.9928393097122807e-10,\n",
       "    2.436012664475129e-06,\n",
       "    7.469850515917642e-09,\n",
       "    3.939964798860274e-08,\n",
       "    3.50611206734186e-10,\n",
       "    6.926362772219363e-08,\n",
       "    5.8691863813464806e-08,\n",
       "    2.4943494381091114e-08,\n",
       "    4.916417051248345e-09,\n",
       "    5.718711904023621e-08,\n",
       "    8.03202908628009e-07,\n",
       "    1.2009401251233953e-09,\n",
       "    3.186979014024871e-10,\n",
       "    4.350365827576752e-07,\n",
       "    6.7019616523111836e-09,\n",
       "    1.1518669680299354e-06,\n",
       "    3.7788811368955066e-07,\n",
       "    1.4338302989358453e-08,\n",
       "    4.647442874983199e-09,\n",
       "    1.6572522909541476e-08,\n",
       "    4.7510066991662825e-09,\n",
       "    1.6021303395064024e-08,\n",
       "    2.2147277789485997e-08,\n",
       "    2.7389631895857747e-08,\n",
       "    5.157375415620891e-09,\n",
       "    1.992627840508021e-09,\n",
       "    2.5373763090641432e-09,\n",
       "    2.4672499421285465e-07,\n",
       "    2.0301420267099246e-10,\n",
       "    2.0559474123160726e-09,\n",
       "    9.894533548049367e-08,\n",
       "    4.030752734252019e-06,\n",
       "    0.7773656845092773,\n",
       "    0.0015909161884337664,\n",
       "    7.254005396362118e-08,\n",
       "    1.2198267995700007e-07,\n",
       "    1.535916140937843e-07,\n",
       "    3.5312275326049303e-09,\n",
       "    1.0132860772671393e-08,\n",
       "    4.191165636768801e-09,\n",
       "    1.1469883247627877e-05,\n",
       "    2.6241966821771712e-08,\n",
       "    3.479607002532248e-08,\n",
       "    1.4607889120554773e-08,\n",
       "    3.2589195786414393e-09,\n",
       "    1.6880413511444203e-08,\n",
       "    1.4558488636851052e-08,\n",
       "    1.7293050547095845e-08,\n",
       "    3.1769245012469582e-09,\n",
       "    8.833774813865602e-07,\n",
       "    2.5843647222245636e-08,\n",
       "    7.963396342347551e-08,\n",
       "    1.0154467267042833e-09,\n",
       "    3.8789513268078224e-10,\n",
       "    2.6072851255776186e-07,\n",
       "    1.0371795156061125e-07,\n",
       "    2.555746334564901e-07,\n",
       "    3.538132986591336e-08,\n",
       "    5.80385767534608e-06,\n",
       "    1.647274245897279e-07,\n",
       "    1.4464458786278556e-07,\n",
       "    4.727118962932764e-08,\n",
       "    9.867916261896426e-09,\n",
       "    2.607104576668462e-08,\n",
       "    8.081379121449572e-09,\n",
       "    3.3584957037646745e-10,\n",
       "    7.0113341799071804e-09,\n",
       "    1.3209083249421383e-07,\n",
       "    6.934422813742458e-09,\n",
       "    6.279662301267308e-08,\n",
       "    5.776716704986029e-08,\n",
       "    5.57861454808517e-08,\n",
       "    6.78079743465787e-08,\n",
       "    2.936193155278488e-08,\n",
       "    7.081521147256353e-08,\n",
       "    6.688344877936458e-10,\n",
       "    1.2365010348958094e-08,\n",
       "    5.1207647011608515e-09,\n",
       "    0.00016719654377084225,\n",
       "    9.990318176278379e-06,\n",
       "    1.1180790515652461e-08,\n",
       "    2.5338035669619785e-08,\n",
       "    2.0437567194164785e-09,\n",
       "    5.106476130833926e-09,\n",
       "    1.981429420538916e-08,\n",
       "    2.065924098459959e-09,\n",
       "    9.972936965141344e-08,\n",
       "    9.00630414690795e-09,\n",
       "    6.905096494591589e-09,\n",
       "    1.4300175266157567e-08,\n",
       "    1.01570671873219e-08,\n",
       "    3.565109238934383e-07,\n",
       "    3.637451451155016e-10,\n",
       "    1.261862725421281e-09,\n",
       "    3.908706958100083e-08,\n",
       "    2.4684654320594746e-08,\n",
       "    4.488323934737082e-09,\n",
       "    1.1406684485848473e-08,\n",
       "    3.122290337387312e-08,\n",
       "    1.5413620602089395e-08,\n",
       "    4.159253876423463e-06,\n",
       "    1.2044873543004542e-08,\n",
       "    5.354573318072653e-07,\n",
       "    4.047854051947297e-09,\n",
       "    7.979443772399009e-10,\n",
       "    4.726827818046786e-09,\n",
       "    2.266941478978879e-08,\n",
       "    1.6976631656007157e-08,\n",
       "    2.5229951461369637e-09,\n",
       "    4.06911082606598e-09,\n",
       "    2.677474464363172e-09,\n",
       "    6.973563948520223e-09,\n",
       "    2.528358322706481e-08,\n",
       "    1.1648018698906526e-05,\n",
       "    8.807259810339474e-09,\n",
       "    6.761102611108072e-08,\n",
       "    1.9185753785677662e-07,\n",
       "    6.334388444884098e-07,\n",
       "    2.1202515654294984e-07,\n",
       "    1.1984442771506565e-08,\n",
       "    4.814929184249195e-07,\n",
       "    2.9604468210209234e-08,\n",
       "    1.03387458594284e-08,\n",
       "    2.087403805361987e-09,\n",
       "    1.2606124144554087e-08,\n",
       "    1.6022955406924666e-08,\n",
       "    1.1102030583742817e-07,\n",
       "    7.09481113858601e-08,\n",
       "    6.921573003637604e-07,\n",
       "    1.18254073200319e-08,\n",
       "    7.348558650477344e-09,\n",
       "    5.516088141810371e-10,\n",
       "    6.71957707254478e-08,\n",
       "    3.1196384497889085e-06,\n",
       "    1.7382097894369508e-07,\n",
       "    2.5935877889793346e-09,\n",
       "    7.36545313628767e-09,\n",
       "    2.7145907743886255e-09,\n",
       "    8.698631859260786e-08,\n",
       "    9.557050617559071e-08,\n",
       "    2.0069837458613904e-10,\n",
       "    2.2027036550298362e-07,\n",
       "    3.2131286520353797e-09,\n",
       "    5.728679752792232e-08,\n",
       "    2.254990647543309e-07,\n",
       "    1.3387251840413228e-07,\n",
       "    3.663930669972615e-07,\n",
       "    1.5141928315642872e-06,\n",
       "    7.682814384679659e-08,\n",
       "    3.873555698419295e-09,\n",
       "    2.9071086828480475e-05,\n",
       "    5.846206931892084e-07,\n",
       "    2.8153737119396283e-08,\n",
       "    1.0179715959068858e-09,\n",
       "    4.957510668646137e-07,\n",
       "    1.7212520297960054e-09,\n",
       "    8.259291917056544e-09,\n",
       "    1.5598094478264102e-06,\n",
       "    2.1107702252720628e-08,\n",
       "    1.2856397006544285e-05,\n",
       "    4.334821369411657e-06,\n",
       "    4.293890469853068e-06,\n",
       "    7.619762598665147e-10,\n",
       "    1.447447061764251e-06,\n",
       "    2.922654651626999e-08,\n",
       "    8.338519563722002e-08,\n",
       "    1.0721986853923227e-08,\n",
       "    8.649952754069545e-09,\n",
       "    9.383033933163532e-11,\n",
       "    2.5547434390205126e-08,\n",
       "    7.695408754671007e-09,\n",
       "    7.47246176047156e-08,\n",
       "    1.5667036734612338e-07,\n",
       "    3.72295111406018e-10,\n",
       "    1.093679635744138e-08,\n",
       "    0.0001534046168671921,\n",
       "    1.5840358358332196e-08,\n",
       "    3.0860187738568357e-09,\n",
       "    1.2358233334452962e-06,\n",
       "    1.295530154266089e-07,\n",
       "    1.2041197372525403e-08,\n",
       "    1.6472358765895478e-06,\n",
       "    3.8221381615244354e-09,\n",
       "    8.360794723216713e-09,\n",
       "    1.9510777438114246e-09,\n",
       "    6.683923636785494e-09,\n",
       "    8.714059163139609e-08,\n",
       "    3.702685944517725e-07,\n",
       "    1.3261969300515375e-09,\n",
       "    3.5163469913612744e-09,\n",
       "    5.82856318942504e-06,\n",
       "    1.439298680239176e-09,\n",
       "    6.153248222062757e-08,\n",
       "    4.1196582256652903e-10,\n",
       "    1.2122093266953016e-06,\n",
       "    4.045363155569248e-08,\n",
       "    4.577299650421196e-10,\n",
       "    3.004048954036165e-10,\n",
       "    1.9716417387627416e-09,\n",
       "    6.2045102389163276e-09,\n",
       "    1.5462582325653784e-09,\n",
       "    1.9165538560628192e-06,\n",
       "    1.9601063172558497e-07,\n",
       "    3.079067556477355e-10,\n",
       "    1.1859897952604115e-08,\n",
       "    7.05547407164886e-08,\n",
       "    1.1022118684422821e-07,\n",
       "    6.523218587517476e-08,\n",
       "    4.348240508988965e-06,\n",
       "    7.192301723080163e-07,\n",
       "    5.0229944648094715e-09,\n",
       "    1.9359831071597e-07,\n",
       "    3.3887033623614116e-08,\n",
       "    3.3695997103677655e-08,\n",
       "    7.29092380424845e-06,\n",
       "    1.468680288496671e-09,\n",
       "    1.9398649797608414e-08,\n",
       "    3.1891760343683018e-09,\n",
       "    2.2687127176901356e-10,\n",
       "    1.1482583772703947e-08,\n",
       "    9.368590525582476e-08,\n",
       "    1.3705099277672161e-09,\n",
       "    2.2050813952567694e-10,\n",
       "    2.711755087148049e-07,\n",
       "    6.874464588690898e-07,\n",
       "    3.3898261975195965e-09,\n",
       "    2.189392001028523e-09,\n",
       "    1.0524903615305448e-07,\n",
       "    1.6456310731882695e-06,\n",
       "    2.7589175388698095e-09,\n",
       "    3.087338740215273e-08,\n",
       "    5.059504371018875e-09,\n",
       "    1.3582433844305797e-08,\n",
       "    1.1827911094997035e-08,\n",
       "    2.2135400179479348e-09,\n",
       "    1.4157370387124502e-08,\n",
       "    7.709134308697685e-08,\n",
       "    7.905384791229153e-09,\n",
       "    3.4423271699779434e-06,\n",
       "    4.742231794807594e-06,\n",
       "    5.2023776397902566e-09,\n",
       "    3.105641965817085e-08,\n",
       "    1.6608623809588607e-07,\n",
       "    4.029597100441151e-09,\n",
       "    2.268644605507575e-09,\n",
       "    1.1960146650835668e-08,\n",
       "    3.857468122703267e-09,\n",
       "    1.4552207971973985e-07,\n",
       "    1.0038438631454483e-06,\n",
       "    3.762048894628833e-09,\n",
       "    3.600150364491128e-07,\n",
       "    3.00930924623799e-09,\n",
       "    1.286068584960276e-09,\n",
       "    0.00016237607633229345,\n",
       "    2.54633092389156e-09,\n",
       "    2.642489249637947e-08,\n",
       "    5.397221158887078e-08,\n",
       "    6.066662194825767e-08,\n",
       "    2.496713724653432e-09,\n",
       "    1.8120225320217287e-07,\n",
       "    1.118088675866602e-06,\n",
       "    5.967781362414826e-07,\n",
       "    5.723649887379167e-10,\n",
       "    3.991624808463712e-09,\n",
       "    1.2873798027612793e-08,\n",
       "    3.0984605814410315e-07,\n",
       "    2.701892981349374e-06,\n",
       "    3.53720542989322e-06,\n",
       "    5.08986026659386e-08,\n",
       "    6.158220045016094e-10,\n",
       "    1.978464858609641e-08,\n",
       "    7.1301329285233805e-09,\n",
       "    6.272563979337065e-08,\n",
       "    1.829009050879904e-07,\n",
       "    1.1607986039052776e-07,\n",
       "    1.3170955526220496e-07,\n",
       "    1.5354144622392596e-08,\n",
       "    6.676766162172498e-08,\n",
       "    2.0588473148563935e-09,\n",
       "    3.054631392274132e-08,\n",
       "    7.830833936850468e-08,\n",
       "    2.537629129051311e-08,\n",
       "    2.6505181267566513e-06,\n",
       "    3.48400197580645e-09,\n",
       "    1.3397149700722366e-07,\n",
       "    3.610200138837172e-09,\n",
       "    2.011338438023813e-07,\n",
       "    6.314283382380381e-06,\n",
       "    2.399282017506721e-08,\n",
       "    2.9326026833587093e-06,\n",
       "    5.522272772395809e-08,\n",
       "    8.802159356946504e-08,\n",
       "    6.242749606144571e-08,\n",
       "    5.091239074772602e-08,\n",
       "    1.3423654188216005e-08,\n",
       "    2.2468357485649904e-07,\n",
       "    3.7047909184906302e-09,\n",
       "    1.1766139351720994e-07,\n",
       "    1.7476983416031544e-08,\n",
       "    1.939587512822527e-08,\n",
       "    9.134903677932016e-08,\n",
       "    3.4306074212508975e-06,\n",
       "    1.69975304942227e-08,\n",
       "    8.45499315005327e-09,\n",
       "    1.340722093345903e-07,\n",
       "    3.428713668540695e-08,\n",
       "    1.0124810501110915e-07,\n",
       "    2.9266584711251653e-09,\n",
       "    5.7941043074549725e-09,\n",
       "    5.486950893640596e-09,\n",
       "    7.703797422209391e-08,\n",
       "    2.661356290900585e-08,\n",
       "    1.3451600011649134e-07,\n",
       "    1.675291549929625e-08,\n",
       "    2.6770175054480205e-07,\n",
       "    2.6932294172610227e-09,\n",
       "    9.654335109132717e-10,\n",
       "    6.243284644824598e-08,\n",
       "    1.6157063242872027e-08,\n",
       "    1.0081524060012725e-08,\n",
       "    6.838190813596157e-08,\n",
       "    8.048081667766382e-08,\n",
       "    2.8609697722004057e-08,\n",
       "    3.5741949400147632e-09,\n",
       "    8.133991968861665e-08,\n",
       "    2.2086322104541978e-08,\n",
       "    2.9044825211599345e-08,\n",
       "    7.267147594802736e-08,\n",
       "    2.088326872540236e-10,\n",
       "    1.3923089170475578e-07,\n",
       "    6.278506603507594e-10,\n",
       "    2.986350333689103e-10,\n",
       "    1.472081862630148e-06,\n",
       "    4.737496173135014e-09,\n",
       "    7.053142514479305e-09,\n",
       "    9.041484894112273e-09,\n",
       "    3.263027963384957e-07,\n",
       "    6.072143605706515e-06,\n",
       "    2.639592722175621e-08,\n",
       "    1.989745470609705e-07,\n",
       "    3.5516013241476685e-08,\n",
       "    1.6330527330410405e-07,\n",
       "    9.803918787909538e-10,\n",
       "    8.840955523226057e-09,\n",
       "    4.0951569246772124e-08,\n",
       "    1.1360262952564426e-08,\n",
       "    1.2618507128081546e-07,\n",
       "    6.421297715775154e-09,\n",
       "    2.1491144419627517e-09,\n",
       "    5.973967986960815e-10,\n",
       "    8.360810710428268e-09,\n",
       "    1.3825994926719432e-07,\n",
       "    4.84454787397226e-08,\n",
       "    1.068833244133316e-09,\n",
       "    5.354032168725098e-07,\n",
       "    1.1140988220859072e-07,\n",
       "    2.067160949081881e-06,\n",
       "    5.961049431846277e-10,\n",
       "    3.865157083282611e-09,\n",
       "    6.121299911399092e-09,\n",
       "    1.8778965882315646e-10,\n",
       "    1.1183861836627784e-08,\n",
       "    1.3473673732278257e-08,\n",
       "    5.066621344695932e-09,\n",
       "    8.484825002597063e-07,\n",
       "    9.375933132105274e-07,\n",
       "    2.5238844045816222e-06,\n",
       "    4.212515669621553e-09,\n",
       "    1.1008661005007525e-07,\n",
       "    1.5463267999393793e-08,\n",
       "    3.2854774900670236e-08,\n",
       "    1.5105090511724484e-08,\n",
       "    2.981266788992798e-07,\n",
       "    1.0699782251322176e-06,\n",
       "    6.610748641833197e-07,\n",
       "    1.3671106469104188e-09,\n",
       "    1.657745542615885e-06,\n",
       "    0.0003567924431990832,\n",
       "    3.221225597371813e-07,\n",
       "    6.542207131587929e-08,\n",
       "    3.0568972420041973e-07,\n",
       "    6.350080461459129e-10,\n",
       "    2.2204622585064726e-09,\n",
       "    1.3557186093748896e-06,\n",
       "    4.197973968445012e-09,\n",
       "    1.7243605432426534e-09,\n",
       "    4.417138210754956e-09,\n",
       "    1.077898218682094e-06,\n",
       "    1.4086000987845182e-07,\n",
       "    3.925697100726211e-08,\n",
       "    3.384267301953514e-07,\n",
       "    1.3726839664940371e-09,\n",
       "    2.8147868480488114e-09,\n",
       "    9.261756361844675e-10,\n",
       "    3.4279337146614353e-09,\n",
       "    4.504575823460755e-09,\n",
       "    8.822632480587345e-06,\n",
       "    1.1818822365228243e-08,\n",
       "    7.959792824863143e-09,\n",
       "    1.5127082919619284e-09,\n",
       "    6.112153414505883e-07,\n",
       "    2.8288018594224695e-09,\n",
       "    8.408992946407068e-10,\n",
       "    1.922820480615428e-08,\n",
       "    1.4696388461743481e-07,\n",
       "    1.2188063003293337e-08,\n",
       "    6.179145373153005e-08,\n",
       "    4.5938463699712884e-07,\n",
       "    2.0129808930846593e-09,\n",
       "    5.246031609118518e-09,\n",
       "    4.082357349943777e-07,\n",
       "    1.4974421901570167e-05,\n",
       "    1.0792254867553197e-09,\n",
       "    4.933365360670905e-08,\n",
       "    5.341570741279611e-08,\n",
       "    5.498986266339045e-10,\n",
       "    8.895704173284003e-10,\n",
       "    3.257175151816227e-08,\n",
       "    2.206374194457794e-09,\n",
       "    4.333159253633312e-08,\n",
       "    1.4687239513477834e-07,\n",
       "    9.610224083189678e-08,\n",
       "    1.4233506817618036e-08,\n",
       "    2.3509276747546437e-09,\n",
       "    3.6332204444988747e-07,\n",
       "    1.0631691083062833e-08,\n",
       "    1.7203299648826942e-05,\n",
       "    0.0010717628756538033,\n",
       "    4.866410829862389e-09,\n",
       "    0.0018781147664412856,\n",
       "    1.4659784142168064e-07,\n",
       "    2.0127670197211955e-08,\n",
       "    4.311304380166803e-08,\n",
       "    5.2422027607690325e-08,\n",
       "    1.0955482743213452e-08,\n",
       "    2.0725851754832547e-06,\n",
       "    2.6202505054584435e-08,\n",
       "    6.247668693504238e-08,\n",
       "    2.893537384807132e-06,\n",
       "    2.2266351606958779e-07,\n",
       "    1.891262257913695e-09,\n",
       "    1.90559767965226e-09,\n",
       "    1.8751131758421025e-09,\n",
       "    1.1900157526056887e-09,\n",
       "    6.898505233721153e-08,\n",
       "    1.5292068056282915e-08,\n",
       "    1.562987108627567e-06,\n",
       "    1.7957901832232892e-08,\n",
       "    2.006151689215585e-08,\n",
       "    3.7135691854928154e-06,\n",
       "    2.1395297267190472e-07,\n",
       "    9.915848977470887e-07,\n",
       "    5.424797322461927e-08,\n",
       "    1.3884992767998483e-05,\n",
       "    2.1437506347865565e-06,\n",
       "    1.4252224289634796e-08,\n",
       "    1.5133676356526848e-07,\n",
       "    1.8238654320157366e-07,\n",
       "    6.038689548404363e-08,\n",
       "    1.9387563554573717e-07,\n",
       "    6.177841100907244e-07,\n",
       "    5.8788747203664116e-09,\n",
       "    1.0484876611371874e-06,\n",
       "    1.523219594901093e-07,\n",
       "    2.717980329691727e-08,\n",
       "    3.0148044061206747e-07,\n",
       "    6.510924777103355e-08,\n",
       "    4.288447286171504e-08,\n",
       "    2.2809636845977366e-08,\n",
       "    1.4784734325701265e-08,\n",
       "    7.030769211269217e-08,\n",
       "    3.7031608002280336e-08,\n",
       "    7.34274792080214e-08,\n",
       "    1.4490359490082483e-07,\n",
       "    2.376381313951015e-09,\n",
       "    6.008722408523681e-09,\n",
       "    3.957566008239155e-08,\n",
       "    4.426290800552124e-08,\n",
       "    5.959077142847491e-08,\n",
       "    1.890427370199177e-07,\n",
       "    5.0851156174758216e-08,\n",
       "    4.4200898940971456e-08,\n",
       "    1.0858336452201911e-07,\n",
       "    7.866143292289962e-09,\n",
       "    8.030045073326164e-09,\n",
       "    1.5660084784485662e-08,\n",
       "    6.054498680185816e-09,\n",
       "    2.4959354050224647e-07,\n",
       "    5.010832319385372e-05,\n",
       "    1.6609462250016804e-07,\n",
       "    1.0639441327953136e-08,\n",
       "    1.5369138184340159e-09,\n",
       "    3.31583436263827e-08,\n",
       "    1.1622641693520563e-07,\n",
       "    8.991204595076852e-06,\n",
       "    0.0029438999481499195,\n",
       "    0.21390873193740845,\n",
       "    2.6359643015894108e-05,\n",
       "    4.406308207194343e-09,\n",
       "    2.4492138095411065e-08,\n",
       "    1.878653677067632e-09,\n",
       "    1.0611670431259768e-09,\n",
       "    2.8015358921607003e-09,\n",
       "    2.2170100422158612e-08,\n",
       "    3.2361928692381525e-09,\n",
       "    1.0700703967359004e-07,\n",
       "    9.084493157729412e-09,\n",
       "    1.414262706944669e-09,\n",
       "    1.1292272672491777e-09,\n",
       "    1.0627576152444362e-08,\n",
       "    2.6659068286249976e-09,\n",
       "    1.2614830957602408e-08,\n",
       "    6.622542514378438e-09,\n",
       "    2.8733506240996576e-08,\n",
       "    5.679486325682603e-10,\n",
       "    8.077331870026683e-08,\n",
       "    1.650533931751852e-07,\n",
       "    4.661851793485994e-09,\n",
       "    1.1695375334852542e-08,\n",
       "    8.0485991205137e-09,\n",
       "    1.4385055369103839e-09,\n",
       "    9.025422631481206e-10,\n",
       "    3.0065951950319914e-09,\n",
       "    2.1564807717311396e-09,\n",
       "    1.4307842022276418e-08,\n",
       "    1.2586495401478714e-08,\n",
       "    7.147238534344069e-08,\n",
       "    2.7899778842765954e-07]}]}"
      ]
     },
     "execution_count": 44,
     "metadata": {},
     "output_type": "execute_result"
    }
   ],
   "source": [
    "with open('payload.dat', 'rb') as s:\n",
    "    data=s.read()\n",
    "    \n",
    "PREDICT_URL = \"{}/projects/{}/models/{}/versions/{}:predict\".format(ENDPOINT, PROJECT_ID, BINARY_MODEL_NAME, BINARY_VERSION_NAME)\n",
    "HEADERS = {\n",
    "  'Content-Type': 'application/octet-stream',\n",
    "  'Inference-Header-Content-Length': '138',\n",
    "  'Authorization': 'Bearer {}'.format(os.popen('gcloud auth print-access-token').read().rstrip())\n",
    "}\n",
    "\n",
    "response = requests.request(\"POST\", PREDICT_URL, headers=HEADERS, data = data).content.decode()\n",
    "\n",
    "json.loads(response)"
   ]
  },
  {
   "cell_type": "code",
   "execution_count": 43,
   "metadata": {},
   "outputs": [
    {
     "data": {
      "text/plain": [
       "{'error': {'code': 403,\n",
       "  'message': 'Access to model denied.',\n",
       "  'status': 'PERMISSION_DENIED'}}"
      ]
     },
     "execution_count": 43,
     "metadata": {},
     "output_type": "execute_result"
    }
   ],
   "source": [
    "# this doesn't work: gcloud auth application-default print-access-token\n",
    "\n",
    "with open('payload.dat', 'rb') as s:\n",
    "    data=s.read()\n",
    "    \n",
    "PREDICT_URL = \"{}/projects/{}/models/{}/versions/{}:predict\".format(ENDPOINT, PROJECT_ID, BINARY_MODEL_NAME, BINARY_VERSION_NAME)\n",
    "HEADERS = {\n",
    "  'Content-Type': 'application/octet-stream',\n",
    "  'Inference-Header-Content-Length': '138',\n",
    "  'Authorization': 'Bearer {}'.format(os.popen('gcloud auth application-default print-access-token').read().rstrip())\n",
    "}\n",
    "\n",
    "response = requests.request(\"POST\", PREDICT_URL, headers=HEADERS, data = data).content.decode()\n",
    "\n",
    "json.loads(response)"
   ]
  },
  {
   "cell_type": "markdown",
   "metadata": {},
   "source": [
    "## Clean up"
   ]
  },
  {
   "cell_type": "code",
   "execution_count": null,
   "metadata": {},
   "outputs": [],
   "source": [
    "!gcloud ai-platform versions delete $VERSION_NAME --model=$MODEL_NAME --region=$REGION --quiet"
   ]
  },
  {
   "cell_type": "code",
   "execution_count": null,
   "metadata": {},
   "outputs": [],
   "source": [
    "!gcloud ai-platform models delete $MODEL_NAME --region=$REGION --quiet"
   ]
  },
  {
   "cell_type": "code",
   "execution_count": null,
   "metadata": {},
   "outputs": [],
   "source": [
    "!gcloud ai-platform versions delete $BINARY_VERSION_NAME --model=$BINARY_MODEL_NAME --region=$REGION --quiet"
   ]
  },
  {
   "cell_type": "code",
   "execution_count": null,
   "metadata": {},
   "outputs": [],
   "source": [
    "!gcloud ai-platform models delete $BINARY_MODEL_NAME --region=$REGION --quiet"
   ]
  },
  {
   "cell_type": "code",
   "execution_count": null,
   "metadata": {},
   "outputs": [],
   "source": [
    "!gsutil -m rm -r -f $MODEL_BUCKET"
   ]
  },
  {
   "cell_type": "code",
   "execution_count": null,
   "metadata": {},
   "outputs": [],
   "source": [
    "!rm -rf model_repository triton-inference-server server *.yaml *.dat *.json"
   ]
  },
  {
   "cell_type": "code",
   "execution_count": null,
   "metadata": {},
   "outputs": [],
   "source": []
  }
 ],
 "metadata": {
  "environment": {
   "name": "tf-cpu.1-15.m56",
   "type": "gcloud",
   "uri": "gcr.io/deeplearning-platform-release/tf-cpu.1-15:m56"
  },
  "kernelspec": {
   "display_name": "Python 3",
   "language": "python",
   "name": "python3"
  },
  "language_info": {
   "codemirror_mode": {
    "name": "ipython",
    "version": 3
   },
   "file_extension": ".py",
   "mimetype": "text/x-python",
   "name": "python",
   "nbconvert_exporter": "python",
   "pygments_lexer": "ipython3",
   "version": "3.7.8"
  }
 },
 "nbformat": 4,
 "nbformat_minor": 4
}
