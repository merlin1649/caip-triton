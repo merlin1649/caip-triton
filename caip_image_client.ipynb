{
 "cells": [
  {
   "cell_type": "code",
   "execution_count": 1,
   "metadata": {},
   "outputs": [],
   "source": [
    "from tensorrtserver.api import grpc_service_pb2\n",
    "from functools import partial\n",
    "import grpc_gcp_caip_pb2\n",
    "import grpc_image_client\n",
    "import requests\n",
    "import argparse\n"
   ]
  },
  {
   "cell_type": "code",
   "execution_count": 2,
   "metadata": {},
   "outputs": [],
   "source": [
    "parser = argparse.ArgumentParser()\n",
    "parser.add_argument('-v', '--verbose', action=\"store_true\", required=False, default=False)\n",
    "parser.add_argument('-a', '--async', dest=\"async_set\", action=\"store_true\", required=False)\n",
    "parser.add_argument('--streaming', action=\"store_true\", required=False, default=False)\n",
    "parser.add_argument('-m', '--model-name', type=str, required=True)\n",
    "parser.add_argument('-x', '--model-version', type=int, required=False)\n",
    "parser.add_argument('-b', '--batch-size', type=int, required=False, default=1)\n",
    "parser.add_argument('-c', '--classes', type=int, required=False, default=1)\n",
    "parser.add_argument('-s', '--scaling', type=str, choices=['NONE', 'INCEPTION', 'VGG'],required=False, default='NONE')\n",
    "parser.add_argument('-u', '--url', type=str, required=False, default='localhost:8001')\n",
    "#parser.add_argument('-i','--image_filename', type=str, default=None)\n",
    "parser.add_argument('image_filename', type=str, nargs='?', default=None)\n",
    "\n",
    "FLAGS = parser.parse_args(args=['-m','resnet50_netdef',\n",
    "#                                '-u','35.225.226.0:5000',\n",
    "#                                '-u','35.202.30.17:5000',\n",
    "                                '-u','127.0.0.1:5000',\n",
    "                                '-s','INCEPTION',\n",
    "                                '/workspace/images/mug.jpg'])\n"
   ]
  },
  {
   "cell_type": "code",
   "execution_count": 3,
   "metadata": {},
   "outputs": [],
   "source": [
    "import googleapiclient.discovery"
   ]
  },
  {
   "cell_type": "code",
   "execution_count": 17,
   "metadata": {},
   "outputs": [],
   "source": [
    "VERSION_NAME='v010'\n",
    "MODEL_NAME='triton1'\n",
    "PROJECT_NAME='tsaikevin-inference'\n",
    "ENDPOINT='https://alpha-ml.googleapis.com/v1'"
   ]
  },
  {
   "cell_type": "code",
   "execution_count": 18,
   "metadata": {},
   "outputs": [
    {
     "data": {
      "text/plain": [
       "'https://alpha-ml.googleapis.com/v1/projects/tsaikevin-inference/models/triton1/versions/v010:predict'"
      ]
     },
     "execution_count": 18,
     "metadata": {},
     "output_type": "execute_result"
    }
   ],
   "source": [
    "predict_url = \"{}/projects/{}/models/{}/versions/{}:predict\".format(ENDPOINT, PROJECT_NAME, MODEL_NAME, VERSION_NAME)\n",
    "headers = {\n",
    "  'Content-Type': 'application/json',\n",
    "  'Authorization': 'Bearer `gcloud auth print-access-token`'\n",
    "}\n",
    "predict_url"
   ]
  },
  {
   "cell_type": "code",
   "execution_count": null,
   "metadata": {},
   "outputs": [],
   "source": []
  },
  {
   "cell_type": "code",
   "execution_count": null,
   "metadata": {},
   "outputs": [],
   "source": []
  },
  {
   "cell_type": "code",
   "execution_count": null,
   "metadata": {},
   "outputs": [],
   "source": []
  },
  {
   "cell_type": "code",
   "execution_count": null,
   "metadata": {},
   "outputs": [],
   "source": []
  },
  {
   "cell_type": "code",
   "execution_count": 19,
   "metadata": {},
   "outputs": [
    {
     "data": {
      "text/plain": [
       "b'{\\n  \"error\": {\\n    \"code\": 401,\\n    \"message\": \"Request had invalid authentication credentials. Expected OAuth 2 access token, login cookie or other valid authentication credential. See https://developers.google.com/identity/sign-in/web/devconsole-project.\",\\n    \"status\": \"UNAUTHENTICATED\"\\n  }\\n}\\n'"
      ]
     },
     "execution_count": 19,
     "metadata": {},
     "output_type": "execute_result"
    }
   ],
   "source": [
    "# Prepare request for Status gRPC\n",
    "status_request = grpc_service_pb2.StatusRequest(model_name=FLAGS.model_name)\n",
    "caip_request = grpc_gcp_caip_pb2.CaipRequest(request_type=grpc_gcp_caip_pb2.TYPE_STATUS_REQUEST, status_request = status_request)\n",
    "\n",
    "# CaipRequest send, StatusResponse receive\n",
    "response = requests.request(\"POST\", predict_url, headers=headers, data = caip_request.SerializeToString()).content\n",
    "\n",
    "response\n",
    "#status_response = grpc_service_pb2.StatusResponse().FromString(response)"
   ]
  },
  {
   "cell_type": "code",
   "execution_count": 7,
   "metadata": {},
   "outputs": [],
   "source": [
    "with open('caip_status.msg','wb') as caip_status:\n",
    "    caip_status.write(caip_request.SerializePartialToString())"
   ]
  },
  {
   "cell_type": "code",
   "execution_count": null,
   "metadata": {},
   "outputs": [],
   "source": []
  },
  {
   "cell_type": "code",
   "execution_count": 8,
   "metadata": {},
   "outputs": [
    {
     "name": "stderr",
     "output_type": "stream",
     "text": [
      "/usr/local/lib/python3.6/dist-packages/google/auth/_default.py:69: UserWarning: Your application has authenticated using end user credentials from Google Cloud SDK. We recommend that most server applications use service accounts instead. If your application continues to use end user credentials from Cloud SDK, you might receive a \"quota exceeded\" or \"API not enabled\" error. For more information about service accounts, see https://cloud.google.com/docs/authentication/\n",
      "  warnings.warn(_CLOUD_SDK_CREDENTIALS_WARNING)\n"
     ]
    }
   ],
   "source": [
    "service = googleapiclient.discovery.build('ml','v1')"
   ]
  },
  {
   "cell_type": "code",
   "execution_count": 20,
   "metadata": {},
   "outputs": [],
   "source": []
  },
  {
   "cell_type": "code",
   "execution_count": null,
   "metadata": {},
   "outputs": [],
   "source": []
  },
  {
   "cell_type": "code",
   "execution_count": null,
   "metadata": {},
   "outputs": [],
   "source": []
  },
  {
   "cell_type": "code",
   "execution_count": null,
   "metadata": {},
   "outputs": [],
   "source": []
  },
  {
   "cell_type": "code",
   "execution_count": null,
   "metadata": {},
   "outputs": [],
   "source": []
  },
  {
   "cell_type": "code",
   "execution_count": 23,
   "metadata": {},
   "outputs": [],
   "source": [
    "# Make sure the model matches our requirements, and get some\n",
    "# properties of the model that we need for preprocessing\n",
    "input_name, output_name, c, h, w, format, dtype = grpc_image_client.parse_model(status_response, FLAGS.model_name, FLAGS.batch_size, FLAGS.verbose)"
   ]
  },
  {
   "cell_type": "code",
   "execution_count": 24,
   "metadata": {},
   "outputs": [],
   "source": [
    "filledRequestGenerator = partial(grpc_image_client.requestGenerator, input_name, output_name, c, h, w, format, dtype, FLAGS)"
   ]
  },
  {
   "cell_type": "code",
   "execution_count": 25,
   "metadata": {},
   "outputs": [],
   "source": [
    "# Send requests of FLAGS.batch_size images. If the number of\n",
    "# images isn't an exact multiple of FLAGS.batch_size then just\n",
    "# start over with the first images until the batch is filled.\n",
    "result_filenames = []\n",
    "infer_requests = []\n",
    "infer_responses = []"
   ]
  },
  {
   "cell_type": "code",
   "execution_count": 26,
   "metadata": {},
   "outputs": [
    {
     "name": "stdout",
     "output_type": "stream",
     "text": [
      "Request 0, batch size 1\n",
      "Image '/workspace/images/mug.jpg':\n",
      "    504 (COFFEE MUG) = 0.7773650288581848\n"
     ]
    }
   ],
   "source": [
    "for infer_request in filledRequestGenerator(result_filenames):\n",
    "    caip_request = grpc_gcp_caip_pb2.CaipRequest(request_type=grpc_gcp_caip_pb2.TYPE_INFER_REQUEST, infer_request = infer_request)\n",
    "    infer_responses.append(grpc_service_pb2.InferResponse().FromString(requests.request(\"POST\", predict_url, headers=headers, data = caip_request.SerializeToString()).content))\n",
    "    \n",
    "idx = 0\n",
    "for infer_response in infer_responses:\n",
    "    print(\"Request {}, batch size {}\".format(idx, FLAGS.batch_size))\n",
    "    grpc_image_client.postprocess(infer_response.meta_data.output, result_filenames[idx], FLAGS.batch_size)\n",
    "    idx += 1"
   ]
  },
  {
   "cell_type": "code",
   "execution_count": null,
   "metadata": {},
   "outputs": [],
   "source": []
  },
  {
   "cell_type": "code",
   "execution_count": null,
   "metadata": {},
   "outputs": [],
   "source": []
  },
  {
   "cell_type": "code",
   "execution_count": 7,
   "metadata": {},
   "outputs": [
    {
     "name": "stderr",
     "output_type": "stream",
     "text": [
      "/usr/local/lib/python3.6/dist-packages/google/auth/_default.py:69: UserWarning: Your application has authenticated using end user credentials from Google Cloud SDK. We recommend that most server applications use service accounts instead. If your application continues to use end user credentials from Cloud SDK, you might receive a \"quota exceeded\" or \"API not enabled\" error. For more information about service accounts, see https://cloud.google.com/docs/authentication/\n",
      "  warnings.warn(_CLOUD_SDK_CREDENTIALS_WARNING)\n"
     ]
    }
   ],
   "source": [
    "service = googleapiclient.discovery.build('ml','v1')"
   ]
  },
  {
   "cell_type": "code",
   "execution_count": 11,
   "metadata": {},
   "outputs": [],
   "source": [
    "import os\n",
    "os.environ[\"GOOGLE_APPLICATION_CREDENTIALS\"]=\"/workspace/src/clients/python/api_v1/examples/client_secret_291406910847-af8ojm05iri31hg5elr8rg4fk5u2pse8.apps.googleusercontent.com.json\""
   ]
  },
  {
   "cell_type": "code",
   "execution_count": 21,
   "metadata": {},
   "outputs": [
    {
     "name": "stdout",
     "output_type": "stream",
     "text": [
      "{\n",
      "  \"name\": \"projects/tsaikevin-inference/models/triton1/versions/v010\",\n",
      "  \"deploymentUri\": \"gs://tsaikevin-inference-model-store/model_repository\",\n",
      "  \"createTime\": \"2020-05-21T06:47:54Z\",\n",
      "  \"lastUseTime\": \"2020-05-21T07:34:00Z\",\n",
      "  \"state\": \"READY\",\n",
      "  \"etag\": \"oN3nAn4F/Sg=\",\n",
      "  \"machineType\": \"n1-standard-4\",\n",
      "  \"acceleratorConfig\": {\n",
      "    \"count\": \"1\",\n",
      "    \"type\": \"NVIDIA_TESLA_T4\"\n",
      "  },\n",
      "  \"container\": {\n",
      "    \"image\": \"gcr.io/tsaikevin-inference/caip-triton:latest\",\n",
      "    \"args\": [\n",
      "      \"trtserver\",\n",
      "      \"--model-repository=$(AIP_STORAGE_URI)\"\n",
      "    ],\n",
      "    \"ports\": [\n",
      "      {\n",
      "        \"containerPort\": 5000\n",
      "      }\n",
      "    ]\n",
      "  },\n",
      "  \"routes\": {\n",
      "    \"predict\": \"/v1/models/triton1/versions/v010:predict\",\n",
      "    \"health\": \"/v1/models/triton1/versions/v010\"\n",
      "  }\n",
      "}\n"
     ]
    }
   ],
   "source": [
    "!curl -X GET -k -H \"Content-Type: application/json\" \\\n",
    "    -H \"Authorization: Bearer `gcloud auth print-access-token`\" \\\n",
    "    \"https://alpha-ml.googleapis.com/v1/projects/tsaikevin-inference/models/triton1/versions/v010\""
   ]
  },
  {
   "cell_type": "code",
   "execution_count": 14,
   "metadata": {},
   "outputs": [
    {
     "name": "stdout",
     "output_type": "stream",
     "text": [
      "{\n",
      "  \"error\": {\n",
      "    \"code\": 500,\n",
      "    \"message\": \"\\u003c!DOCTYPE HTML PUBLIC \\\"-//W3C//DTD HTML 4.01 Transitional//EN\\\"\\n  \\\"http://www.w3.org/TR/html4/loose.dtd\\\"\\u003e\\n\\u003chtml\\u003e\\n  \\u003chead\\u003e\\n    \\u003ctitle\\u003egoogle.protobuf.message.DecodeError: Error parsing message // Werkzeug Debugger\\u003c/title\\u003e\\n    \\u003clink rel=\\\"stylesheet\\\" href=\\\"?__debugger__=yes&amp;cmd=resource&amp;f=style.css\\\"\\n        type=\\\"text/css\\\"\\u003e\\n    \\u003c!-- We need to make sure this has a favicon so that the debugger does\\n         not by accident trigger a request to /favicon.ico which might\\n         change the application state. --\\u003e\\n    \\u003clink rel=\\\"shortcut icon\\\"\\n        href=\\\"?__debugger__=yes&amp;cmd=resource&amp;f=console.png\\\"\\u003e\\n    \\u003cscript src=\\\"?__debugger__=yes&amp;cmd=resource&amp;f=jquery.js\\\"\\u003e\\u003c/script\\u003e\\n    \\u003cscript src=\\\"?__debugger__=yes&amp;cmd=resource&amp;f=debugger.js\\\"\\u003e\\u003c/script\\u003e\\n    \\u003cscript type=\\\"text/javascript\\\"\\u003e\\n      var TRACEBACK = 139624362456288,\\n          CONSOLE_MODE = false,\\n          EVALEX = true,\\n          EVALEX_TRUSTED = false,\\n          SECRET = \\\"zeMPCOBtrFOlYZzM2MOi\\\";\\n    \\u003c/script\\u003e\\n  \\u003c/head\\u003e\\n  \\u003cbody style=\\\"background-color: #fff\\\"\\u003e\\n    \\u003cdiv class=\\\"debugger\\\"\\u003e\\n\\u003ch1\\u003egoogle.protobuf.message.DecodeError\\u003c/h1\\u003e\\n\\u003cdiv class=\\\"detail\\\"\\u003e\\n  \\u003cp class=\\\"errormsg\\\"\\u003egoogle.protobuf.message.DecodeError: Error parsing message\\u003c/p\\u003e\\n\\u003c/div\\u003e\\n\\u003ch2 class=\\\"traceback\\\"\\u003eTraceback \\u003cem\\u003e(most recent call last)\\u003c/em\\u003e\\u003c/h2\\u003e\\n\\u003cdiv class=\\\"traceback\\\"\\u003e\\n  \\n  \\u003cul\\u003e\\u003cli\\u003e\\u003cdiv class=\\\"frame\\\" id=\\\"frame-139624362459032\\\"\\u003e\\n  \\u003ch4\\u003eFile \\u003ccite class=\\\"filename\\\"\\u003e\\\"/usr/local/lib/python3.6/dist-packages/flask/app.py\\\"\\u003c/cite\\u003e,\\n      line \\u003cem class=\\\"line\\\"\\u003e2464\\u003c/em\\u003e,\\n      in \\u003ccode class=\\\"function\\\"\\u003e__call__\\u003c/code\\u003e\\u003c/h4\\u003e\\n  \\u003cdiv class=\\\"source library\\\"\\u003e\\u003cpre class=\\\"line before\\\"\\u003e\\u003cspan class=\\\"ws\\\"\\u003e\\u003c/span\\u003e \\u003c/pre\\u003e\\n\\u003cpre class=\\\"line before\\\"\\u003e\\u003cspan class=\\\"ws\\\"\\u003e    \\u003c/span\\u003edef __call__(self, environ, start_response):\\u003c/pre\\u003e\\n\\u003cpre class=\\\"line before\\\"\\u003e\\u003cspan class=\\\"ws\\\"\\u003e        \\u003c/span\\u003e&quot;&quot;&quot;The WSGI server calls the Flask application object as the\\u003c/pre\\u003e\\n\\u003cpre class=\\\"line before\\\"\\u003e\\u003cspan class=\\\"ws\\\"\\u003e        \\u003c/span\\u003eWSGI application. This calls :meth:`wsgi_app` which can be\\u003c/pre\\u003e\\n\\u003cpre class=\\\"line before\\\"\\u003e\\u003cspan class=\\\"ws\\\"\\u003e        \\u003c/span\\u003ewrapped to applying middleware.&quot;&quot;&quot;\\u003c/pre\\u003e\\n\\u003cpre class=\\\"line current\\\"\\u003e\\u003cspan class=\\\"ws\\\"\\u003e        \\u003c/span\\u003ereturn self.wsgi_app(environ, start_response)\\u003c/pre\\u003e\\n\\u003cpre class=\\\"line after\\\"\\u003e\\u003cspan class=\\\"ws\\\"\\u003e\\u003c/span\\u003e \\u003c/pre\\u003e\\n\\u003cpre class=\\\"line after\\\"\\u003e\\u003cspan class=\\\"ws\\\"\\u003e    \\u003c/span\\u003edef __repr__(self):\\u003c/pre\\u003e\\n\\u003cpre class=\\\"line after\\\"\\u003e\\u003cspan class=\\\"ws\\\"\\u003e        \\u003c/span\\u003ereturn &quot;&lt;%s %r&gt;&quot; % (self.__class__.__name__, self.name)\\u003c/pre\\u003e\\u003c/div\\u003e\\n\\u003c/div\\u003e\\n\\n\\u003cli\\u003e\\u003cdiv class=\\\"frame\\\" id=\\\"frame-139624362458808\\\"\\u003e\\n  \\u003ch4\\u003eFile \\u003ccite class=\\\"filename\\\"\\u003e\\\"/usr/local/lib/python3.6/dist-packages/flask/app.py\\\"\\u003c/cite\\u003e,\\n      line \\u003cem class=\\\"line\\\"\\u003e2450\\u003c/em\\u003e,\\n      in \\u003ccode class=\\\"function\\\"\\u003ewsgi_app\\u003c/code\\u003e\\u003c/h4\\u003e\\n  \\u003cdiv class=\\\"source library\\\"\\u003e\\u003cpre class=\\\"line before\\\"\\u003e\\u003cspan class=\\\"ws\\\"\\u003e            \\u003c/span\\u003etry:\\u003c/pre\\u003e\\n\\u003cpre class=\\\"line before\\\"\\u003e\\u003cspan class=\\\"ws\\\"\\u003e                \\u003c/span\\u003ectx.push()\\u003c/pre\\u003e\\n\\u003cpre class=\\\"line before\\\"\\u003e\\u003cspan class=\\\"ws\\\"\\u003e                \\u003c/span\\u003eresponse = self.full_dispatch_request()\\u003c/pre\\u003e\\n\\u003cpre class=\\\"line before\\\"\\u003e\\u003cspan class=\\\"ws\\\"\\u003e            \\u003c/span\\u003eexcept Exception as e:\\u003c/pre\\u003e\\n\\u003cpre class=\\\"line before\\\"\\u003e\\u003cspan class=\\\"ws\\\"\\u003e                \\u003c/span\\u003eerror = e\\u003c/pre\\u003e\\n\\u003cpre class=\\\"line current\\\"\\u003e\\u003cspan class=\\\"ws\\\"\\u003e                \\u003c/span\\u003eresponse = self.handle_exception(e)\\u003c/pre\\u003e\\n\\u003cpre class=\\\"line after\\\"\\u003e\\u003cspan class=\\\"ws\\\"\\u003e            \\u003c/span\\u003eexcept:  # noqa: B001\\u003c/pre\\u003e\\n\\u003cpre class=\\\"line after\\\"\\u003e\\u003cspan class=\\\"ws\\\"\\u003e                \\u003c/span\\u003eerror = sys.exc_info()[1]\\u003c/pre\\u003e\\n\\u003cpre class=\\\"line after\\\"\\u003e\\u003cspan class=\\\"ws\\\"\\u003e                \\u003c/span\\u003eraise\\u003c/pre\\u003e\\n\\u003cpre class=\\\"line after\\\"\\u003e\\u003cspan class=\\\"ws\\\"\\u003e            \\u003c/span\\u003ereturn response(environ, start_response)\\u003c/pre\\u003e\\n\\u003cpre class=\\\"line after\\\"\\u003e\\u003cspan class=\\\"ws\\\"\\u003e        \\u003c/span\\u003efinally:\\u003c/pre\\u003e\\u003c/div\\u003e\\n\\u003c/div\\u003e\\n\\n\\u003cli\\u003e\\u003cdiv class=\\\"frame\\\" id=\\\"frame-139624362458024\\\"\\u003e\\n  \\u003ch4\\u003eFile \\u003ccite class=\\\"filename\\\"\\u003e\\\"/usr/local/lib/python3.6/dist-packages/flask/app.py\\\"\\u003c/cite\\u003e,\\n      line \\u003cem class=\\\"line\\\"\\u003e1867\\u003c/em\\u003e,\\n      in \\u003ccode class=\\\"function\\\"\\u003ehandle_exception\\u003c/code\\u003e\\u003c/h4\\u003e\\n  \\u003cdiv class=\\\"source library\\\"\\u003e\\u003cpre class=\\\"line before\\\"\\u003e\\u003cspan class=\\\"ws\\\"\\u003e            \\u003c/span\\u003e# if we want to repropagate the exception, we can attempt to\\u003c/pre\\u003e\\n\\u003cpre class=\\\"line before\\\"\\u003e\\u003cspan class=\\\"ws\\\"\\u003e            \\u003c/span\\u003e# raise it with the whole traceback in case we can do that\\u003c/pre\\u003e\\n\\u003cpre class=\\\"line before\\\"\\u003e\\u003cspan class=\\\"ws\\\"\\u003e            \\u003c/span\\u003e# (the function was actually called from the except part)\\u003c/pre\\u003e\\n\\u003cpre class=\\\"line before\\\"\\u003e\\u003cspan class=\\\"ws\\\"\\u003e            \\u003c/span\\u003e# otherwise, we just raise the error again\\u003c/pre\\u003e\\n\\u003cpre class=\\\"line before\\\"\\u003e\\u003cspan class=\\\"ws\\\"\\u003e            \\u003c/span\\u003eif exc_value is e:\\u003c/pre\\u003e\\n\\u003cpre class=\\\"line current\\\"\\u003e\\u003cspan class=\\\"ws\\\"\\u003e                \\u003c/span\\u003ereraise(exc_type, exc_value, tb)\\u003c/pre\\u003e\\n\\u003cpre class=\\\"line after\\\"\\u003e\\u003cspan class=\\\"ws\\\"\\u003e            \\u003c/span\\u003eelse:\\u003c/pre\\u003e\\n\\u003cpre class=\\\"line after\\\"\\u003e\\u003cspan class=\\\"ws\\\"\\u003e                \\u003c/span\\u003eraise e\\u003c/pre\\u003e\\n\\u003cpre class=\\\"line after\\\"\\u003e\\u003cspan class=\\\"ws\\\"\\u003e\\u003c/span\\u003e \\u003c/pre\\u003e\\n\\u003cpre class=\\\"line after\\\"\\u003e\\u003cspan class=\\\"ws\\\"\\u003e        \\u003c/span\\u003eself.log_exception((exc_type, exc_value, tb))\\u003c/pre\\u003e\\n\\u003cpre class=\\\"line after\\\"\\u003e\\u003cspan class=\\\"ws\\\"\\u003e        \\u003c/span\\u003eserver_error = InternalServerError()\\u003c/pre\\u003e\\u003c/div\\u003e\\n\\u003c/div\\u003e\\n\\n\\u003cli\\u003e\\u003cdiv class=\\\"frame\\\" id=\\\"frame-139624362457800\\\"\\u003e\\n  \\u003ch4\\u003eFile \\u003ccite class=\\\"filename\\\"\\u003e\\\"/usr/local/lib/python3.6/dist-packages/flask/_compat.py\\\"\\u003c/cite\\u003e,\\n      line \\u003cem class=\\\"line\\\"\\u003e39\\u003c/em\\u003e,\\n      in \\u003ccode class=\\\"function\\\"\\u003ereraise\\u003c/code\\u003e\\u003c/h4\\u003e\\n  \\u003cdiv class=\\\"source library\\\"\\u003e\\u003cpre class=\\\"line before\\\"\\u003e\\u003cspan class=\\\"ws\\\"\\u003e    \\u003c/span\\u003eimport collections.abc as collections_abc\\u003c/pre\\u003e\\n\\u003cpre class=\\\"line before\\\"\\u003e\\u003cspan class=\\\"ws\\\"\\u003e\\u003c/span\\u003e \\u003c/pre\\u003e\\n\\u003cpre class=\\\"line before\\\"\\u003e\\u003cspan class=\\\"ws\\\"\\u003e    \\u003c/span\\u003edef reraise(tp, value, tb=None):\\u003c/pre\\u003e\\n\\u003cpre class=\\\"line before\\\"\\u003e\\u003cspan class=\\\"ws\\\"\\u003e        \\u003c/span\\u003eif value.__traceback__ is not tb:\\u003c/pre\\u003e\\n\\u003cpre class=\\\"line before\\\"\\u003e\\u003cspan class=\\\"ws\\\"\\u003e            \\u003c/span\\u003eraise value.with_traceback(tb)\\u003c/pre\\u003e\\n\\u003cpre class=\\\"line current\\\"\\u003e\\u003cspan class=\\\"ws\\\"\\u003e        \\u003c/span\\u003eraise value\\u003c/pre\\u003e\\n\\u003cpre class=\\\"line after\\\"\\u003e\\u003cspan class=\\\"ws\\\"\\u003e\\u003c/span\\u003e \\u003c/pre\\u003e\\n\\u003cpre class=\\\"line after\\\"\\u003e\\u003cspan class=\\\"ws\\\"\\u003e    \\u003c/span\\u003eimplements_to_string = _identity\\u003c/pre\\u003e\\n\\u003cpre class=\\\"line after\\\"\\u003e\\u003cspan class=\\\"ws\\\"\\u003e\\u003c/span\\u003e \\u003c/pre\\u003e\\n\\u003cpre class=\\\"line after\\\"\\u003e\\u003cspan class=\\\"ws\\\"\\u003e\\u003c/span\\u003eelse:\\u003c/pre\\u003e\\n\\u003cpre class=\\\"line after\\\"\\u003e\\u003cspan class=\\\"ws\\\"\\u003e    \\u003c/span\\u003eiterkeys = lambda d: d.iterkeys()\\u003c/pre\\u003e\\u003c/div\\u003e\\n\\u003c/div\\u003e\\n\\n\\u003cli\\u003e\\u003cdiv class=\\\"frame\\\" id=\\\"frame-139624362456624\\\"\\u003e\\n  \\u003ch4\\u003eFile \\u003ccite class=\\\"filename\\\"\\u003e\\\"/usr/local/lib/python3.6/dist-packages/flask/app.py\\\"\\u003c/cite\\u003e,\\n      line \\u003cem class=\\\"line\\\"\\u003e2447\\u003c/em\\u003e,\\n      in \\u003ccode class=\\\"function\\\"\\u003ewsgi_app\\u003c/code\\u003e\\u003c/h4\\u003e\\n  \\u003cdiv class=\\\"source library\\\"\\u003e\\u003cpre class=\\\"line before\\\"\\u003e\\u003cspan class=\\\"ws\\\"\\u003e        \\u003c/span\\u003ectx = self.request_context(environ)\\u003c/pre\\u003e\\n\\u003cpre class=\\\"line before\\\"\\u003e\\u003cspan class=\\\"ws\\\"\\u003e        \\u003c/span\\u003eerror = None\\u003c/pre\\u003e\\n\\u003cpre class=\\\"line before\\\"\\u003e\\u003cspan class=\\\"ws\\\"\\u003e        \\u003c/span\\u003etry:\\u003c/pre\\u003e\\n\\u003cpre class=\\\"line before\\\"\\u003e\\u003cspan class=\\\"ws\\\"\\u003e            \\u003c/span\\u003etry:\\u003c/pre\\u003e\\n\\u003cpre class=\\\"line before\\\"\\u003e\\u003cspan class=\\\"ws\\\"\\u003e                \\u003c/span\\u003ectx.push()\\u003c/pre\\u003e\\n\\u003cpre class=\\\"line current\\\"\\u003e\\u003cspan class=\\\"ws\\\"\\u003e                \\u003c/span\\u003eresponse = self.full_dispatch_request()\\u003c/pre\\u003e\\n\\u003cpre class=\\\"line after\\\"\\u003e\\u003cspan class=\\\"ws\\\"\\u003e            \\u003c/span\\u003eexcept Exception as e:\\u003c/pre\\u003e\\n\\u003cpre class=\\\"line after\\\"\\u003e\\u003cspan class=\\\"ws\\\"\\u003e                \\u003c/span\\u003eerror = e\\u003c/pre\\u003e\\n\\u003cpre class=\\\"line after\\\"\\u003e\\u003cspan class=\\\"ws\\\"\\u003e                \\u003c/span\\u003eresponse = self.handle_exception(e)\\u003c/pre\\u003e\\n\\u003cpre class=\\\"line after\\\"\\u003e\\u003cspan class=\\\"ws\\\"\\u003e            \\u003c/span\\u003eexcept:  # noqa: B001\\u003c/pre\\u003e\\n\\u003cpre class=\\\"line after\\\"\\u003e\\u003cspan class=\\\"ws\\\"\\u003e                \\u003c/span\\u003eerror = sys.exc_info()[1]\\u003c/pre\\u003e\\u003c/div\\u003e\\n\\u003c/div\\u003e\\n\\n\\u003cli\\u003e\\u003cdiv class=\\\"frame\\\" id=\\\"frame-139624362457912\\\"\\u003e\\n  \\u003ch4\\u003eFile \\u003ccite class=\\\"filename\\\"\\u003e\\\"/usr/local/lib/python3.6/dist-packages/flask/app.py\\\"\\u003c/cite\\u003e,\\n      line \\u003cem class=\\\"line\\\"\\u003e1952\\u003c/em\\u003e,\\n      in \\u003ccode class=\\\"function\\\"\\u003efull_dispatch_request\\u003c/code\\u003e\\u003c/h4\\u003e\\n  \\u003cdiv class=\\\"source library\\\"\\u003e\\u003cpre class=\\\"line before\\\"\\u003e\\u003cspan class=\\\"ws\\\"\\u003e            \\u003c/span\\u003erequest_started.send(self)\\u003c/pre\\u003e\\n\\u003cpre class=\\\"line before\\\"\\u003e\\u003cspan class=\\\"ws\\\"\\u003e            \\u003c/span\\u003erv = self.preprocess_request()\\u003c/pre\\u003e\\n\\u003cpre class=\\\"line before\\\"\\u003e\\u003cspan class=\\\"ws\\\"\\u003e            \\u003c/span\\u003eif rv is None:\\u003c/pre\\u003e\\n\\u003cpre class=\\\"line before\\\"\\u003e\\u003cspan class=\\\"ws\\\"\\u003e                \\u003c/span\\u003erv = self.dispatch_request()\\u003c/pre\\u003e\\n\\u003cpre class=\\\"line before\\\"\\u003e\\u003cspan class=\\\"ws\\\"\\u003e        \\u003c/span\\u003eexcept Exception as e:\\u003c/pre\\u003e\\n\\u003cpre class=\\\"line current\\\"\\u003e\\u003cspan class=\\\"ws\\\"\\u003e            \\u003c/span\\u003erv = self.handle_user_exception(e)\\u003c/pre\\u003e\\n\\u003cpre class=\\\"line after\\\"\\u003e\\u003cspan class=\\\"ws\\\"\\u003e        \\u003c/span\\u003ereturn self.finalize_request(rv)\\u003c/pre\\u003e\\n\\u003cpre class=\\\"line after\\\"\\u003e\\u003cspan class=\\\"ws\\\"\\u003e\\u003c/span\\u003e \\u003c/pre\\u003e\\n\\u003cpre class=\\\"line after\\\"\\u003e\\u003cspan class=\\\"ws\\\"\\u003e    \\u003c/span\\u003edef finalize_request(self, rv, from_error_handler=False):\\u003c/pre\\u003e\\n\\u003cpre class=\\\"line after\\\"\\u003e\\u003cspan class=\\\"ws\\\"\\u003e        \\u003c/span\\u003e&quot;&quot;&quot;Given the return value from a view function this finalizes\\u003c/pre\\u003e\\n\\u003cpre class=\\\"line after\\\"\\u003e\\u003cspan class=\\\"ws\\\"\\u003e        \\u003c/span\\u003ethe request by converting it into a response and invoking the\\u003c/pre\\u003e\\u003c/div\\u003e\\n\\u003c/div\\u003e\\n\\n\\u003cli\\u003e\\u003cdiv class=\\\"frame\\\" id=\\\"frame-139624362457016\\\"\\u003e\\n  \\u003ch4\\u003eFile \\u003ccite class=\\\"filename\\\"\\u003e\\\"/usr/local/lib/python3.6/dist-packages/flask/app.py\\\"\\u003c/cite\\u003e,\\n      line \\u003cem class=\\\"line\\\"\\u003e1821\\u003c/em\\u003e,\\n      in \\u003ccode class=\\\"function\\\"\\u003ehandle_user_exception\\u003c/code\\u003e\\u003c/h4\\u003e\\n  \\u003cdiv class=\\\"source library\\\"\\u003e\\u003cpre class=\\\"line before\\\"\\u003e\\u003cspan class=\\\"ws\\\"\\u003e            \\u003c/span\\u003ereturn self.handle_http_exception(e)\\u003c/pre\\u003e\\n\\u003cpre class=\\\"line before\\\"\\u003e\\u003cspan class=\\\"ws\\\"\\u003e\\u003c/span\\u003e \\u003c/pre\\u003e\\n\\u003cpre class=\\\"line before\\\"\\u003e\\u003cspan class=\\\"ws\\\"\\u003e        \\u003c/span\\u003ehandler = self._find_error_handler(e)\\u003c/pre\\u003e\\n\\u003cpre class=\\\"line before\\\"\\u003e\\u003cspan class=\\\"ws\\\"\\u003e\\u003c/span\\u003e \\u003c/pre\\u003e\\n\\u003cpre class=\\\"line before\\\"\\u003e\\u003cspan class=\\\"ws\\\"\\u003e        \\u003c/span\\u003eif handler is None:\\u003c/pre\\u003e\\n\\u003cpre class=\\\"line current\\\"\\u003e\\u003cspan class=\\\"ws\\\"\\u003e            \\u003c/span\\u003ereraise(exc_type, exc_value, tb)\\u003c/pre\\u003e\\n\\u003cpre class=\\\"line after\\\"\\u003e\\u003cspan class=\\\"ws\\\"\\u003e        \\u003c/span\\u003ereturn handler(e)\\u003c/pre\\u003e\\n\\u003cpre class=\\\"line after\\\"\\u003e\\u003cspan class=\\\"ws\\\"\\u003e\\u003c/span\\u003e \\u003c/pre\\u003e\\n\\u003cpre class=\\\"line after\\\"\\u003e\\u003cspan class=\\\"ws\\\"\\u003e    \\u003c/span\\u003edef handle_exception(self, e):\\u003c/pre\\u003e\\n\\u003cpre class=\\\"line after\\\"\\u003e\\u003cspan class=\\\"ws\\\"\\u003e        \\u003c/span\\u003e&quot;&quot;&quot;Handle an exception that did not have an error handler\\u003c/pre\\u003e\\n\\u003cpre class=\\\"line after\\\"\\u003e\\u003cspan class=\\\"ws\\\"\\u003e        \\u003c/span\\u003eassociated with it, or that was raised from an error handler.\\u003c/pre\\u003e\\u003c/div\\u003e\\n\\u003c/div\\u003e\\n\\n\\u003cli\\u003e\\u003cdiv class=\\\"frame\\\" id=\\\"frame-139624362458864\\\"\\u003e\\n  \\u003ch4\\u003eFile \\u003ccite class=\\\"filename\\\"\\u003e\\\"/usr/local/lib/python3.6/dist-packages/flask/_compat.py\\\"\\u003c/cite\\u003e,\\n      line \\u003cem class=\\\"line\\\"\\u003e39\\u003c/em\\u003e,\\n      in \\u003ccode class=\\\"function\\\"\\u003ereraise\\u003c/code\\u003e\\u003c/h4\\u003e\\n  \\u003cdiv class=\\\"source library\\\"\\u003e\\u003cpre class=\\\"line before\\\"\\u003e\\u003cspan class=\\\"ws\\\"\\u003e    \\u003c/span\\u003eimport collections.abc as collections_abc\\u003c/pre\\u003e\\n\\u003cpre class=\\\"line before\\\"\\u003e\\u003cspan class=\\\"ws\\\"\\u003e\\u003c/span\\u003e \\u003c/pre\\u003e\\n\\u003cpre class=\\\"line before\\\"\\u003e\\u003cspan class=\\\"ws\\\"\\u003e    \\u003c/span\\u003edef reraise(tp, value, tb=None):\\u003c/pre\\u003e\\n\\u003cpre class=\\\"line before\\\"\\u003e\\u003cspan class=\\\"ws\\\"\\u003e        \\u003c/span\\u003eif value.__traceback__ is not tb:\\u003c/pre\\u003e\\n\\u003cpre class=\\\"line before\\\"\\u003e\\u003cspan class=\\\"ws\\\"\\u003e            \\u003c/span\\u003eraise value.with_traceback(tb)\\u003c/pre\\u003e\\n\\u003cpre class=\\\"line current\\\"\\u003e\\u003cspan class=\\\"ws\\\"\\u003e        \\u003c/span\\u003eraise value\\u003c/pre\\u003e\\n\\u003cpre class=\\\"line after\\\"\\u003e\\u003cspan class=\\\"ws\\\"\\u003e\\u003c/span\\u003e \\u003c/pre\\u003e\\n\\u003cpre class=\\\"line after\\\"\\u003e\\u003cspan class=\\\"ws\\\"\\u003e    \\u003c/span\\u003eimplements_to_string = _identity\\u003c/pre\\u003e\\n\\u003cpre class=\\\"line after\\\"\\u003e\\u003cspan class=\\\"ws\\\"\\u003e\\u003c/span\\u003e \\u003c/pre\\u003e\\n\\u003cpre class=\\\"line after\\\"\\u003e\\u003cspan class=\\\"ws\\\"\\u003e\\u003c/span\\u003eelse:\\u003c/pre\\u003e\\n\\u003cpre class=\\\"line after\\\"\\u003e\\u003cspan class=\\\"ws\\\"\\u003e    \\u003c/span\\u003eiterkeys = lambda d: d.iterkeys()\\u003c/pre\\u003e\\u003c/div\\u003e\\n\\u003c/div\\u003e\\n\\n\\u003cli\\u003e\\u003cdiv class=\\\"frame\\\" id=\\\"frame-139624362458472\\\"\\u003e\\n  \\u003ch4\\u003eFile \\u003ccite class=\\\"filename\\\"\\u003e\\\"/usr/local/lib/python3.6/dist-packages/flask/app.py\\\"\\u003c/cite\\u003e,\\n      line \\u003cem class=\\\"line\\\"\\u003e1950\\u003c/em\\u003e,\\n      in \\u003ccode class=\\\"function\\\"\\u003efull_dispatch_request\\u003c/code\\u003e\\u003c/h4\\u003e\\n  \\u003cdiv class=\\\"source library\\\"\\u003e\\u003cpre class=\\\"line before\\\"\\u003e\\u003cspan class=\\\"ws\\\"\\u003e        \\u003c/span\\u003eself.try_trigger_before_first_request_functions()\\u003c/pre\\u003e\\n\\u003cpre class=\\\"line before\\\"\\u003e\\u003cspan class=\\\"ws\\\"\\u003e        \\u003c/span\\u003etry:\\u003c/pre\\u003e\\n\\u003cpre class=\\\"line before\\\"\\u003e\\u003cspan class=\\\"ws\\\"\\u003e            \\u003c/span\\u003erequest_started.send(self)\\u003c/pre\\u003e\\n\\u003cpre class=\\\"line before\\\"\\u003e\\u003cspan class=\\\"ws\\\"\\u003e            \\u003c/span\\u003erv = self.preprocess_request()\\u003c/pre\\u003e\\n\\u003cpre class=\\\"line before\\\"\\u003e\\u003cspan class=\\\"ws\\\"\\u003e            \\u003c/span\\u003eif rv is None:\\u003c/pre\\u003e\\n\\u003cpre class=\\\"line current\\\"\\u003e\\u003cspan class=\\\"ws\\\"\\u003e                \\u003c/span\\u003erv = self.dispatch_request()\\u003c/pre\\u003e\\n\\u003cpre class=\\\"line after\\\"\\u003e\\u003cspan class=\\\"ws\\\"\\u003e        \\u003c/span\\u003eexcept Exception as e:\\u003c/pre\\u003e\\n\\u003cpre class=\\\"line after\\\"\\u003e\\u003cspan class=\\\"ws\\\"\\u003e            \\u003c/span\\u003erv = self.handle_user_exception(e)\\u003c/pre\\u003e\\n\\u003cpre class=\\\"line after\\\"\\u003e\\u003cspan class=\\\"ws\\\"\\u003e        \\u003c/span\\u003ereturn self.finalize_request(rv)\\u003c/pre\\u003e\\n\\u003cpre class=\\\"line after\\\"\\u003e\\u003cspan class=\\\"ws\\\"\\u003e\\u003c/span\\u003e \\u003c/pre\\u003e\\n\\u003cpre class=\\\"line after\\\"\\u003e\\u003cspan class=\\\"ws\\\"\\u003e    \\u003c/span\\u003edef finalize_request(self, rv, from_error_handler=False):\\u003c/pre\\u003e\\u003c/div\\u003e\\n\\u003c/div\\u003e\\n\\n\\u003cli\\u003e\\u003cdiv class=\\\"frame\\\" id=\\\"frame-139624362456176\\\"\\u003e\\n  \\u003ch4\\u003eFile \\u003ccite class=\\\"filename\\\"\\u003e\\\"/usr/local/lib/python3.6/dist-packages/flask/app.py\\\"\\u003c/cite\\u003e,\\n      line \\u003cem class=\\\"line\\\"\\u003e1936\\u003c/em\\u003e,\\n      in \\u003ccode class=\\\"function\\\"\\u003edispatch_request\\u003c/code\\u003e\\u003c/h4\\u003e\\n  \\u003cdiv class=\\\"source library\\\"\\u003e\\u003cpre class=\\\"line before\\\"\\u003e\\u003cspan class=\\\"ws\\\"\\u003e            \\u003c/span\\u003egetattr(rule, &quot;provide_automatic_options&quot;, False)\\u003c/pre\\u003e\\n\\u003cpre class=\\\"line before\\\"\\u003e\\u003cspan class=\\\"ws\\\"\\u003e            \\u003c/span\\u003eand req.method == &quot;OPTIONS&quot;\\u003c/pre\\u003e\\n\\u003cpre class=\\\"line before\\\"\\u003e\\u003cspan class=\\\"ws\\\"\\u003e        \\u003c/span\\u003e):\\u003c/pre\\u003e\\n\\u003cpre class=\\\"line before\\\"\\u003e\\u003cspan class=\\\"ws\\\"\\u003e            \\u003c/span\\u003ereturn self.make_default_options_response()\\u003c/pre\\u003e\\n\\u003cpre class=\\\"line before\\\"\\u003e\\u003cspan class=\\\"ws\\\"\\u003e        \\u003c/span\\u003e# otherwise dispatch to the handler for that endpoint\\u003c/pre\\u003e\\n\\u003cpre class=\\\"line current\\\"\\u003e\\u003cspan class=\\\"ws\\\"\\u003e        \\u003c/span\\u003ereturn self.view_functions[rule.endpoint](**req.view_args)\\u003c/pre\\u003e\\n\\u003cpre class=\\\"line after\\\"\\u003e\\u003cspan class=\\\"ws\\\"\\u003e\\u003c/span\\u003e \\u003c/pre\\u003e\\n\\u003cpre class=\\\"line after\\\"\\u003e\\u003cspan class=\\\"ws\\\"\\u003e    \\u003c/span\\u003edef full_dispatch_request(self):\\u003c/pre\\u003e\\n\\u003cpre class=\\\"line after\\\"\\u003e\\u003cspan class=\\\"ws\\\"\\u003e        \\u003c/span\\u003e&quot;&quot;&quot;Dispatches the request and on top of that performs request\\u003c/pre\\u003e\\n\\u003cpre class=\\\"line after\\\"\\u003e\\u003cspan class=\\\"ws\\\"\\u003e        \\u003c/span\\u003epre and postprocessing as well as HTTP exception catching and\\u003c/pre\\u003e\\n\\u003cpre class=\\\"line after\\\"\\u003e\\u003cspan class=\\\"ws\\\"\\u003e        \\u003c/span\\u003eerror handling.\\u003c/pre\\u003e\\u003c/div\\u003e\\n\\u003c/div\\u003e\\n\\n\\u003cli\\u003e\\u003cdiv class=\\\"frame\\\" id=\\\"frame-139624362458752\\\"\\u003e\\n  \\u003ch4\\u003eFile \\u003ccite class=\\\"filename\\\"\\u003e\\\"/opt/tensorrtserver/listener.py\\\"\\u003c/cite\\u003e,\\n      line \\u003cem class=\\\"line\\\"\\u003e19\\u003c/em\\u003e,\\n      in \\u003ccode class=\\\"function\\\"\\u003epredict\\u003c/code\\u003e\\u003c/h4\\u003e\\n  \\u003cdiv class=\\\"source \\\"\\u003e\\u003cpre class=\\\"line before\\\"\\u003e\\u003cspan class=\\\"ws\\\"\\u003e\\u003c/span\\u003e \\u003c/pre\\u003e\\n\\u003cpre class=\\\"line before\\\"\\u003e\\u003cspan class=\\\"ws\\\"\\u003e\\u003c/span\\u003eapp = Flask(__name__)\\u003c/pre\\u003e\\n\\u003cpre class=\\\"line before\\\"\\u003e\\u003cspan class=\\\"ws\\\"\\u003e\\u003c/span\\u003e \\u003c/pre\\u003e\\n\\u003cpre class=\\\"line before\\\"\\u003e\\u003cspan class=\\\"ws\\\"\\u003e\\u003c/span\\u003e@app.route(&quot;/v1/models/&lt;model&gt;/versions/&lt;version&gt;:predict&quot;, methods=[&quot;POST&quot;])\\u003c/pre\\u003e\\n\\u003cpre class=\\\"line before\\\"\\u003e\\u003cspan class=\\\"ws\\\"\\u003e\\u003c/span\\u003edef predict(model, version):\\u003c/pre\\u003e\\n\\u003cpre class=\\\"line current\\\"\\u003e\\u003cspan class=\\\"ws\\\"\\u003e    \\u003c/span\\u003er = grpc_gcp_caip_pb2.CaipRequest.FromString(request.data)\\u003c/pre\\u003e\\n\\u003cpre class=\\\"line after\\\"\\u003e\\u003cspan class=\\\"ws\\\"\\u003e    \\u003c/span\\u003eif r.request_type==grpc_gcp_caip_pb2.TYPE_INFER_REQUEST:\\u003c/pre\\u003e\\n\\u003cpre class=\\\"line after\\\"\\u003e\\u003cspan class=\\\"ws\\\"\\u003e        \\u003c/span\\u003ereturn grpc_stub.Infer(r.infer_request).SerializeToString()\\u003c/pre\\u003e\\n\\u003cpre class=\\\"line after\\\"\\u003e\\u003cspan class=\\\"ws\\\"\\u003e    \\u003c/span\\u003eelif r.request_type==grpc_gcp_caip_pb2.TYPE_STATUS_REQUEST:\\u003c/pre\\u003e\\n\\u003cpre class=\\\"line after\\\"\\u003e\\u003cspan class=\\\"ws\\\"\\u003e        \\u003c/span\\u003ereturn grpc_stub.Status(r.status_request).SerializeToString()\\u003c/pre\\u003e\\n\\u003cpre class=\\\"line after\\\"\\u003e\\u003cspan class=\\\"ws\\\"\\u003e    \\u003c/span\\u003eelif r.request_type==grpc_gcp_caip_pb2.TYPE_TRACER:\\u003c/pre\\u003e\\u003c/div\\u003e\\n\\u003c/div\\u003e\\n\\u003c/ul\\u003e\\n  \\u003cblockquote\\u003egoogle.protobuf.message.DecodeError: Error parsing message\\u003c/blockquote\\u003e\\n\\u003c/div\\u003e\\n\\n\\u003cdiv class=\\\"plain\\\"\\u003e\\n  \\u003cform action=\\\"/?__debugger__=yes&amp;cmd=paste\\\" method=\\\"post\\\"\\u003e\\n    \\u003cp\\u003e\\n      \\u003cinput type=\\\"hidden\\\" name=\\\"language\\\" value=\\\"pytb\\\"\\u003e\\n      This is the Copy/Paste friendly version of the traceback.  \\u003cspan\\n      class=\\\"pastemessage\\\"\\u003eYou can also paste this traceback into\\n      a \\u003ca href=\\\"https://gist.github.com/\\\"\\u003egist\\u003c/a\\u003e:\\n      \\u003cinput type=\\\"submit\\\" value=\\\"create paste\\\"\\u003e\\u003c/span\\u003e\\n    \\u003c/p\\u003e\\n    \\u003ctextarea cols=\\\"50\\\" rows=\\\"10\\\" name=\\\"code\\\" readonly\\u003eTraceback (most recent call last):\\n  File &quot;/usr/local/lib/python3.6/dist-packages/flask/app.py&quot;, line 2464, in __call__\\n    return self.wsgi_app(environ, start_response)\\n  File &quot;/usr/local/lib/python3.6/dist-packages/flask/app.py&quot;, line 2450, in wsgi_app\\n    response = self.handle_exception(e)\\n  File &quot;/usr/local/lib/python3.6/dist-packages/flask/app.py&quot;, line 1867, in handle_exception\\n    reraise(exc_type, exc_value, tb)\\n  File &quot;/usr/local/lib/python3.6/dist-packages/flask/_compat.py&quot;, line 39, in reraise\\n    raise value\\n  File &quot;/usr/local/lib/python3.6/dist-packages/flask/app.py&quot;, line 2447, in wsgi_app\\n    response = self.full_dispatch_request()\\n  File &quot;/usr/local/lib/python3.6/dist-packages/flask/app.py&quot;, line 1952, in full_dispatch_request\\n    rv = self.handle_user_exception(e)\\n  File &quot;/usr/local/lib/python3.6/dist-packages/flask/app.py&quot;, line 1821, in handle_user_exception\\n    reraise(exc_type, exc_value, tb)\\n  File &quot;/usr/local/lib/python3.6/dist-packages/flask/_compat.py&quot;, line 39, in reraise\\n    raise value\\n  File &quot;/usr/local/lib/python3.6/dist-packages/flask/app.py&quot;, line 1950, in full_dispatch_request\\n    rv = self.dispatch_request()\\n  File &quot;/usr/local/lib/python3.6/dist-packages/flask/app.py&quot;, line 1936, in dispatch_request\\n    return self.view_functions[rule.endpoint](**req.view_args)\\n  File &quot;/opt/tensorrtserver/listener.py&quot;, line 19, in predict\\n    r = grpc_gcp_caip_pb2.CaipRequest.FromString(request.data)\\ngoogle.protobuf.message.DecodeError: Error parsing message\\u003c/textarea\\u003e\\n  \\u003c/form\\u003e\\n\\u003c/div\\u003e\\n\\u003cdiv class=\\\"explanation\\\"\\u003e\\n  The debugger caught an exception in your WSGI application.  You can now\\n  look at the traceback which led to the error.  \\u003cspan class=\\\"nojavascript\\\"\\u003e\\n  If you enable JavaScript you can also use additional features such as code\\n  execution (if the evalex feature is enabled), automatic pasting of the\\n  exceptions and much more.\\u003c/span\\u003e\\n\\u003c/div\\u003e\\n      \\u003cdiv class=\\\"footer\\\"\\u003e\\n        Brought to you by \\u003cstrong class=\\\"arthur\\\"\\u003eDON'T PANIC\\u003c/strong\\u003e, your\\n        friendly Werkzeug powered traceback interpreter.\\n      \\u003c/div\\u003e\\n    \\u003c/div\\u003e\\n\\n    \\u003cdiv class=\\\"pin-prompt\\\"\\u003e\\n      \\u003cdiv class=\\\"inner\\\"\\u003e\\n        \\u003ch3\\u003eConsole Locked\\u003c/h3\\u003e\\n        \\u003cp\\u003e\\n          The console is locked and needs to be unlocked by entering the PIN.\\n          You can find the PIN printed out on the standard output of your\\n          shell that runs the server.\\n        \\u003cform\\u003e\\n          \\u003cp\\u003ePIN:\\n            \\u003cinput type=text name=pin size=14\\u003e\\n            \\u003cinput type=submit name=btn value=\\\"Confirm Pin\\\"\\u003e\\n        \\u003c/form\\u003e\\n      \\u003c/div\\u003e\\n    \\u003c/div\\u003e\\n  \\u003c/body\\u003e\\n\\u003c/html\\u003e\\n\\n\\u003c!--\\n\\nTraceback (most recent call last):\\n  File \\\"/usr/local/lib/python3.6/dist-packages/flask/app.py\\\", line 2464, in __call__\\n    return self.wsgi_app(environ, start_response)\\n  File \\\"/usr/local/lib/python3.6/dist-packages/flask/app.py\\\", line 2450, in wsgi_app\\n    response = self.handle_exception(e)\\n  File \\\"/usr/local/lib/python3.6/dist-packages/flask/app.py\\\", line 1867, in handle_exception\\n    reraise(exc_type, exc_value, tb)\\n  File \\\"/usr/local/lib/python3.6/dist-packages/flask/_compat.py\\\", line 39, in reraise\\n    raise value\\n  File \\\"/usr/local/lib/python3.6/dist-packages/flask/app.py\\\", line 2447, in wsgi_app\\n    response = self.full_dispatch_request()\\n  File \\\"/usr/local/lib/python3.6/dist-packages/flask/app.py\\\", line 1952, in full_dispatch_request\\n    rv = self.handle_user_exception(e)\\n  File \\\"/usr/local/lib/python3.6/dist-packages/flask/app.py\\\", line 1821, in handle_user_exception\\n    reraise(exc_type, exc_value, tb)\\n  File \\\"/usr/local/lib/python3.6/dist-packages/flask/_compat.py\\\", line 39, in reraise\\n    raise value\\n  File \\\"/usr/local/lib/python3.6/dist-packages/flask/app.py\\\", line 1950, in full_dispatch_request\\n    rv = self.dispatch_request()\\n  File \\\"/usr/local/lib/python3.6/dist-packages/flask/app.py\\\", line 1936, in dispatch_request\\n    return self.view_functions[rule.endpoint](**req.view_args)\\n  File \\\"/opt/tensorrtserver/listener.py\\\", line 19, in predict\\n    r = grpc_gcp_caip_pb2.CaipRequest.FromString(request.data)\\ngoogle.protobuf.message.DecodeError: Error parsing message\\n\\n--\\u003e\\n\",\n",
      "    \"status\": \"INTERNAL\"\n",
      "  }\n",
      "}\n"
     ]
    }
   ],
   "source": [
    "!curl -X POST -k -H \"Content-Type: application/json\" \\\n",
    "    -d caip_status.msg \\\n",
    "    -H \"Authorization: Bearer `gcloud auth print-access-token`\" \\\n",
    "    \"https://alpha-ml.googleapis.com/v1/projects/tsaikevin-inference/models/triton1/versions/v010:predict\""
   ]
  },
  {
   "cell_type": "code",
   "execution_count": 11,
   "metadata": {},
   "outputs": [
    {
     "data": {
      "text/plain": [
       "b'{\\n  \"error\": {\\n    \"code\": 401,\\n    \"message\": \"Request had invalid authentication credentials. Expected OAuth 2 access token, login cookie or other valid authentication credential. See https://developers.google.com/identity/sign-in/web/devconsole-project.\",\\n    \"status\": \"UNAUTHENTICATED\"\\n  }\\n}\\n'"
      ]
     },
     "execution_count": 11,
     "metadata": {},
     "output_type": "execute_result"
    }
   ],
   "source": [
    "tracer_text = \"ls -l\"\n",
    "caip_tracer = grpc_gcp_caip_pb2.CaipRequest(request_type=grpc_gcp_caip_pb2.TYPE_TRACER, trace_message = tracer_text)\n",
    "response = requests.request(\"POST\", predict_url, headers=headers, data = caip_tracer.SerializeToString()).content\n",
    "response"
   ]
  },
  {
   "cell_type": "code",
   "execution_count": 12,
   "metadata": {},
   "outputs": [],
   "source": [
    "with open('caip_trace.msg','wb') as caip_trace:\n",
    "    caip_trace.write(caip_tracer.SerializePartialToString())"
   ]
  },
  {
   "cell_type": "code",
   "execution_count": 16,
   "metadata": {},
   "outputs": [
    {
     "data": {
      "text/plain": [
       "request_type: TYPE_TRACER\n",
       "trace_message: \"ls -l\""
      ]
     },
     "execution_count": 16,
     "metadata": {},
     "output_type": "execute_result"
    }
   ],
   "source": [
    "caip_tracer"
   ]
  },
  {
   "cell_type": "code",
   "execution_count": 20,
   "metadata": {},
   "outputs": [
    {
     "name": "stdout",
     "output_type": "stream",
     "text": [
      "{\n",
      "  \"error\": {\n",
      "    \"code\": 500,\n",
      "    \"message\": \"\\u003c!DOCTYPE HTML PUBLIC \\\"-//W3C//DTD HTML 4.01 Transitional//EN\\\"\\n  \\\"http://www.w3.org/TR/html4/loose.dtd\\\"\\u003e\\n\\u003chtml\\u003e\\n  \\u003chead\\u003e\\n    \\u003ctitle\\u003egoogle.protobuf.message.DecodeError: Error parsing message // Werkzeug Debugger\\u003c/title\\u003e\\n    \\u003clink rel=\\\"stylesheet\\\" href=\\\"?__debugger__=yes&amp;cmd=resource&amp;f=style.css\\\"\\n        type=\\\"text/css\\\"\\u003e\\n    \\u003c!-- We need to make sure this has a favicon so that the debugger does\\n         not by accident trigger a request to /favicon.ico which might\\n         change the application state. --\\u003e\\n    \\u003clink rel=\\\"shortcut icon\\\"\\n        href=\\\"?__debugger__=yes&amp;cmd=resource&amp;f=console.png\\\"\\u003e\\n    \\u003cscript src=\\\"?__debugger__=yes&amp;cmd=resource&amp;f=jquery.js\\\"\\u003e\\u003c/script\\u003e\\n    \\u003cscript src=\\\"?__debugger__=yes&amp;cmd=resource&amp;f=debugger.js\\\"\\u003e\\u003c/script\\u003e\\n    \\u003cscript type=\\\"text/javascript\\\"\\u003e\\n      var TRACEBACK = 139624266481336,\\n          CONSOLE_MODE = false,\\n          EVALEX = true,\\n          EVALEX_TRUSTED = false,\\n          SECRET = \\\"zeMPCOBtrFOlYZzM2MOi\\\";\\n    \\u003c/script\\u003e\\n  \\u003c/head\\u003e\\n  \\u003cbody style=\\\"background-color: #fff\\\"\\u003e\\n    \\u003cdiv class=\\\"debugger\\\"\\u003e\\n\\u003ch1\\u003egoogle.protobuf.message.DecodeError\\u003c/h1\\u003e\\n\\u003cdiv class=\\\"detail\\\"\\u003e\\n  \\u003cp class=\\\"errormsg\\\"\\u003egoogle.protobuf.message.DecodeError: Error parsing message\\u003c/p\\u003e\\n\\u003c/div\\u003e\\n\\u003ch2 class=\\\"traceback\\\"\\u003eTraceback \\u003cem\\u003e(most recent call last)\\u003c/em\\u003e\\u003c/h2\\u003e\\n\\u003cdiv class=\\\"traceback\\\"\\u003e\\n  \\n  \\u003cul\\u003e\\u003cli\\u003e\\u003cdiv class=\\\"frame\\\" id=\\\"frame-139624266480160\\\"\\u003e\\n  \\u003ch4\\u003eFile \\u003ccite class=\\\"filename\\\"\\u003e\\\"/usr/local/lib/python3.6/dist-packages/flask/app.py\\\"\\u003c/cite\\u003e,\\n      line \\u003cem class=\\\"line\\\"\\u003e2464\\u003c/em\\u003e,\\n      in \\u003ccode class=\\\"function\\\"\\u003e__call__\\u003c/code\\u003e\\u003c/h4\\u003e\\n  \\u003cdiv class=\\\"source library\\\"\\u003e\\u003cpre class=\\\"line before\\\"\\u003e\\u003cspan class=\\\"ws\\\"\\u003e\\u003c/span\\u003e \\u003c/pre\\u003e\\n\\u003cpre class=\\\"line before\\\"\\u003e\\u003cspan class=\\\"ws\\\"\\u003e    \\u003c/span\\u003edef __call__(self, environ, start_response):\\u003c/pre\\u003e\\n\\u003cpre class=\\\"line before\\\"\\u003e\\u003cspan class=\\\"ws\\\"\\u003e        \\u003c/span\\u003e&quot;&quot;&quot;The WSGI server calls the Flask application object as the\\u003c/pre\\u003e\\n\\u003cpre class=\\\"line before\\\"\\u003e\\u003cspan class=\\\"ws\\\"\\u003e        \\u003c/span\\u003eWSGI application. This calls :meth:`wsgi_app` which can be\\u003c/pre\\u003e\\n\\u003cpre class=\\\"line before\\\"\\u003e\\u003cspan class=\\\"ws\\\"\\u003e        \\u003c/span\\u003ewrapped to applying middleware.&quot;&quot;&quot;\\u003c/pre\\u003e\\n\\u003cpre class=\\\"line current\\\"\\u003e\\u003cspan class=\\\"ws\\\"\\u003e        \\u003c/span\\u003ereturn self.wsgi_app(environ, start_response)\\u003c/pre\\u003e\\n\\u003cpre class=\\\"line after\\\"\\u003e\\u003cspan class=\\\"ws\\\"\\u003e\\u003c/span\\u003e \\u003c/pre\\u003e\\n\\u003cpre class=\\\"line after\\\"\\u003e\\u003cspan class=\\\"ws\\\"\\u003e    \\u003c/span\\u003edef __repr__(self):\\u003c/pre\\u003e\\n\\u003cpre class=\\\"line after\\\"\\u003e\\u003cspan class=\\\"ws\\\"\\u003e        \\u003c/span\\u003ereturn &quot;&lt;%s %r&gt;&quot; % (self.__class__.__name__, self.name)\\u003c/pre\\u003e\\u003c/div\\u003e\\n\\u003c/div\\u003e\\n\\n\\u003cli\\u003e\\u003cdiv class=\\\"frame\\\" id=\\\"frame-139624266481056\\\"\\u003e\\n  \\u003ch4\\u003eFile \\u003ccite class=\\\"filename\\\"\\u003e\\\"/usr/local/lib/python3.6/dist-packages/flask/app.py\\\"\\u003c/cite\\u003e,\\n      line \\u003cem class=\\\"line\\\"\\u003e2450\\u003c/em\\u003e,\\n      in \\u003ccode class=\\\"function\\\"\\u003ewsgi_app\\u003c/code\\u003e\\u003c/h4\\u003e\\n  \\u003cdiv class=\\\"source library\\\"\\u003e\\u003cpre class=\\\"line before\\\"\\u003e\\u003cspan class=\\\"ws\\\"\\u003e            \\u003c/span\\u003etry:\\u003c/pre\\u003e\\n\\u003cpre class=\\\"line before\\\"\\u003e\\u003cspan class=\\\"ws\\\"\\u003e                \\u003c/span\\u003ectx.push()\\u003c/pre\\u003e\\n\\u003cpre class=\\\"line before\\\"\\u003e\\u003cspan class=\\\"ws\\\"\\u003e                \\u003c/span\\u003eresponse = self.full_dispatch_request()\\u003c/pre\\u003e\\n\\u003cpre class=\\\"line before\\\"\\u003e\\u003cspan class=\\\"ws\\\"\\u003e            \\u003c/span\\u003eexcept Exception as e:\\u003c/pre\\u003e\\n\\u003cpre class=\\\"line before\\\"\\u003e\\u003cspan class=\\\"ws\\\"\\u003e                \\u003c/span\\u003eerror = e\\u003c/pre\\u003e\\n\\u003cpre class=\\\"line current\\\"\\u003e\\u003cspan class=\\\"ws\\\"\\u003e                \\u003c/span\\u003eresponse = self.handle_exception(e)\\u003c/pre\\u003e\\n\\u003cpre class=\\\"line after\\\"\\u003e\\u003cspan class=\\\"ws\\\"\\u003e            \\u003c/span\\u003eexcept:  # noqa: B001\\u003c/pre\\u003e\\n\\u003cpre class=\\\"line after\\\"\\u003e\\u003cspan class=\\\"ws\\\"\\u003e                \\u003c/span\\u003eerror = sys.exc_info()[1]\\u003c/pre\\u003e\\n\\u003cpre class=\\\"line after\\\"\\u003e\\u003cspan class=\\\"ws\\\"\\u003e                \\u003c/span\\u003eraise\\u003c/pre\\u003e\\n\\u003cpre class=\\\"line after\\\"\\u003e\\u003cspan class=\\\"ws\\\"\\u003e            \\u003c/span\\u003ereturn response(environ, start_response)\\u003c/pre\\u003e\\n\\u003cpre class=\\\"line after\\\"\\u003e\\u003cspan class=\\\"ws\\\"\\u003e        \\u003c/span\\u003efinally:\\u003c/pre\\u003e\\u003c/div\\u003e\\n\\u003c/div\\u003e\\n\\n\\u003cli\\u003e\\u003cdiv class=\\\"frame\\\" id=\\\"frame-139624362623552\\\"\\u003e\\n  \\u003ch4\\u003eFile \\u003ccite class=\\\"filename\\\"\\u003e\\\"/usr/local/lib/python3.6/dist-packages/flask/app.py\\\"\\u003c/cite\\u003e,\\n      line \\u003cem class=\\\"line\\\"\\u003e1867\\u003c/em\\u003e,\\n      in \\u003ccode class=\\\"function\\\"\\u003ehandle_exception\\u003c/code\\u003e\\u003c/h4\\u003e\\n  \\u003cdiv class=\\\"source library\\\"\\u003e\\u003cpre class=\\\"line before\\\"\\u003e\\u003cspan class=\\\"ws\\\"\\u003e            \\u003c/span\\u003e# if we want to repropagate the exception, we can attempt to\\u003c/pre\\u003e\\n\\u003cpre class=\\\"line before\\\"\\u003e\\u003cspan class=\\\"ws\\\"\\u003e            \\u003c/span\\u003e# raise it with the whole traceback in case we can do that\\u003c/pre\\u003e\\n\\u003cpre class=\\\"line before\\\"\\u003e\\u003cspan class=\\\"ws\\\"\\u003e            \\u003c/span\\u003e# (the function was actually called from the except part)\\u003c/pre\\u003e\\n\\u003cpre class=\\\"line before\\\"\\u003e\\u003cspan class=\\\"ws\\\"\\u003e            \\u003c/span\\u003e# otherwise, we just raise the error again\\u003c/pre\\u003e\\n\\u003cpre class=\\\"line before\\\"\\u003e\\u003cspan class=\\\"ws\\\"\\u003e            \\u003c/span\\u003eif exc_value is e:\\u003c/pre\\u003e\\n\\u003cpre class=\\\"line current\\\"\\u003e\\u003cspan class=\\\"ws\\\"\\u003e                \\u003c/span\\u003ereraise(exc_type, exc_value, tb)\\u003c/pre\\u003e\\n\\u003cpre class=\\\"line after\\\"\\u003e\\u003cspan class=\\\"ws\\\"\\u003e            \\u003c/span\\u003eelse:\\u003c/pre\\u003e\\n\\u003cpre class=\\\"line after\\\"\\u003e\\u003cspan class=\\\"ws\\\"\\u003e                \\u003c/span\\u003eraise e\\u003c/pre\\u003e\\n\\u003cpre class=\\\"line after\\\"\\u003e\\u003cspan class=\\\"ws\\\"\\u003e\\u003c/span\\u003e \\u003c/pre\\u003e\\n\\u003cpre class=\\\"line after\\\"\\u003e\\u003cspan class=\\\"ws\\\"\\u003e        \\u003c/span\\u003eself.log_exception((exc_type, exc_value, tb))\\u003c/pre\\u003e\\n\\u003cpre class=\\\"line after\\\"\\u003e\\u003cspan class=\\\"ws\\\"\\u003e        \\u003c/span\\u003eserver_error = InternalServerError()\\u003c/pre\\u003e\\u003c/div\\u003e\\n\\u003c/div\\u003e\\n\\n\\u003cli\\u003e\\u003cdiv class=\\\"frame\\\" id=\\\"frame-139624362623832\\\"\\u003e\\n  \\u003ch4\\u003eFile \\u003ccite class=\\\"filename\\\"\\u003e\\\"/usr/local/lib/python3.6/dist-packages/flask/_compat.py\\\"\\u003c/cite\\u003e,\\n      line \\u003cem class=\\\"line\\\"\\u003e39\\u003c/em\\u003e,\\n      in \\u003ccode class=\\\"function\\\"\\u003ereraise\\u003c/code\\u003e\\u003c/h4\\u003e\\n  \\u003cdiv class=\\\"source library\\\"\\u003e\\u003cpre class=\\\"line before\\\"\\u003e\\u003cspan class=\\\"ws\\\"\\u003e    \\u003c/span\\u003eimport collections.abc as collections_abc\\u003c/pre\\u003e\\n\\u003cpre class=\\\"line before\\\"\\u003e\\u003cspan class=\\\"ws\\\"\\u003e\\u003c/span\\u003e \\u003c/pre\\u003e\\n\\u003cpre class=\\\"line before\\\"\\u003e\\u003cspan class=\\\"ws\\\"\\u003e    \\u003c/span\\u003edef reraise(tp, value, tb=None):\\u003c/pre\\u003e\\n\\u003cpre class=\\\"line before\\\"\\u003e\\u003cspan class=\\\"ws\\\"\\u003e        \\u003c/span\\u003eif value.__traceback__ is not tb:\\u003c/pre\\u003e\\n\\u003cpre class=\\\"line before\\\"\\u003e\\u003cspan class=\\\"ws\\\"\\u003e            \\u003c/span\\u003eraise value.with_traceback(tb)\\u003c/pre\\u003e\\n\\u003cpre class=\\\"line current\\\"\\u003e\\u003cspan class=\\\"ws\\\"\\u003e        \\u003c/span\\u003eraise value\\u003c/pre\\u003e\\n\\u003cpre class=\\\"line after\\\"\\u003e\\u003cspan class=\\\"ws\\\"\\u003e\\u003c/span\\u003e \\u003c/pre\\u003e\\n\\u003cpre class=\\\"line after\\\"\\u003e\\u003cspan class=\\\"ws\\\"\\u003e    \\u003c/span\\u003eimplements_to_string = _identity\\u003c/pre\\u003e\\n\\u003cpre class=\\\"line after\\\"\\u003e\\u003cspan class=\\\"ws\\\"\\u003e\\u003c/span\\u003e \\u003c/pre\\u003e\\n\\u003cpre class=\\\"line after\\\"\\u003e\\u003cspan class=\\\"ws\\\"\\u003e\\u003c/span\\u003eelse:\\u003c/pre\\u003e\\n\\u003cpre class=\\\"line after\\\"\\u003e\\u003cspan class=\\\"ws\\\"\\u003e    \\u003c/span\\u003eiterkeys = lambda d: d.iterkeys()\\u003c/pre\\u003e\\u003c/div\\u003e\\n\\u003c/div\\u003e\\n\\n\\u003cli\\u003e\\u003cdiv class=\\\"frame\\\" id=\\\"frame-139624362624000\\\"\\u003e\\n  \\u003ch4\\u003eFile \\u003ccite class=\\\"filename\\\"\\u003e\\\"/usr/local/lib/python3.6/dist-packages/flask/app.py\\\"\\u003c/cite\\u003e,\\n      line \\u003cem class=\\\"line\\\"\\u003e2447\\u003c/em\\u003e,\\n      in \\u003ccode class=\\\"function\\\"\\u003ewsgi_app\\u003c/code\\u003e\\u003c/h4\\u003e\\n  \\u003cdiv class=\\\"source library\\\"\\u003e\\u003cpre class=\\\"line before\\\"\\u003e\\u003cspan class=\\\"ws\\\"\\u003e        \\u003c/span\\u003ectx = self.request_context(environ)\\u003c/pre\\u003e\\n\\u003cpre class=\\\"line before\\\"\\u003e\\u003cspan class=\\\"ws\\\"\\u003e        \\u003c/span\\u003eerror = None\\u003c/pre\\u003e\\n\\u003cpre class=\\\"line before\\\"\\u003e\\u003cspan class=\\\"ws\\\"\\u003e        \\u003c/span\\u003etry:\\u003c/pre\\u003e\\n\\u003cpre class=\\\"line before\\\"\\u003e\\u003cspan class=\\\"ws\\\"\\u003e            \\u003c/span\\u003etry:\\u003c/pre\\u003e\\n\\u003cpre class=\\\"line before\\\"\\u003e\\u003cspan class=\\\"ws\\\"\\u003e                \\u003c/span\\u003ectx.push()\\u003c/pre\\u003e\\n\\u003cpre class=\\\"line current\\\"\\u003e\\u003cspan class=\\\"ws\\\"\\u003e                \\u003c/span\\u003eresponse = self.full_dispatch_request()\\u003c/pre\\u003e\\n\\u003cpre class=\\\"line after\\\"\\u003e\\u003cspan class=\\\"ws\\\"\\u003e            \\u003c/span\\u003eexcept Exception as e:\\u003c/pre\\u003e\\n\\u003cpre class=\\\"line after\\\"\\u003e\\u003cspan class=\\\"ws\\\"\\u003e                \\u003c/span\\u003eerror = e\\u003c/pre\\u003e\\n\\u003cpre class=\\\"line after\\\"\\u003e\\u003cspan class=\\\"ws\\\"\\u003e                \\u003c/span\\u003eresponse = self.handle_exception(e)\\u003c/pre\\u003e\\n\\u003cpre class=\\\"line after\\\"\\u003e\\u003cspan class=\\\"ws\\\"\\u003e            \\u003c/span\\u003eexcept:  # noqa: B001\\u003c/pre\\u003e\\n\\u003cpre class=\\\"line after\\\"\\u003e\\u003cspan class=\\\"ws\\\"\\u003e                \\u003c/span\\u003eerror = sys.exc_info()[1]\\u003c/pre\\u003e\\u003c/div\\u003e\\n\\u003c/div\\u003e\\n\\n\\u003cli\\u003e\\u003cdiv class=\\\"frame\\\" id=\\\"frame-139624362624112\\\"\\u003e\\n  \\u003ch4\\u003eFile \\u003ccite class=\\\"filename\\\"\\u003e\\\"/usr/local/lib/python3.6/dist-packages/flask/app.py\\\"\\u003c/cite\\u003e,\\n      line \\u003cem class=\\\"line\\\"\\u003e1952\\u003c/em\\u003e,\\n      in \\u003ccode class=\\\"function\\\"\\u003efull_dispatch_request\\u003c/code\\u003e\\u003c/h4\\u003e\\n  \\u003cdiv class=\\\"source library\\\"\\u003e\\u003cpre class=\\\"line before\\\"\\u003e\\u003cspan class=\\\"ws\\\"\\u003e            \\u003c/span\\u003erequest_started.send(self)\\u003c/pre\\u003e\\n\\u003cpre class=\\\"line before\\\"\\u003e\\u003cspan class=\\\"ws\\\"\\u003e            \\u003c/span\\u003erv = self.preprocess_request()\\u003c/pre\\u003e\\n\\u003cpre class=\\\"line before\\\"\\u003e\\u003cspan class=\\\"ws\\\"\\u003e            \\u003c/span\\u003eif rv is None:\\u003c/pre\\u003e\\n\\u003cpre class=\\\"line before\\\"\\u003e\\u003cspan class=\\\"ws\\\"\\u003e                \\u003c/span\\u003erv = self.dispatch_request()\\u003c/pre\\u003e\\n\\u003cpre class=\\\"line before\\\"\\u003e\\u003cspan class=\\\"ws\\\"\\u003e        \\u003c/span\\u003eexcept Exception as e:\\u003c/pre\\u003e\\n\\u003cpre class=\\\"line current\\\"\\u003e\\u003cspan class=\\\"ws\\\"\\u003e            \\u003c/span\\u003erv = self.handle_user_exception(e)\\u003c/pre\\u003e\\n\\u003cpre class=\\\"line after\\\"\\u003e\\u003cspan class=\\\"ws\\\"\\u003e        \\u003c/span\\u003ereturn self.finalize_request(rv)\\u003c/pre\\u003e\\n\\u003cpre class=\\\"line after\\\"\\u003e\\u003cspan class=\\\"ws\\\"\\u003e\\u003c/span\\u003e \\u003c/pre\\u003e\\n\\u003cpre class=\\\"line after\\\"\\u003e\\u003cspan class=\\\"ws\\\"\\u003e    \\u003c/span\\u003edef finalize_request(self, rv, from_error_handler=False):\\u003c/pre\\u003e\\n\\u003cpre class=\\\"line after\\\"\\u003e\\u003cspan class=\\\"ws\\\"\\u003e        \\u003c/span\\u003e&quot;&quot;&quot;Given the return value from a view function this finalizes\\u003c/pre\\u003e\\n\\u003cpre class=\\\"line after\\\"\\u003e\\u003cspan class=\\\"ws\\\"\\u003e        \\u003c/span\\u003ethe request by converting it into a response and invoking the\\u003c/pre\\u003e\\u003c/div\\u003e\\n\\u003c/div\\u003e\\n\\n\\u003cli\\u003e\\u003cdiv class=\\\"frame\\\" id=\\\"frame-139624362624224\\\"\\u003e\\n  \\u003ch4\\u003eFile \\u003ccite class=\\\"filename\\\"\\u003e\\\"/usr/local/lib/python3.6/dist-packages/flask/app.py\\\"\\u003c/cite\\u003e,\\n      line \\u003cem class=\\\"line\\\"\\u003e1821\\u003c/em\\u003e,\\n      in \\u003ccode class=\\\"function\\\"\\u003ehandle_user_exception\\u003c/code\\u003e\\u003c/h4\\u003e\\n  \\u003cdiv class=\\\"source library\\\"\\u003e\\u003cpre class=\\\"line before\\\"\\u003e\\u003cspan class=\\\"ws\\\"\\u003e            \\u003c/span\\u003ereturn self.handle_http_exception(e)\\u003c/pre\\u003e\\n\\u003cpre class=\\\"line before\\\"\\u003e\\u003cspan class=\\\"ws\\\"\\u003e\\u003c/span\\u003e \\u003c/pre\\u003e\\n\\u003cpre class=\\\"line before\\\"\\u003e\\u003cspan class=\\\"ws\\\"\\u003e        \\u003c/span\\u003ehandler = self._find_error_handler(e)\\u003c/pre\\u003e\\n\\u003cpre class=\\\"line before\\\"\\u003e\\u003cspan class=\\\"ws\\\"\\u003e\\u003c/span\\u003e \\u003c/pre\\u003e\\n\\u003cpre class=\\\"line before\\\"\\u003e\\u003cspan class=\\\"ws\\\"\\u003e        \\u003c/span\\u003eif handler is None:\\u003c/pre\\u003e\\n\\u003cpre class=\\\"line current\\\"\\u003e\\u003cspan class=\\\"ws\\\"\\u003e            \\u003c/span\\u003ereraise(exc_type, exc_value, tb)\\u003c/pre\\u003e\\n\\u003cpre class=\\\"line after\\\"\\u003e\\u003cspan class=\\\"ws\\\"\\u003e        \\u003c/span\\u003ereturn handler(e)\\u003c/pre\\u003e\\n\\u003cpre class=\\\"line after\\\"\\u003e\\u003cspan class=\\\"ws\\\"\\u003e\\u003c/span\\u003e \\u003c/pre\\u003e\\n\\u003cpre class=\\\"line after\\\"\\u003e\\u003cspan class=\\\"ws\\\"\\u003e    \\u003c/span\\u003edef handle_exception(self, e):\\u003c/pre\\u003e\\n\\u003cpre class=\\\"line after\\\"\\u003e\\u003cspan class=\\\"ws\\\"\\u003e        \\u003c/span\\u003e&quot;&quot;&quot;Handle an exception that did not have an error handler\\u003c/pre\\u003e\\n\\u003cpre class=\\\"line after\\\"\\u003e\\u003cspan class=\\\"ws\\\"\\u003e        \\u003c/span\\u003eassociated with it, or that was raised from an error handler.\\u003c/pre\\u003e\\u003c/div\\u003e\\n\\u003c/div\\u003e\\n\\n\\u003cli\\u003e\\u003cdiv class=\\\"frame\\\" id=\\\"frame-139624362624056\\\"\\u003e\\n  \\u003ch4\\u003eFile \\u003ccite class=\\\"filename\\\"\\u003e\\\"/usr/local/lib/python3.6/dist-packages/flask/_compat.py\\\"\\u003c/cite\\u003e,\\n      line \\u003cem class=\\\"line\\\"\\u003e39\\u003c/em\\u003e,\\n      in \\u003ccode class=\\\"function\\\"\\u003ereraise\\u003c/code\\u003e\\u003c/h4\\u003e\\n  \\u003cdiv class=\\\"source library\\\"\\u003e\\u003cpre class=\\\"line before\\\"\\u003e\\u003cspan class=\\\"ws\\\"\\u003e    \\u003c/span\\u003eimport collections.abc as collections_abc\\u003c/pre\\u003e\\n\\u003cpre class=\\\"line before\\\"\\u003e\\u003cspan class=\\\"ws\\\"\\u003e\\u003c/span\\u003e \\u003c/pre\\u003e\\n\\u003cpre class=\\\"line before\\\"\\u003e\\u003cspan class=\\\"ws\\\"\\u003e    \\u003c/span\\u003edef reraise(tp, value, tb=None):\\u003c/pre\\u003e\\n\\u003cpre class=\\\"line before\\\"\\u003e\\u003cspan class=\\\"ws\\\"\\u003e        \\u003c/span\\u003eif value.__traceback__ is not tb:\\u003c/pre\\u003e\\n\\u003cpre class=\\\"line before\\\"\\u003e\\u003cspan class=\\\"ws\\\"\\u003e            \\u003c/span\\u003eraise value.with_traceback(tb)\\u003c/pre\\u003e\\n\\u003cpre class=\\\"line current\\\"\\u003e\\u003cspan class=\\\"ws\\\"\\u003e        \\u003c/span\\u003eraise value\\u003c/pre\\u003e\\n\\u003cpre class=\\\"line after\\\"\\u003e\\u003cspan class=\\\"ws\\\"\\u003e\\u003c/span\\u003e \\u003c/pre\\u003e\\n\\u003cpre class=\\\"line after\\\"\\u003e\\u003cspan class=\\\"ws\\\"\\u003e    \\u003c/span\\u003eimplements_to_string = _identity\\u003c/pre\\u003e\\n\\u003cpre class=\\\"line after\\\"\\u003e\\u003cspan class=\\\"ws\\\"\\u003e\\u003c/span\\u003e \\u003c/pre\\u003e\\n\\u003cpre class=\\\"line after\\\"\\u003e\\u003cspan class=\\\"ws\\\"\\u003e\\u003c/span\\u003eelse:\\u003c/pre\\u003e\\n\\u003cpre class=\\\"line after\\\"\\u003e\\u003cspan class=\\\"ws\\\"\\u003e    \\u003c/span\\u003eiterkeys = lambda d: d.iterkeys()\\u003c/pre\\u003e\\u003c/div\\u003e\\n\\u003c/div\\u003e\\n\\n\\u003cli\\u003e\\u003cdiv class=\\\"frame\\\" id=\\\"frame-139624362626800\\\"\\u003e\\n  \\u003ch4\\u003eFile \\u003ccite class=\\\"filename\\\"\\u003e\\\"/usr/local/lib/python3.6/dist-packages/flask/app.py\\\"\\u003c/cite\\u003e,\\n      line \\u003cem class=\\\"line\\\"\\u003e1950\\u003c/em\\u003e,\\n      in \\u003ccode class=\\\"function\\\"\\u003efull_dispatch_request\\u003c/code\\u003e\\u003c/h4\\u003e\\n  \\u003cdiv class=\\\"source library\\\"\\u003e\\u003cpre class=\\\"line before\\\"\\u003e\\u003cspan class=\\\"ws\\\"\\u003e        \\u003c/span\\u003eself.try_trigger_before_first_request_functions()\\u003c/pre\\u003e\\n\\u003cpre class=\\\"line before\\\"\\u003e\\u003cspan class=\\\"ws\\\"\\u003e        \\u003c/span\\u003etry:\\u003c/pre\\u003e\\n\\u003cpre class=\\\"line before\\\"\\u003e\\u003cspan class=\\\"ws\\\"\\u003e            \\u003c/span\\u003erequest_started.send(self)\\u003c/pre\\u003e\\n\\u003cpre class=\\\"line before\\\"\\u003e\\u003cspan class=\\\"ws\\\"\\u003e            \\u003c/span\\u003erv = self.preprocess_request()\\u003c/pre\\u003e\\n\\u003cpre class=\\\"line before\\\"\\u003e\\u003cspan class=\\\"ws\\\"\\u003e            \\u003c/span\\u003eif rv is None:\\u003c/pre\\u003e\\n\\u003cpre class=\\\"line current\\\"\\u003e\\u003cspan class=\\\"ws\\\"\\u003e                \\u003c/span\\u003erv = self.dispatch_request()\\u003c/pre\\u003e\\n\\u003cpre class=\\\"line after\\\"\\u003e\\u003cspan class=\\\"ws\\\"\\u003e        \\u003c/span\\u003eexcept Exception as e:\\u003c/pre\\u003e\\n\\u003cpre class=\\\"line after\\\"\\u003e\\u003cspan class=\\\"ws\\\"\\u003e            \\u003c/span\\u003erv = self.handle_user_exception(e)\\u003c/pre\\u003e\\n\\u003cpre class=\\\"line after\\\"\\u003e\\u003cspan class=\\\"ws\\\"\\u003e        \\u003c/span\\u003ereturn self.finalize_request(rv)\\u003c/pre\\u003e\\n\\u003cpre class=\\\"line after\\\"\\u003e\\u003cspan class=\\\"ws\\\"\\u003e\\u003c/span\\u003e \\u003c/pre\\u003e\\n\\u003cpre class=\\\"line after\\\"\\u003e\\u003cspan class=\\\"ws\\\"\\u003e    \\u003c/span\\u003edef finalize_request(self, rv, from_error_handler=False):\\u003c/pre\\u003e\\u003c/div\\u003e\\n\\u003c/div\\u003e\\n\\n\\u003cli\\u003e\\u003cdiv class=\\\"frame\\\" id=\\\"frame-139624362623664\\\"\\u003e\\n  \\u003ch4\\u003eFile \\u003ccite class=\\\"filename\\\"\\u003e\\\"/usr/local/lib/python3.6/dist-packages/flask/app.py\\\"\\u003c/cite\\u003e,\\n      line \\u003cem class=\\\"line\\\"\\u003e1936\\u003c/em\\u003e,\\n      in \\u003ccode class=\\\"function\\\"\\u003edispatch_request\\u003c/code\\u003e\\u003c/h4\\u003e\\n  \\u003cdiv class=\\\"source library\\\"\\u003e\\u003cpre class=\\\"line before\\\"\\u003e\\u003cspan class=\\\"ws\\\"\\u003e            \\u003c/span\\u003egetattr(rule, &quot;provide_automatic_options&quot;, False)\\u003c/pre\\u003e\\n\\u003cpre class=\\\"line before\\\"\\u003e\\u003cspan class=\\\"ws\\\"\\u003e            \\u003c/span\\u003eand req.method == &quot;OPTIONS&quot;\\u003c/pre\\u003e\\n\\u003cpre class=\\\"line before\\\"\\u003e\\u003cspan class=\\\"ws\\\"\\u003e        \\u003c/span\\u003e):\\u003c/pre\\u003e\\n\\u003cpre class=\\\"line before\\\"\\u003e\\u003cspan class=\\\"ws\\\"\\u003e            \\u003c/span\\u003ereturn self.make_default_options_response()\\u003c/pre\\u003e\\n\\u003cpre class=\\\"line before\\\"\\u003e\\u003cspan class=\\\"ws\\\"\\u003e        \\u003c/span\\u003e# otherwise dispatch to the handler for that endpoint\\u003c/pre\\u003e\\n\\u003cpre class=\\\"line current\\\"\\u003e\\u003cspan class=\\\"ws\\\"\\u003e        \\u003c/span\\u003ereturn self.view_functions[rule.endpoint](**req.view_args)\\u003c/pre\\u003e\\n\\u003cpre class=\\\"line after\\\"\\u003e\\u003cspan class=\\\"ws\\\"\\u003e\\u003c/span\\u003e \\u003c/pre\\u003e\\n\\u003cpre class=\\\"line after\\\"\\u003e\\u003cspan class=\\\"ws\\\"\\u003e    \\u003c/span\\u003edef full_dispatch_request(self):\\u003c/pre\\u003e\\n\\u003cpre class=\\\"line after\\\"\\u003e\\u003cspan class=\\\"ws\\\"\\u003e        \\u003c/span\\u003e&quot;&quot;&quot;Dispatches the request and on top of that performs request\\u003c/pre\\u003e\\n\\u003cpre class=\\\"line after\\\"\\u003e\\u003cspan class=\\\"ws\\\"\\u003e        \\u003c/span\\u003epre and postprocessing as well as HTTP exception catching and\\u003c/pre\\u003e\\n\\u003cpre class=\\\"line after\\\"\\u003e\\u003cspan class=\\\"ws\\\"\\u003e        \\u003c/span\\u003eerror handling.\\u003c/pre\\u003e\\u003c/div\\u003e\\n\\u003c/div\\u003e\\n\\n\\u003cli\\u003e\\u003cdiv class=\\\"frame\\\" id=\\\"frame-139624362623776\\\"\\u003e\\n  \\u003ch4\\u003eFile \\u003ccite class=\\\"filename\\\"\\u003e\\\"/opt/tensorrtserver/listener.py\\\"\\u003c/cite\\u003e,\\n      line \\u003cem class=\\\"line\\\"\\u003e19\\u003c/em\\u003e,\\n      in \\u003ccode class=\\\"function\\\"\\u003epredict\\u003c/code\\u003e\\u003c/h4\\u003e\\n  \\u003cdiv class=\\\"source \\\"\\u003e\\u003cpre class=\\\"line before\\\"\\u003e\\u003cspan class=\\\"ws\\\"\\u003e\\u003c/span\\u003e \\u003c/pre\\u003e\\n\\u003cpre class=\\\"line before\\\"\\u003e\\u003cspan class=\\\"ws\\\"\\u003e\\u003c/span\\u003eapp = Flask(__name__)\\u003c/pre\\u003e\\n\\u003cpre class=\\\"line before\\\"\\u003e\\u003cspan class=\\\"ws\\\"\\u003e\\u003c/span\\u003e \\u003c/pre\\u003e\\n\\u003cpre class=\\\"line before\\\"\\u003e\\u003cspan class=\\\"ws\\\"\\u003e\\u003c/span\\u003e@app.route(&quot;/v1/models/&lt;model&gt;/versions/&lt;version&gt;:predict&quot;, methods=[&quot;POST&quot;])\\u003c/pre\\u003e\\n\\u003cpre class=\\\"line before\\\"\\u003e\\u003cspan class=\\\"ws\\\"\\u003e\\u003c/span\\u003edef predict(model, version):\\u003c/pre\\u003e\\n\\u003cpre class=\\\"line current\\\"\\u003e\\u003cspan class=\\\"ws\\\"\\u003e    \\u003c/span\\u003er = grpc_gcp_caip_pb2.CaipRequest.FromString(request.data)\\u003c/pre\\u003e\\n\\u003cpre class=\\\"line after\\\"\\u003e\\u003cspan class=\\\"ws\\\"\\u003e    \\u003c/span\\u003eif r.request_type==grpc_gcp_caip_pb2.TYPE_INFER_REQUEST:\\u003c/pre\\u003e\\n\\u003cpre class=\\\"line after\\\"\\u003e\\u003cspan class=\\\"ws\\\"\\u003e        \\u003c/span\\u003ereturn grpc_stub.Infer(r.infer_request).SerializeToString()\\u003c/pre\\u003e\\n\\u003cpre class=\\\"line after\\\"\\u003e\\u003cspan class=\\\"ws\\\"\\u003e    \\u003c/span\\u003eelif r.request_type==grpc_gcp_caip_pb2.TYPE_STATUS_REQUEST:\\u003c/pre\\u003e\\n\\u003cpre class=\\\"line after\\\"\\u003e\\u003cspan class=\\\"ws\\\"\\u003e        \\u003c/span\\u003ereturn grpc_stub.Status(r.status_request).SerializeToString()\\u003c/pre\\u003e\\n\\u003cpre class=\\\"line after\\\"\\u003e\\u003cspan class=\\\"ws\\\"\\u003e    \\u003c/span\\u003eelif r.request_type==grpc_gcp_caip_pb2.TYPE_TRACER:\\u003c/pre\\u003e\\u003c/div\\u003e\\n\\u003c/div\\u003e\\n\\u003c/ul\\u003e\\n  \\u003cblockquote\\u003egoogle.protobuf.message.DecodeError: Error parsing message\\u003c/blockquote\\u003e\\n\\u003c/div\\u003e\\n\\n\\u003cdiv class=\\\"plain\\\"\\u003e\\n  \\u003cform action=\\\"/?__debugger__=yes&amp;cmd=paste\\\" method=\\\"post\\\"\\u003e\\n    \\u003cp\\u003e\\n      \\u003cinput type=\\\"hidden\\\" name=\\\"language\\\" value=\\\"pytb\\\"\\u003e\\n      This is the Copy/Paste friendly version of the traceback.  \\u003cspan\\n      class=\\\"pastemessage\\\"\\u003eYou can also paste this traceback into\\n      a \\u003ca href=\\\"https://gist.github.com/\\\"\\u003egist\\u003c/a\\u003e:\\n      \\u003cinput type=\\\"submit\\\" value=\\\"create paste\\\"\\u003e\\u003c/span\\u003e\\n    \\u003c/p\\u003e\\n    \\u003ctextarea cols=\\\"50\\\" rows=\\\"10\\\" name=\\\"code\\\" readonly\\u003eTraceback (most recent call last):\\n  File &quot;/usr/local/lib/python3.6/dist-packages/flask/app.py&quot;, line 2464, in __call__\\n    return self.wsgi_app(environ, start_response)\\n  File &quot;/usr/local/lib/python3.6/dist-packages/flask/app.py&quot;, line 2450, in wsgi_app\\n    response = self.handle_exception(e)\\n  File &quot;/usr/local/lib/python3.6/dist-packages/flask/app.py&quot;, line 1867, in handle_exception\\n    reraise(exc_type, exc_value, tb)\\n  File &quot;/usr/local/lib/python3.6/dist-packages/flask/_compat.py&quot;, line 39, in reraise\\n    raise value\\n  File &quot;/usr/local/lib/python3.6/dist-packages/flask/app.py&quot;, line 2447, in wsgi_app\\n    response = self.full_dispatch_request()\\n  File &quot;/usr/local/lib/python3.6/dist-packages/flask/app.py&quot;, line 1952, in full_dispatch_request\\n    rv = self.handle_user_exception(e)\\n  File &quot;/usr/local/lib/python3.6/dist-packages/flask/app.py&quot;, line 1821, in handle_user_exception\\n    reraise(exc_type, exc_value, tb)\\n  File &quot;/usr/local/lib/python3.6/dist-packages/flask/_compat.py&quot;, line 39, in reraise\\n    raise value\\n  File &quot;/usr/local/lib/python3.6/dist-packages/flask/app.py&quot;, line 1950, in full_dispatch_request\\n    rv = self.dispatch_request()\\n  File &quot;/usr/local/lib/python3.6/dist-packages/flask/app.py&quot;, line 1936, in dispatch_request\\n    return self.view_functions[rule.endpoint](**req.view_args)\\n  File &quot;/opt/tensorrtserver/listener.py&quot;, line 19, in predict\\n    r = grpc_gcp_caip_pb2.CaipRequest.FromString(request.data)\\ngoogle.protobuf.message.DecodeError: Error parsing message\\u003c/textarea\\u003e\\n  \\u003c/form\\u003e\\n\\u003c/div\\u003e\\n\\u003cdiv class=\\\"explanation\\\"\\u003e\\n  The debugger caught an exception in your WSGI application.  You can now\\n  look at the traceback which led to the error.  \\u003cspan class=\\\"nojavascript\\\"\\u003e\\n  If you enable JavaScript you can also use additional features such as code\\n  execution (if the evalex feature is enabled), automatic pasting of the\\n  exceptions and much more.\\u003c/span\\u003e\\n\\u003c/div\\u003e\\n      \\u003cdiv class=\\\"footer\\\"\\u003e\\n        Brought to you by \\u003cstrong class=\\\"arthur\\\"\\u003eDON'T PANIC\\u003c/strong\\u003e, your\\n        friendly Werkzeug powered traceback interpreter.\\n      \\u003c/div\\u003e\\n    \\u003c/div\\u003e\\n\\n    \\u003cdiv class=\\\"pin-prompt\\\"\\u003e\\n      \\u003cdiv class=\\\"inner\\\"\\u003e\\n        \\u003ch3\\u003eConsole Locked\\u003c/h3\\u003e\\n        \\u003cp\\u003e\\n          The console is locked and needs to be unlocked by entering the PIN.\\n          You can find the PIN printed out on the standard output of your\\n          shell that runs the server.\\n        \\u003cform\\u003e\\n          \\u003cp\\u003ePIN:\\n            \\u003cinput type=text name=pin size=14\\u003e\\n            \\u003cinput type=submit name=btn value=\\\"Confirm Pin\\\"\\u003e\\n        \\u003c/form\\u003e\\n      \\u003c/div\\u003e\\n    \\u003c/div\\u003e\\n  \\u003c/body\\u003e\\n\\u003c/html\\u003e\\n\\n\\u003c!--\\n\\nTraceback (most recent call last):\\n  File \\\"/usr/local/lib/python3.6/dist-packages/flask/app.py\\\", line 2464, in __call__\\n    return self.wsgi_app(environ, start_response)\\n  File \\\"/usr/local/lib/python3.6/dist-packages/flask/app.py\\\", line 2450, in wsgi_app\\n    response = self.handle_exception(e)\\n  File \\\"/usr/local/lib/python3.6/dist-packages/flask/app.py\\\", line 1867, in handle_exception\\n    reraise(exc_type, exc_value, tb)\\n  File \\\"/usr/local/lib/python3.6/dist-packages/flask/_compat.py\\\", line 39, in reraise\\n    raise value\\n  File \\\"/usr/local/lib/python3.6/dist-packages/flask/app.py\\\", line 2447, in wsgi_app\\n    response = self.full_dispatch_request()\\n  File \\\"/usr/local/lib/python3.6/dist-packages/flask/app.py\\\", line 1952, in full_dispatch_request\\n    rv = self.handle_user_exception(e)\\n  File \\\"/usr/local/lib/python3.6/dist-packages/flask/app.py\\\", line 1821, in handle_user_exception\\n    reraise(exc_type, exc_value, tb)\\n  File \\\"/usr/local/lib/python3.6/dist-packages/flask/_compat.py\\\", line 39, in reraise\\n    raise value\\n  File \\\"/usr/local/lib/python3.6/dist-packages/flask/app.py\\\", line 1950, in full_dispatch_request\\n    rv = self.dispatch_request()\\n  File \\\"/usr/local/lib/python3.6/dist-packages/flask/app.py\\\", line 1936, in dispatch_request\\n    return self.view_functions[rule.endpoint](**req.view_args)\\n  File \\\"/opt/tensorrtserver/listener.py\\\", line 19, in predict\\n    r = grpc_gcp_caip_pb2.CaipRequest.FromString(request.data)\\ngoogle.protobuf.message.DecodeError: Error parsing message\\n\\n--\\u003e\\n\",\n",
      "    \"status\": \"INTERNAL\"\n",
      "  }\n",
      "}\n"
     ]
    }
   ],
   "source": [
    "!curl -X POST -k -H \"Content-Type: application/json\" \\\n",
    "    -d caip_trace.msg \\\n",
    "    -H \"Authorization: Bearer `gcloud auth print-access-token`\" \\\n",
    "    \"https://alpha-ml.googleapis.com/v1/projects/tsaikevin-inference/models/triton1/versions/v010:predict\""
   ]
  },
  {
   "cell_type": "code",
   "execution_count": null,
   "metadata": {},
   "outputs": [],
   "source": []
  }
 ],
 "metadata": {
  "kernelspec": {
   "display_name": "Python 3",
   "language": "python",
   "name": "python3"
  },
  "language_info": {
   "codemirror_mode": {
    "name": "ipython",
    "version": 3
   },
   "file_extension": ".py",
   "mimetype": "text/x-python",
   "name": "python",
   "nbconvert_exporter": "python",
   "pygments_lexer": "ipython3",
   "version": "3.6.9"
  }
 },
 "nbformat": 4,
 "nbformat_minor": 4
}
